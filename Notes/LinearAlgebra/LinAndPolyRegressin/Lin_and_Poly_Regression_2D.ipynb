{
 "cells": [
  {
   "cell_type": "markdown",
   "metadata": {},
   "source": [
    "# 2-D Linear and Polynomial Regressions"
   ]
  },
  {
   "cell_type": "markdown",
   "metadata": {},
   "source": [
    "## All the usual imports, +"
   ]
  },
  {
   "cell_type": "code",
   "execution_count": 14,
   "metadata": {},
   "outputs": [],
   "source": [
    "import numpy as np\n",
    "import numpy.matlib\n",
    "import matplotlib.pyplot as plt\n",
    "from mpl_toolkits.mplot3d import Axes3D\n",
    "%matplotlib qt"
   ]
  },
  {
   "cell_type": "markdown",
   "metadata": {},
   "source": [
    "## Create new 2-D data (2 features) - 3 plateaus"
   ]
  },
  {
   "cell_type": "code",
   "execution_count": 2,
   "metadata": {},
   "outputs": [],
   "source": [
    "vals_dict = {'d1':0, 'd2':1, 'd3':2}  #Generate three clouds of data\n",
    "num_d1s = num_d2s = num_d3s = 50\n",
    "# assume 2 features\n",
    "d1_data = np.random.normal(loc=(1.0,1.0), scale=0.5, size=(num_d1s,2))\n",
    "# WHAT ARE loc AND scale HERE?\n",
    "d2_data = np.random.normal(loc=(1.0,3.0), scale=0.5, size=(num_d2s,2))\n",
    "d3_data = np.random.normal(loc=(3.0,1.0), scale=0.5, size=(num_d3s,2))\n",
    "# print(num_d1s)\n",
    "d1_vals = vals_dict['d1']*np.ones((num_d1s,1))\n",
    "d2_vals = vals_dict['d2']*np.ones((num_d2s,1))\n",
    "d3_vals = vals_dict['d3']*np.ones((num_d3s,1))\n",
    "# print(d1_data)"
   ]
  },
  {
   "cell_type": "markdown",
   "metadata": {},
   "source": [
    "## Convert data into usual form for ML"
   ]
  },
  {
   "cell_type": "code",
   "execution_count": 16,
   "metadata": {},
   "outputs": [
    {
     "name": "stdout",
     "output_type": "stream",
     "text": [
      "X shape  (150, 2)\n",
      "aug X shape  (150, 3)\n",
      "y shape  (150, 1)\n"
     ]
    }
   ],
   "source": [
    "X = np.concatenate((d1_data,d2_data,d3_data),axis = 0)#slaps the new arrays onto the thing.\n",
    "print('X shape ',X.shape)\n",
    "# NEED TO AUGMENT WITH ONES!\n",
    "x0_s = np.ones((len(X),1))\n",
    "X_aug = np.concatenate((x0_s,X),axis = 1)\n",
    "print('aug X shape ',X_aug.shape)\n",
    "\n",
    "y = np.concatenate((d1_vals,d2_vals,d3_vals),axis = 0)\n",
    "print('y shape ',y.shape)"
   ]
  },
  {
   "cell_type": "markdown",
   "metadata": {},
   "source": [
    "## Plot Data"
   ]
  },
  {
   "cell_type": "code",
   "execution_count": 17,
   "metadata": {},
   "outputs": [
    {
     "data": {
      "text/plain": [
       "Text(0.5, 0, 'point value')"
      ]
     },
     "execution_count": 17,
     "metadata": {},
     "output_type": "execute_result"
    }
   ],
   "source": [
    "#If you want this to show up as a 3d interactive plot, than you need to rerun the top cell, and then this cell.\n",
    "fig = plt.figure() \n",
    "ax = fig.add_subplot(111, projection='3d')\n",
    "ax.scatter(X[:,0],X[:,1],y,c = 'r')\n",
    "\n",
    "ax.set_xlabel('x1')\n",
    "ax.set_ylabel('x2')\n",
    "ax.set_zlabel('point value')"
   ]
  },
  {
   "cell_type": "markdown",
   "metadata": {},
   "source": [
    "## Direct Parameter Calculation for Linear Model"
   ]
  },
  {
   "cell_type": "code",
   "execution_count": 18,
   "metadata": {},
   "outputs": [
    {
     "name": "stdout",
     "output_type": "stream",
     "text": [
      "theta shape  (3, 1)\n",
      "theta values  [[-0.7283084 ]\n",
      " [ 0.70061415]\n",
      " [ 0.30563789]]\n"
     ]
    }
   ],
   "source": [
    "# now fit model\n",
    "theta_best = np.linalg.inv(X_aug.T.dot(X_aug)).dot(X_aug.T).dot(y)\n",
    "print('theta shape ',theta_best.shape)\n",
    "print('theta values ',theta_best)"
   ]
  },
  {
   "cell_type": "markdown",
   "metadata": {},
   "source": [
    "## Predict result for new data point"
   ]
  },
  {
   "cell_type": "code",
   "execution_count": 27,
   "metadata": {},
   "outputs": [
    {
     "name": "stdout",
     "output_type": "stream",
     "text": [
      "[[0.40913263]]\n"
     ]
    }
   ],
   "source": [
    "# make up a new data point that we want the val for\n",
    "X_pt = np.array([[1.1,1.2]]) # x0 = 1.3, x1 = 1.7\n",
    "X_pt_aug = np.c_[np.ones((1, 1)), X_pt]  # add x0 = 1 to each instance\n",
    "\n",
    "# apply model\n",
    "y_predict = X_pt_aug.dot(theta_best)\n",
    "print(y_predict)\n",
    "# WHAT DID WE WANT?"
   ]
  },
  {
   "cell_type": "markdown",
   "metadata": {},
   "source": [
    "## Plot our model surface"
   ]
  },
  {
   "cell_type": "code",
   "execution_count": 20,
   "metadata": {},
   "outputs": [
    {
     "name": "stdout",
     "output_type": "stream",
     "text": [
      "x1_mg shape  (20, 20)\n",
      "x2_mg shape (20, 20)\n",
      "x1_mg_col shape  (400, 1)\n"
     ]
    }
   ],
   "source": [
    "# need way to generate grid of points to evaluate surface at\n",
    "# solution: meshgrid()\n",
    "num_x1s, num_x2s = (20,20)\n",
    "x1 = np.linspace(0, 4, num_x1s)\n",
    "x2 = np.linspace(0, 4, num_x2s)\n",
    "x1_mg, x2_mg = np.meshgrid(x1, x2)\n",
    "print('x1_mg shape ',x1_mg.shape)\n",
    "print('x2_mg shape',x2_mg.shape)\n",
    "\n",
    "# reshape into column vectors\n",
    "x1_mg_col = x1_mg.reshape(-1,1)\n",
    "x2_mg_col = x2_mg.reshape(-1,1)\n",
    "print('x1_mg_col shape ',x1_mg_col.shape)\n",
    "\n",
    "z_mg_col = np.zeros((x1_mg_col.shape))\n",
    "for n in range(len(z_mg_col)):\n",
    "    # need to augment with one before using to predict\n",
    "    X_pt_aug = np.array([[1,x1_mg_col[n],x2_mg_col[n]]]) \n",
    "    y_predict = X_pt_aug.dot(theta_best)\n",
    "\n",
    "    z_mg_col[n] = y_predict"
   ]
  },
  {
   "cell_type": "code",
   "execution_count": 21,
   "metadata": {},
   "outputs": [
    {
     "data": {
      "text/plain": [
       "Text(0.5, 0, 'point value')"
      ]
     },
     "execution_count": 21,
     "metadata": {},
     "output_type": "execute_result"
    }
   ],
   "source": [
    "fig = plt.figure()\n",
    "ax = fig.add_subplot(111, projection='3d')\n",
    "ax.scatter(x1_mg_col,x2_mg_col,z_mg_col,marker = '.')\n",
    "\n",
    "ax.scatter(X[:,0],X[:,1],y,c = 'r')\n",
    "\n",
    "ax.set_xlabel('x1')\n",
    "ax.set_ylabel('x2')\n",
    "ax.set_zlabel('point value')\n",
    "# WHAT WOULD WE SAY ABOUT THE BIAS/VARIANCE FOR THIS MODEL?"
   ]
  },
  {
   "cell_type": "markdown",
   "metadata": {},
   "source": [
    "## Making Model more Flexible (Polynomial Regression)"
   ]
  },
  {
   "cell_type": "code",
   "execution_count": 9,
   "metadata": {},
   "outputs": [
    {
     "name": "stdout",
     "output_type": "stream",
     "text": [
      "(150, 3)\n",
      "(150, 1)\n",
      "(150, 3)\n",
      "(150, 5)\n"
     ]
    }
   ],
   "source": [
    "# add in higher degree columns\n",
    "print(X_aug.shape)\n",
    "x1_2 = X_aug[:,1]**2\n",
    "x1_2 = x1_2.reshape((-1,1))\n",
    "x2_2 = X_aug[:,2]**2\n",
    "x2_2 = x2_2.reshape((-1,1))\n",
    "print(x1_2.shape)\n",
    "print(X_aug.shape)\n",
    "X_aug_2 = np.concatenate((X_aug,x1_2,x2_2),axis = 1)\n",
    "print(X_aug_2.shape)\n"
   ]
  },
  {
   "cell_type": "code",
   "execution_count": 10,
   "metadata": {},
   "outputs": [
    {
     "name": "stdout",
     "output_type": "stream",
     "text": [
      "theta shape  (5, 1)\n",
      "theta values  [[-0.33756646]\n",
      " [ 0.38981344]\n",
      " [ 0.05233396]\n",
      " [ 0.07970532]\n",
      " [ 0.06610397]]\n"
     ]
    }
   ],
   "source": [
    "# now fit model with the functino we learned in class\n",
    "theta_best = np.linalg.inv(X_aug_2.T.dot(X_aug_2)).dot(X_aug_2.T).dot(y)\n",
    "print('theta shape ',theta_best.shape)\n",
    "print('theta values ',theta_best)"
   ]
  },
  {
   "cell_type": "code",
   "execution_count": 11,
   "metadata": {},
   "outputs": [
    {
     "name": "stdout",
     "output_type": "stream",
     "text": [
      "x1_mg shape  (20, 20)\n",
      "x2_mg shape (20, 20)\n",
      "x1_mg_col shape  (400, 1)\n"
     ]
    }
   ],
   "source": [
    "# replot\n",
    "num_x1s, num_x2s = (20,20)\n",
    "x1 = np.linspace(0, 4, num_x1s)\n",
    "x2 = np.linspace(0, 4, num_x2s)\n",
    "x1_mg, x2_mg = np.meshgrid(x1, x2)\n",
    "print('x1_mg shape ',x1_mg.shape)\n",
    "print('x2_mg shape',x2_mg.shape)\n",
    "\n",
    "# reshape into column vectors\n",
    "x1_mg_col = x1_mg.reshape(-1,1)\n",
    "x2_mg_col = x2_mg.reshape(-1,1)\n",
    "print('x1_mg_col shape ',x1_mg_col.shape)\n",
    "\n",
    "z_mg_col = np.zeros((x1_mg_col.shape))\n",
    "for n in range(len(z_mg_col)):\n",
    "    # need to augment with one before using to predict\n",
    "    X_pt_aug_2 = np.array([1,x1_mg_col[n],x2_mg_col[n],x1_mg_col[n]**2,x2_mg_col[n]**2]) \n",
    "    y_predict = X_pt_aug_2.dot(theta_best)\n",
    "\n",
    "    z_mg_col[n] = y_predict\n",
    " "
   ]
  },
  {
   "cell_type": "code",
   "execution_count": 12,
   "metadata": {},
   "outputs": [
    {
     "data": {
      "text/plain": [
       "Text(0.5, 0, 'point value')"
      ]
     },
     "execution_count": 12,
     "metadata": {},
     "output_type": "execute_result"
    },
    {
     "data": {
      "image/png": "[encoded data removed]",
      "text/plain": [
       "<Figure size 432x288 with 1 Axes>"
      ]
     },
     "metadata": {
      "needs_background": "light"
     },
     "output_type": "display_data"
    }
   ],
   "source": [
    "fig = plt.figure()\n",
    "ax = fig.add_subplot(111, projection='3d')\n",
    "ax.scatter(x1_mg_col,x2_mg_col,z_mg_col,marker = '.')\n",
    "\n",
    "ax.scatter(X[:,0],X[:,1],y,c = 'r')\n",
    "\n",
    "ax.set_xlabel('x1')\n",
    "ax.set_ylabel('x2')\n",
    "ax.set_zlabel('point value')"
   ]
  },
  {
   "cell_type": "code",
   "execution_count": 13,
   "metadata": {},
   "outputs": [],
   "source": [
    "# TRY TO EXTEND TO HIGHER TERMS"
   ]
  }
 ],
 "metadata": {
  "kernelspec": {
   "display_name": "Python 3",
   "language": "python",
   "name": "python3"
  },
  "language_info": {
   "codemirror_mode": {
    "name": "ipython",
    "version": 3
   },
   "file_extension": ".py",
   "mimetype": "text/x-python",
   "name": "python",
   "nbconvert_exporter": "python",
   "pygments_lexer": "ipython3",
   "version": "3.7.4"
  }
 },
 "nbformat": 4,
 "nbformat_minor": 2
}
