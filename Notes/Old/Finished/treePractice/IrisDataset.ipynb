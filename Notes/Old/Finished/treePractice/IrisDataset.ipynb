{
 "cells": [
  {
   "cell_type": "code",
   "execution_count": 174,
   "metadata": {},
   "outputs": [
    {
     "name": "stdout",
     "output_type": "stream",
     "text": [
      "feature matrix shape: (150, 4)\n",
      "answer matrix shape: (150,)\n"
     ]
    }
   ],
   "source": [
    "from sklearn import datasets\n",
    "from sklearn.ensemble import RandomForestClassifier\n",
    "from sklearn.metrics import mean_squared_error\n",
    "import numpy as np\n",
    "import matplotlib.pyplot as plt\n",
    "import warnings\n",
    "warnings.simplefilter(action='ignore', category=FutureWarning)\n",
    "\n",
    "\n",
    "iris = datasets.load_iris()#download our dataset\n",
    "\n",
    "matrix = iris.data#This will be the feature matrix\n",
    "\n",
    "y_values = iris.target#the answer vector. (Doesn't have to be a column vector)\n",
    "\n",
    "print(\"feature matrix shape: \" + str(np.shape(matrix)))#Get the shape of the matrix.\n",
    "print(\"answer matrix shape: \" + str(np.shape(y_values)))#Get shape of answer vector\n"
   ]
  },
  {
   "cell_type": "code",
   "execution_count": 175,
   "metadata": {},
   "outputs": [
    {
     "data": {
      "image/png": "[encoded data removed]",
      "text/plain": [
       "<Figure size 432x288 with 1 Axes>"
      ]
     },
     "metadata": {
      "needs_background": "light"
     },
     "output_type": "display_data"
    }
   ],
   "source": [
    "rnd_clf = RandomForestClassifier()\n",
    "rnd_clf.fit(matrix, y_values)\n",
    "\n",
    "prediction = rnd_clf.predict(matrix)\n",
    "\n",
    "actual_Line = plt.plot(y_values, alpha=1, color=\"b\")\n",
    "predicted_Line = plt.plot(prediction, alpha=0.5, color=\"r\")\n",
    "\n",
    "#NOTE: The line is purple. This is because the prediction is being overlayed on the actual values. We doing good.\n",
    "#There might be a few spikes here and there."
   ]
  },
  {
   "cell_type": "code",
   "execution_count": 176,
   "metadata": {},
   "outputs": [
    {
     "name": "stdout",
     "output_type": "stream",
     "text": [
      "The error is: 0.006666666666666667\n"
     ]
    }
   ],
   "source": [
    "#Let's see how erroneous we are. \n",
    "error = mean_squared_error(y_values, prediction)\n",
    "print(\"The error is: \" + str(error))"
   ]
  }
 ],
 "metadata": {
  "kernelspec": {
   "display_name": "Python 3",
   "language": "python",
   "name": "python3"
  },
  "language_info": {
   "codemirror_mode": {
    "name": "ipython",
    "version": 3
   },
   "file_extension": ".py",
   "mimetype": "text/x-python",
   "name": "python",
   "nbconvert_exporter": "python",
   "pygments_lexer": "ipython3",
   "version": "3.6.9"
  }
 },
 "nbformat": 4,
 "nbformat_minor": 2
}
