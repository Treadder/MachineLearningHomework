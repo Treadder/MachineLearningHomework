{
 "cells": [
  {
   "cell_type": "code",
   "execution_count": 15,
   "metadata": {},
   "outputs": [],
   "source": [
    "# Common imports\n",
    "import numpy as np\n",
    "import os\n",
    "import matplotlib.pyplot as plt"
   ]
  },
  {
   "cell_type": "markdown",
   "metadata": {},
   "source": [
    "# Getting and Examining the Data"
   ]
  },
  {
   "cell_type": "code",
   "execution_count": 16,
   "metadata": {},
   "outputs": [],
   "source": [
    "# Get MNIST Data as one of Scikit-learn's Xsets\n",
    "from sklearn.datasets import fetch_openml\n",
    "mnist = fetch_openml('mnist_784', version=1, cache=True)\n",
    "mnist.target = mnist.target.astype(np.int8) # fetch_openml() returns targets as strings\n",
    "\n"
   ]
  },
  {
   "cell_type": "code",
   "execution_count": 29,
   "metadata": {},
   "outputs": [
    {
     "name": "stdout",
     "output_type": "stream",
     "text": [
      "dict_keys(['data', 'target', 'feature_names', 'DESCR', 'details', 'categories', 'url'])\n",
      "the data type of data is: <class 'numpy.ndarray'>\n",
      "The Shape is: (70000, 784)\n"
     ]
    }
   ],
   "source": [
    "print(mnist.keys())\n",
    "\n",
    "data = mnist[\"data\"]#Take the data out of the dictionary and slap it into an array\n",
    "print(\"the data type of data is: \" + str(type(data)))\n",
    "print(\"The Shape is: \" + str(data.shape))"
   ]
  },
  {
   "cell_type": "code",
   "execution_count": 46,
   "metadata": {},
   "outputs": [
    {
     "name": "stdout",
     "output_type": "stream",
     "text": [
      "the first 10 values of \"target\" are: [5 0 4 1 9 2 1 3 1 4]\n",
      "X shape is: (70000, 784)\n",
      "X type is: <class 'numpy.ndarray'>\n",
      "y shape is: (70000,)\n",
      "y type is:<class 'numpy.ndarray'>\n"
     ]
    }
   ],
   "source": [
    "# Data comes in python dictionary with 2 arrays for X and y (NOTE: x and y are feature and label)\n",
    "mnist[\"data\"], mnist[\"target\"]\n",
    "\n",
    "\n",
    "# WHAT DOES EACH ROW OF mnist[\"X\"] CORRESPOND TO?\n",
    "\n",
    "# WHAT'S IN mnist[\"target\"]?                                               <-----Done!\n",
    "\n",
    "#slice it off at the first 10 indexes and print it off. \n",
    "#Looks like \"target\" holds the image label for the corresponding pixel array in \"data\"\n",
    "target = mnist[\"target\"]\n",
    "print(\"the first 10 values of \\\"target\\\" are: \" + str(target[:10]))   \n",
    "\n",
    "# IS THE DATA ALREADY SORTED BY CLASS?                                               <-------Done!\n",
    "\n",
    "# No, it's just kind of thrown in with corresponging answers in the \"target\" column.\n",
    "\n",
    "# CREATE 2-D ARRAY FOR DATA (NOT IN DICT) CALLED \"X\"                                     <----Done!\n",
    "\n",
    "X = mnist[\"data\"]\n",
    "print(\"X shape is: \" + str(X.shape))\n",
    "print(\"X type is: \" + str(type(X)))\n",
    "\n",
    "# CREATE 1-D ARRAY FOR LABELS (NOT IN DICT) CALLED \"y\"                                 <------Done!\n",
    "\n",
    "y = mnist[\"target\"]\n",
    "print(\"y shape is: \" + str(y.shape))\n",
    "print(\"y type is:\" + str(type(y)))\n",
    "\n",
    "# PRINT TYPE AND SHAPE OF EACH ARRAY                                                <--------Done!\n",
    "\n",
    "# HOW MANY SAMPLES ARE THERE IN DATA?    70,000                                           <-------Done!"
   ]
  },
  {
   "cell_type": "code",
   "execution_count": 47,
   "metadata": {},
   "outputs": [
    {
     "data": {
      "text/plain": [
       "<matplotlib.image.AxesImage at 0x7fde80a5fac8>"
      ]
     },
     "execution_count": 47,
     "metadata": {},
     "output_type": "execute_result"
    },
    {
     "data": {
      "image/png": "[encoded data removed]",
      "text/plain": [
       "<Figure size 432x288 with 1 Axes>"
      ]
     },
     "metadata": {
      "needs_background": "light"
     },
     "output_type": "display_data"
    }
   ],
   "source": [
    "# PICK A RANDOM INDEX AND WRITE CODE TO DISPLAY THE CORRESPONDING FIGURE                         <----Done!\n",
    "\n",
    "num = 69\n",
    "test_index = data[num]   #get some index out of the \"data\" array.\n",
    "test_index = np.reshape(test_index, [28, 28])  #Reshape that into a 28 by 28 array.\n",
    "plt.imshow(test_index)             #Display that bad boy.\n",
    "\n",
    "# Hint: use np.reshape and plt.imshow()                                                          <---Done!\n"
   ]
  },
  {
   "cell_type": "code",
   "execution_count": 48,
   "metadata": {},
   "outputs": [
    {
     "name": "stdout",
     "output_type": "stream",
     "text": [
      "0\n"
     ]
    }
   ],
   "source": [
    "# PRINT OUT CORRESPONDING LABEL                     <-----Done!\n",
    "print(y[num])\n",
    "# DO YOU AGREE WITH IT?      Yeah.                   <-----Done!"
   ]
  },
  {
   "cell_type": "code",
   "execution_count": 54,
   "metadata": {},
   "outputs": [
    {
     "name": "stdout",
     "output_type": "stream",
     "text": [
      "X_train shape is: (60000, 784)\n",
      "X_test shape is: (10000, 784)\n",
      "y_train shape is: (60000,)\n",
      "y_test shape is: (10000,)\n"
     ]
    }
   ],
   "source": [
    "# DIVIDE THE DATA INTO TRAINING AND TEST SETS CALLED:\n",
    "# \"X_train\", \"X_test\", \"y_train\", and \"y_test\"\n",
    "# USE 60,000 SAMPLES FOR train - THE REST FOR TEST\n",
    "\n",
    "X_train = X[:60000]\n",
    "print(\"X_train shape is: \" +  str(X_train.shape))\n",
    "\n",
    "X_test = X[60000:]\n",
    "print(\"X_test shape is: \" +  str(X_test.shape))\n",
    "\n",
    "y_train = y[:60000]\n",
    "print(\"y_train shape is: \" +  str(y_train.shape))\n",
    "\n",
    "y_test = y[60000:]\n",
    "print(\"y_test shape is: \" +  str(y_test.shape))"
   ]
  },
  {
   "cell_type": "markdown",
   "metadata": {},
   "source": [
    "# Building a Binary Classifier to detect '5's and 'Not-5's"
   ]
  },
  {
   "cell_type": "code",
   "execution_count": 57,
   "metadata": {},
   "outputs": [
    {
     "name": "stdout",
     "output_type": "stream",
     "text": [
      "(array([    0,    11,    35, ..., 59968, 59993, 59997]),)\n"
     ]
    }
   ],
   "source": [
    "# MAKE NEW BUNCH OF LABELS - 5'S WHERE THE SAMPLE IS A '5', 0'S WHERE IT DOESN'T\n",
    "# DO FOR BOTH TRAINING AND TEST - CALL THEM \"y_train_5\" and \"y_test_5\"\n",
    "# Hint: use np.where() command\n",
    "\n",
    "y_train_5 = (np.where(y_train == 5))\n",
    "print(y_train_5)\n",
    "\n",
    "\n",
    "\n"
   ]
  },
  {
   "cell_type": "code",
   "execution_count": 37,
   "metadata": {},
   "outputs": [
    {
     "data": {
      "text/plain": [
       "SGDClassifier(alpha=0.0001, average=False, class_weight=None,\n",
       "       early_stopping=False, epsilon=0.1, eta0=0.0, fit_intercept=True,\n",
       "       l1_ratio=0.15, learning_rate='optimal', loss='hinge', max_iter=5,\n",
       "       n_iter=None, n_iter_no_change=5, n_jobs=None, penalty='l2',\n",
       "       power_t=0.5, random_state=42, shuffle=True, tol=-inf,\n",
       "       validation_fraction=0.1, verbose=0, warm_start=False)"
      ]
     },
     "execution_count": 37,
     "metadata": {},
     "output_type": "execute_result"
    }
   ],
   "source": [
    "# use the Stochastic Gradient Descent Classifier from scikit-learn\n",
    "from sklearn.linear_model import SGDClassifier\n",
    "\n",
    "sgd_clf = SGDClassifier(max_iter=5, tol=-np.infty, random_state=42)\n",
    "sgd_clf.fit(X_train, y_train_5)"
   ]
  },
  {
   "cell_type": "code",
   "execution_count": 38,
   "metadata": {},
   "outputs": [
    {
     "name": "stdout",
     "output_type": "stream",
     "text": [
      "[5] 5\n"
     ]
    }
   ],
   "source": [
    "# NOW USE CLASSIFIER TO PREDICT RESULT FOR SAMPLE # 10,000\n",
    "\n",
    "# CHECK IF THIS MATCHES CORRESPONDING LABEL\n"
   ]
  },
  {
   "cell_type": "code",
   "execution_count": 39,
   "metadata": {},
   "outputs": [
    {
     "data": {
      "text/plain": [
       "array([0.9532 , 0.95125, 0.9625 ])"
      ]
     },
     "execution_count": 39,
     "metadata": {},
     "output_type": "execute_result"
    }
   ],
   "source": [
    "# can check performance with cross-validation using built-in scikit-learn\n",
    "from sklearn.model_selection import cross_val_score\n",
    "cross_val_score(sgd_clf, X_train, y_train_5, cv=3, scoring=\"accuracy\")\n",
    "# HOW GOOD IS PERFORMANCE?"
   ]
  },
  {
   "cell_type": "code",
   "execution_count": 41,
   "metadata": {},
   "outputs": [],
   "source": [
    "# Here's a classifier that always returns 0 (so never a 5)\n",
    "from sklearn.base import BaseEstimator\n",
    "class Never5Classifier(BaseEstimator):\n",
    "    def fit(self, X, y=None):\n",
    "        pass\n",
    "    def predict(self, X):\n",
    "        return np.zeros((len(X), 1), dtype=bool)\n",
    "\n",
    "never_5_clf = Never5Classifier()"
   ]
  },
  {
   "cell_type": "code",
   "execution_count": 42,
   "metadata": {},
   "outputs": [
    {
     "data": {
      "text/plain": [
       "array([0.91125, 0.90855, 0.90915])"
      ]
     },
     "execution_count": 42,
     "metadata": {},
     "output_type": "execute_result"
    }
   ],
   "source": [
    "# CHECK THE Never5Classifier's PERFORMANCE USING THE SCIKIT-LEARN CROSSVALIDATION FUNCTION\n",
    "# HOW GOOD IS PERFORMANCE?\n",
    "# WHAT'S GOING ON???"
   ]
  },
  {
   "cell_type": "code",
   "execution_count": null,
   "metadata": {},
   "outputs": [],
   "source": [
    "# back to slides for discussion on Confusion Matrices\n",
    "# IF TIME WRITE YOUR OWN FUNCTION TO CALCULATE MULTI-CLASS CONFUSION MATRIX"
   ]
  }
 ],
 "metadata": {
  "kernelspec": {
   "display_name": "Python 3",
   "language": "python",
   "name": "python3"
  },
  "language_info": {
   "codemirror_mode": {
    "name": "ipython",
    "version": 3
   },
   "file_extension": ".py",
   "mimetype": "text/x-python",
   "name": "python",
   "nbconvert_exporter": "python",
   "pygments_lexer": "ipython3",
   "version": "3.6.10"
  }
 },
 "nbformat": 4,
 "nbformat_minor": 2
}
