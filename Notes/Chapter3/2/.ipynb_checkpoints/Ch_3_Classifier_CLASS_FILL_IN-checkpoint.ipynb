{
 "cells": [
  {
   "cell_type": "code",
   "execution_count": 1,
   "metadata": {},
   "outputs": [],
   "source": [
    "# Common imports\n",
    "import numpy as np\n",
    "import os\n",
    "import matplotlib.pyplot as plt"
   ]
  },
  {
   "cell_type": "markdown",
   "metadata": {},
   "source": [
    "# Getting and Examining the Data"
   ]
  },
  {
   "cell_type": "code",
   "execution_count": 2,
   "metadata": {},
   "outputs": [],
   "source": [
    "# Get MNIST Data as one of Scikit-learn's datasets\n",
    "from sklearn.datasets import fetch_openml\n",
    "mnist = fetch_openml('mnist_784', version=1, cache=True)\n",
    "mnist.target = mnist.target.astype(np.int8) # fetch_openml() returns targets as strings"
   ]
  },
  {
   "cell_type": "code",
   "execution_count": 3,
   "metadata": {
    "scrolled": true
   },
   "outputs": [
    {
     "name": "stdout",
     "output_type": "stream",
     "text": [
      "<class 'numpy.ndarray'>\n",
      "(70000, 784)\n",
      "<class 'numpy.ndarray'>\n",
      "(70000,)\n"
     ]
    }
   ],
   "source": [
    "# Data comes in python dictionary with 2 arrays for X and y   \n",
    "# mnist[\"data\"], and mnist[\"target\"]\n",
    "# WHAT DOES EACH ROW OF mnist[\"X\"] CORRESPOND TO?                          <----Done!             \n",
    "\n",
    "    #Testing code:\n",
    "    \n",
    "    #print(\"row 1 of mnist[\\\"X\\\"]\")\n",
    "    #print(mnist[\"data\"][0])\n",
    "    #Looks like each row of mnist[\"data\"] is an image that's flattened into a line of greyscale pixel values.\n",
    "    \n",
    "# WHAT'S IN mnist[\"target\"]?                                             <----Done!     \n",
    "\n",
    "    #Testing code:\n",
    "\n",
    "    #print(\"row 1 of mnist[\\\"target\\\"]\")\n",
    "    #print(mnist[\"target\"][0])\n",
    "    #Looks like each row of mnist[\"targer\"] is going to be the identity of the num in the same mnist[\"data\"] row number image.\n",
    "\n",
    "# IS THE DATA ALREADY SORTED BY CLASS?                                    <----Done!     \n",
    "\n",
    "    #Testing code:\n",
    "    \n",
    "    #for i in range(0, 10):\n",
    "        #print(mnist[\"target\"][i])\n",
    "    #No, it appears to be random.\n",
    " \n",
    "# CREATE 2-D ARRAY FOR DATA (NOT IN DICT) CALLED \"X\"                             <---Done!\n",
    "X = mnist[\"data\"]\n",
    "\n",
    "# CREATE 1-D ARRAY FOR LABELS (NOT IN DICT) CALLED \"y\"                          <---Done!\n",
    "y = mnist[\"target\"]\n",
    "\n",
    "# PRINT TYPE AND SHAPE OF EACH ARRAY                                           <---Done!\n",
    "print(type(X))\n",
    "print(X.shape)\n",
    "print(type(y))\n",
    "print(y.shape)\n",
    "\n",
    "# HOW MANY SAMPLES ARE THERE IN DATA?                                            <---Done!\n",
    "\n",
    "    #Testing code:\n",
    "    #print(\"the length of X is:\")\n",
    "    #print(len(X))\n",
    "    #Looks like 70000"
   ]
  },
  {
   "cell_type": "code",
   "execution_count": 4,
   "metadata": {},
   "outputs": [
    {
     "name": "stdout",
     "output_type": "stream",
     "text": [
      "(28, 28)\n"
     ]
    },
    {
     "data": {
      "image/png": "[encoded data removed]",
      "text/plain": [
       "<Figure size 432x288 with 1 Axes>"
      ]
     },
     "metadata": {
      "needs_background": "light"
     },
     "output_type": "display_data"
    }
   ],
   "source": [
    "# PICK A RANDOM INDEX AND WRITE CODE TO DISPLAY THE CORRESPONDING FIGURE                  <---Done!\n",
    "# Hint: use np.reshape and plt.imshow()\n",
    "rand_ind = 1008\n",
    "X_1d = X[rand_ind]\n",
    "X_2d = np.reshape(X_1d,(28,28))\n",
    "print(X_2d.shape)\n",
    "plt.imshow(X_2d)\n",
    "plt.show()"
   ]
  },
  {
   "cell_type": "code",
   "execution_count": 5,
   "metadata": {},
   "outputs": [
    {
     "name": "stdout",
     "output_type": "stream",
     "text": [
      "our corresponding label for the image is:\n",
      "4\n"
     ]
    }
   ],
   "source": [
    "# PRINT OUT CORRESPONDING LABEL                                       <---Done!\n",
    "print(\"our corresponding label for the image is:\")\n",
    "print(y[rand_ind])\n",
    "# DO YOU AGREE WITH IT?                                               <---Done!\n",
    "#yeah, I do."
   ]
  },
  {
   "cell_type": "code",
   "execution_count": 6,
   "metadata": {},
   "outputs": [
    {
     "name": "stdout",
     "output_type": "stream",
     "text": [
      "shape of X_train:\n",
      "(60000, 784)\n",
      "\n",
      "shape of X_test:\n",
      "(10000, 784)\n",
      "\n",
      "shape of y_train:\n",
      "(60000,)\n",
      "\n",
      "shape of y_test:\n",
      "(10000,)\n",
      "\n"
     ]
    }
   ],
   "source": [
    "# DIVIDE THE DATA INTO TRAINING AND TEST SETS CALLED:                <----Done!\n",
    "# \"X_train\", \"X_test\", \"y_train\", and \"y_test\"\n",
    "# USE 60,000 SAMPLES FOR train - THE REST FOR TEST\n",
    "X_train = X[:60000,:]\n",
    "X_test = X[60000:,:]\n",
    "y_train = y[:60000]\n",
    "y_test = y[60000:]\n",
    "\n",
    "#Testing Code:\n",
    "print(\"shape of X_train:\")\n",
    "print(np.shape(X_train))\n",
    "print(\"\")\n",
    "\n",
    "print(\"shape of X_test:\")\n",
    "print(np.shape(X_test))\n",
    "print(\"\")\n",
    "\n",
    "print(\"shape of y_train:\")\n",
    "print(np.shape(y_train))\n",
    "print(\"\")\n",
    "\n",
    "print(\"shape of y_test:\")\n",
    "print(np.shape(y_test))\n",
    "print(\"\")"
   ]
  },
  {
   "cell_type": "markdown",
   "metadata": {},
   "source": [
    "# Building a Binary Classifier to detect '5's and 'Not-5's"
   ]
  },
  {
   "cell_type": "code",
   "execution_count": 7,
   "metadata": {
    "scrolled": false
   },
   "outputs": [
    {
     "name": "stdout",
     "output_type": "stream",
     "text": [
      "y_train[i] is 5 and y_train_5[i] is 5\n",
      "y_train[i] is 0 and y_train_5[i] is 0\n",
      "y_train[i] is 4 and y_train_5[i] is 0\n",
      "y_train[i] is 1 and y_train_5[i] is 0\n",
      "y_train[i] is 9 and y_train_5[i] is 0\n",
      "y_train[i] is 2 and y_train_5[i] is 0\n",
      "y_train[i] is 1 and y_train_5[i] is 0\n",
      "y_train[i] is 3 and y_train_5[i] is 0\n",
      "y_train[i] is 1 and y_train_5[i] is 0\n",
      "y_train[i] is 4 and y_train_5[i] is 0\n",
      "y_train[i] is 3 and y_train_5[i] is 0\n",
      "y_train[i] is 5 and y_train_5[i] is 5\n",
      "y_train[i] is 3 and y_train_5[i] is 0\n",
      "y_train[i] is 6 and y_train_5[i] is 0\n",
      "y_train[i] is 1 and y_train_5[i] is 0\n",
      "y_train[i] is 7 and y_train_5[i] is 0\n",
      "y_train[i] is 2 and y_train_5[i] is 0\n",
      "y_train[i] is 8 and y_train_5[i] is 0\n",
      "y_train[i] is 6 and y_train_5[i] is 0\n",
      "y_train[i] is 9 and y_train_5[i] is 0\n",
      "\n",
      "y_test[i] is 7 and y_test_5[i] is 0\n",
      "y_test[i] is 2 and y_test_5[i] is 0\n",
      "y_test[i] is 1 and y_test_5[i] is 0\n",
      "y_test[i] is 0 and y_test_5[i] is 0\n",
      "y_test[i] is 4 and y_test_5[i] is 0\n",
      "y_test[i] is 1 and y_test_5[i] is 0\n",
      "y_test[i] is 4 and y_test_5[i] is 0\n",
      "y_test[i] is 9 and y_test_5[i] is 0\n",
      "y_test[i] is 5 and y_test_5[i] is 5\n",
      "y_test[i] is 9 and y_test_5[i] is 0\n",
      "y_test[i] is 0 and y_test_5[i] is 0\n",
      "y_test[i] is 6 and y_test_5[i] is 0\n",
      "y_test[i] is 9 and y_test_5[i] is 0\n",
      "y_test[i] is 0 and y_test_5[i] is 0\n",
      "y_test[i] is 1 and y_test_5[i] is 0\n",
      "y_test[i] is 5 and y_test_5[i] is 5\n",
      "y_test[i] is 9 and y_test_5[i] is 0\n",
      "y_test[i] is 7 and y_test_5[i] is 0\n",
      "y_test[i] is 3 and y_test_5[i] is 0\n",
      "y_test[i] is 4 and y_test_5[i] is 0\n",
      "\n"
     ]
    }
   ],
   "source": [
    "# MAKE NEW BUNCH OF LABELS - 5'S WHERE THE SAMPLE IS A '5', 0'S WHERE IT DOESN'T                <----Done!\n",
    "# DO FOR BOTH TRAINING AND TEST - CALL THEM \"y_train_5\" and \"y_test_5\"                            <---Done!\n",
    "# Hint: use np.where() command\n",
    "y_train_5 = np.where(y_train == 5,5,0)\n",
    "y_test_5 = np.where(y_test == 5,5,0)\n",
    "\n",
    "#Testing code:\n",
    "for i in range(0, 20):\n",
    "    print(\"y_train[i] is \" + str(y_train[i]) + \" and y_train_5[i] is \" + str(y_train_5[i]))\n",
    "print(\"\")\n",
    "\n",
    "for i in range(0, 20):\n",
    "    print(\"y_test[i] is \" + str(y_test[i]) + \" and y_test_5[i] is \" + str(y_test_5[i]))\n",
    "print(\"\")"
   ]
  },
  {
   "cell_type": "code",
   "execution_count": 8,
   "metadata": {},
   "outputs": [
    {
     "data": {
      "text/plain": [
       "SGDClassifier(alpha=0.0001, average=False, class_weight=None,\n",
       "              early_stopping=False, epsilon=0.1, eta0=0.0, fit_intercept=True,\n",
       "              l1_ratio=0.15, learning_rate='optimal', loss='hinge', max_iter=5,\n",
       "              n_iter_no_change=5, n_jobs=None, penalty='l2', power_t=0.5,\n",
       "              random_state=42, shuffle=True, tol=-inf, validation_fraction=0.1,\n",
       "              verbose=0, warm_start=False)"
      ]
     },
     "execution_count": 8,
     "metadata": {},
     "output_type": "execute_result"
    }
   ],
   "source": [
    "# use the Stochastic Gradient Descent Classifier from scikit-learn            <---Done!\n",
    "#We're training with the label set of: \"If it's a 5, we label it a 5. If it's not a 5, we label it a 0.\"\n",
    "from sklearn.linear_model import SGDClassifier\n",
    "\n",
    "sgd_clf = SGDClassifier(max_iter=5, tol=-np.infty, random_state=42)\n",
    "sgd_clf.fit(X_train, y_train_5)"
   ]
  },
  {
   "cell_type": "code",
   "execution_count": 9,
   "metadata": {},
   "outputs": [
    {
     "name": "stdout",
     "output_type": "stream",
     "text": [
      "the guess was:\n",
      "[5]\n",
      "the label was:\n",
      "5\n"
     ]
    }
   ],
   "source": [
    "# NOW USE CLASSIFIER TO PREDICT RESULT FOR SAMPLE # 10,000                 <---Done!\n",
    "\n",
    "sample_num = 11\n",
    "pred_y = sgd_clf.predict(X_train[sample_num:sample_num+1])\n",
    "print(\"the guess was:\")\n",
    "print(pred_y)#would prob have to convert to int to use. It's a tuple.\n",
    "\n",
    "# CHECK IF THIS MATCHES CORRESPONDING LABEL                             <---Done!\n",
    "print(\"the label was:\")\n",
    "print(y_train_5[sample_num])"
   ]
  },
  {
   "cell_type": "code",
   "execution_count": 10,
   "metadata": {},
   "outputs": [
    {
     "name": "stdout",
     "output_type": "stream",
     "text": [
      "score is:\n",
      "[0.9633  0.95695 0.9146 ]\n"
     ]
    }
   ],
   "source": [
    "# can check performance with cross-validation using built-in scikit-learn                        <---Done!\n",
    "from sklearn.model_selection import cross_val_score\n",
    "score = cross_val_score(sgd_clf, X_train, y_train_5, cv=3, scoring=\"accuracy\")\n",
    "print(\"score is:\")\n",
    "print(score)\n",
    "\n",
    "# HOW GOOD IS PERFORMANCE?                                                                        <----Done!\n",
    "#Well, it looks like it got close to 90% accuracy on each of the three folds. That's cool eh?"
   ]
  },
  {
   "cell_type": "code",
   "execution_count": 11,
   "metadata": {},
   "outputs": [],
   "source": [
    "# Here's a classifier that always returns 0 (so never a 5)                              <---Done!\n",
    "from sklearn.base import BaseEstimator\n",
    "class Never5Classifier(BaseEstimator):\n",
    "    def fit(self, X, y=None):\n",
    "        pass\n",
    "    def predict(self, X):\n",
    "        return np.zeros((len(X), 1), dtype=bool)\n",
    "\n",
    "never_5_clf = Never5Classifier()\n",
    "\n",
    "#Right here they imported the base class for all scikit-learn estimators, and created one that does whhat the first line says."
   ]
  },
  {
   "cell_type": "code",
   "execution_count": 12,
   "metadata": {},
   "outputs": [
    {
     "name": "stdout",
     "output_type": "stream",
     "text": [
      "the accuracy was:\n",
      "[0.91125 0.90855 0.90915]\n"
     ]
    }
   ],
   "source": [
    "# CHECK THE Never5Classifier's PERFORMANCE USING THE SCIKIT-LEARN CROSSVALIDATION FUNCTION            <----Done!\n",
    "print(\"the accuracy was:\")\n",
    "accuracy = cross_val_score(never_5_clf, X_train, y_train_5, cv=3, scoring=\"accuracy\")\n",
    "print(accuracy)\n",
    "\n",
    "# HOW GOOD IS PERFORMANCE?                                                                           <---Done!\n",
    "#I mean, it's looking pretty close to 90% accruate.\n",
    "\n",
    "# WHAT'S GOING ON???                                                                                <---Done!\n",
    "#Well, about 90 percent of the values are not fives. The classivier just has to guess 0 every time to be 90% accurate!\n",
    "\n",
    "# WHAT WOULD WE EXPECT IT TO BE?                                                                    <----Done!\n",
    "#We would expect it to be horrible, but it learned to guess in the wrong way because we gave it nonrepresentative data!"
   ]
  },
  {
   "cell_type": "code",
   "execution_count": 13,
   "metadata": {},
   "outputs": [],
   "source": [
    "# back to slides for discussion on Confusion Matrices                                       <----Done!"
   ]
  },
  {
   "cell_type": "code",
   "execution_count": 14,
   "metadata": {},
   "outputs": [],
   "source": [
    "#Predict values of X using y_train_5                                                          <---Done!\n",
    "\n",
    "from sklearn.model_selection import cross_val_predict\n",
    "\n",
    "y_train_5_pred = cross_val_predict(sgd_clf, X_train, y_train_5, cv=3)#create a prediction array"
   ]
  },
  {
   "cell_type": "code",
   "execution_count": 15,
   "metadata": {},
   "outputs": [
    {
     "name": "stdout",
     "output_type": "stream",
     "text": [
      "the confusion matrix of our predictions generated with our y_train_5 (5 for 5 and 0 for all else) labels is:\n",
      "[[52336  2243]\n",
      " [ 1060  4361]]\n"
     ]
    }
   ],
   "source": [
    "#Make a confusion matrix of our new predictions that we generated from our y_pred stuff.                 <----Done!\n",
    "\n",
    "from sklearn.metrics import confusion_matrix\n",
    "matrix = confusion_matrix(y_train_5, y_train_5_pred)\n",
    "\n",
    "print(\"the confusion matrix of our predictions generated with our y_train_5 (5 for 5 and 0 for all else) labels is:\")\n",
    "print(matrix)"
   ]
  },
  {
   "cell_type": "code",
   "execution_count": 21,
   "metadata": {},
   "outputs": [
    {
     "name": "stdout",
     "output_type": "stream",
     "text": [
      "precision: 0.6603573591762568\n",
      "recall: 0.6603573591762568\n"
     ]
    }
   ],
   "source": [
    "# MANUALLY COMPUTE THE PRECISION AND RECALL                                                             <---Done!   \n",
    "#Docs at https://scikit-learn.org/stable/modules/generated/sklearn.metrics.confusion_matrix.html\n",
    "\n",
    "precision = (matrix[1][1]/(matrix[1][1] + matrix[0][1]))\n",
    "recall = (matrix[1][1]/(matrix[1][1] + matrix[0][1]))\n",
    "\n",
    "print(\"precision: \" + str(precision))\n",
    "print(\"recall: \" + str(recall))"
   ]
  },
  {
   "cell_type": "markdown",
   "metadata": {},
   "source": [
    "# Multi-Class Classifier"
   ]
  },
  {
   "cell_type": "code",
   "execution_count": null,
   "metadata": {},
   "outputs": [],
   "source": [
    "# SGC AUTOMATICALLY DOES OVA\n",
    "random_sample_ind = 10011\n",
    "sgd_clf.fit(X_train, y_train)"
   ]
  },
  {
   "cell_type": "code",
   "execution_count": null,
   "metadata": {},
   "outputs": [],
   "source": [
    "random_digit_data = X_train[random_sample_ind].reshape(1,-1)\n",
    "# NOTE RESHAPE - (What is shape w/o it?)\n",
    "pred_label = sgd_clf.predict(random_digit_data)\n",
    "print(pred_label)\n",
    "# CHECK IF LABEL (IN y_train) AGREES\n",
    "print(y_train[random_sample_ind])"
   ]
  },
  {
   "cell_type": "code",
   "execution_count": null,
   "metadata": {},
   "outputs": [],
   "source": [
    "# WHAT'S THIS SHOWING US?\n",
    "some_digit_scores = sgd_clf.decision_function(random_digit_data)\n",
    "some_digit_scores\n",
    "\n",
    "# HOW'S THIS WORK TO SHOW US ANSWER?\n",
    "np.argmax(some_digit_scores)"
   ]
  },
  {
   "cell_type": "code",
   "execution_count": null,
   "metadata": {},
   "outputs": [],
   "source": [
    "# DO CROSS-VALIDATION\n",
    "cross_val_score(sgd_clf, X_train, y_train, cv=3, scoring=\"accuracy\")"
   ]
  },
  {
   "cell_type": "code",
   "execution_count": null,
   "metadata": {},
   "outputs": [],
   "source": [
    "# PUT IN FEATURE SCALING\n",
    "from sklearn.preprocessing import StandardScaler\n",
    "scaler = StandardScaler()\n",
    "X_train_scaled = scaler.fit_transform(X_train.astype(np.float64))\n",
    "cross_val_score(sgd_clf, X_train_scaled, y_train, cv=3, scoring=\"accuracy\")\n",
    "# HOW'S IT LOOK COMPARED TO NOT HAVING IT?"
   ]
  },
  {
   "cell_type": "code",
   "execution_count": null,
   "metadata": {},
   "outputs": [],
   "source": [
    "# CAN DO RANDOM FOREST INSTEAD\n",
    "from sklearn.ensemble import RandomForestClassifier\n",
    "forest_clf = RandomForestClassifier(n_estimators=10, random_state=42)\n",
    "forest_clf.fit(X_train, y_train)"
   ]
  },
  {
   "cell_type": "code",
   "execution_count": null,
   "metadata": {},
   "outputs": [],
   "source": [
    "forest_clf.predict_proba(random_digit_data)"
   ]
  },
  {
   "cell_type": "code",
   "execution_count": null,
   "metadata": {},
   "outputs": [],
   "source": [
    "# DO CROSS-VALIDATION\n",
    "cross_val_score(forest_clf, X_train, y_train, cv=3, scoring=\"accuracy\")"
   ]
  },
  {
   "cell_type": "code",
   "execution_count": null,
   "metadata": {},
   "outputs": [],
   "source": [
    "y_train_pred = cross_val_predict(forest_clf, X_train_scaled, y_train, cv=3)\n",
    "print(y_train_pred.shape)\n",
    "conf_mx = confusion_matrix(y_train, y_train_pred)\n",
    "conf_mx"
   ]
  },
  {
   "cell_type": "code",
   "execution_count": null,
   "metadata": {},
   "outputs": [],
   "source": [
    "def plot_confusion_matrix(matrix):\n",
    "    \"\"\"If you prefer color and a colorbar\"\"\"\n",
    "    fig = plt.figure(figsize=(8,8))\n",
    "    ax = fig.add_subplot(111)\n",
    "    cax = ax.matshow(matrix)\n",
    "    fig.colorbar(cax)"
   ]
  },
  {
   "cell_type": "code",
   "execution_count": null,
   "metadata": {},
   "outputs": [],
   "source": [
    "plt.matshow(conf_mx, cmap=plt.cm.gray)\n",
    "plt.show()\n",
    "\n",
    "#THat diagonal line is way too bright because it's so high. We gotta get rid of it to see the other stuff going on"
   ]
  },
  {
   "cell_type": "code",
   "execution_count": null,
   "metadata": {},
   "outputs": [],
   "source": [
    "row_sums = conf_mx.sum(axis=1, keepdims=True)\n",
    "print(row_sums)\n",
    "norm_conf_mx = conf_mx / row_sums\n",
    "print(norm_conf_mx)\n"
   ]
  },
  {
   "cell_type": "code",
   "execution_count": null,
   "metadata": {},
   "outputs": [],
   "source": [
    "np.fill_diagonal(norm_conf_mx, 0)    #Fill diagonal with zeroes\n",
    "# WHY BLOW AWAY THE DIAGONAL?\n",
    "plt.matshow(norm_conf_mx, cmap=plt.cm.gray)\n",
    "plt.show()\n",
    "# WHAT GETS CONFUSED MOST?    \n",
    "\n",
    "\n",
    "#The I index, or the Rows are the actual values, and the J index or the Columns is the guesses."
   ]
  },
  {
   "cell_type": "code",
   "execution_count": null,
   "metadata": {},
   "outputs": [],
   "source": []
  }
 ],
 "metadata": {
  "kernelspec": {
   "display_name": "Python 3",
   "language": "python",
   "name": "python3"
  },
  "language_info": {
   "codemirror_mode": {
    "name": "ipython",
    "version": 3
   },
   "file_extension": ".py",
   "mimetype": "text/x-python",
   "name": "python",
   "nbconvert_exporter": "python",
   "pygments_lexer": "ipython3",
   "version": "3.7.4"
  }
 },
 "nbformat": 4,
 "nbformat_minor": 2
}
