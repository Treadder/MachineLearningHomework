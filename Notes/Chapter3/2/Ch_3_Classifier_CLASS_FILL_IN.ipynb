{
 "cells": [
  {
   "cell_type": "code",
   "execution_count": 17,
   "metadata": {},
   "outputs": [],
   "source": [
    "# Common imports\n",
    "import numpy as np\n",
    "import os\n",
    "import matplotlib.pyplot as plt"
   ]
  },
  {
   "cell_type": "markdown",
   "metadata": {},
   "source": [
    "# Getting and Examining the Data"
   ]
  },
  {
   "cell_type": "code",
   "execution_count": 18,
   "metadata": {},
   "outputs": [],
   "source": [
    "# Get MNIST Data as one of Scikit-learn's datasets\n",
    "from sklearn.datasets import fetch_openml\n",
    "mnist = fetch_openml('mnist_784', version=1, cache=True)\n",
    "mnist.target = mnist.target.astype(np.int8) # fetch_openml() returns targets as strings"
   ]
  },
  {
   "cell_type": "code",
   "execution_count": 19,
   "metadata": {},
   "outputs": [
    {
     "name": "stdout",
     "output_type": "stream",
     "text": [
      "<class 'numpy.ndarray'>\n",
      "(70000, 784)\n",
      "<class 'numpy.ndarray'>\n",
      "(70000,)\n"
     ]
    }
   ],
   "source": [
    "# Data comes in python dictionary with 2 arrays for X and y   \n",
    "mnist[\"data\"], mnist[\"target\"]\n",
    "# WHAT DOES EACH ROW OF mnist[\"X\"] CORRESPOND TO?\n",
    "# WHAT'S IN mnist[\"target\"]?\n",
    "\n",
    "# IS THE DATA ALREADY SORTED BY CLASS?\n",
    "# No\n",
    "# CREATE 2-D ARRAY FOR DATA (NOT IN DICT) CALLED \"X\"\n",
    "X = mnist[\"data\"]\n",
    "\n",
    "# CREATE 1-D ARRAY FOR LABELS (NOT IN DICT) CALLED \"y\"\n",
    "y = mnist[\"target\"]\n",
    "\n",
    "# PRINT TYPE AND SHAPE OF EACH ARRAY\n",
    "print(type(X))\n",
    "print(X.shape)\n",
    "print(type(y))\n",
    "print(y.shape)\n",
    "\n",
    "# HOW MANY SAMPLES ARE THERE IN DATA?"
   ]
  },
  {
   "cell_type": "code",
   "execution_count": 20,
   "metadata": {},
   "outputs": [
    {
     "name": "stdout",
     "output_type": "stream",
     "text": [
      "(28, 28)\n"
     ]
    },
    {
     "data": {
      "image/png": "[encoded data removed]",
      "text/plain": [
       "<Figure size 432x288 with 1 Axes>"
      ]
     },
     "metadata": {
      "needs_background": "light"
     },
     "output_type": "display_data"
    }
   ],
   "source": [
    "# PICK A RANDOM INDEX AND WRITE CODE TO DISPLAY THE CORRESPONDING FIGURE\n",
    "# Hint: use np.reshape and plt.imshow()\n",
    "rand_ind = 1008\n",
    "X_1d = X[rand_ind]\n",
    "X_2d = np.reshape(X_1d,(28,28))\n",
    "print(X_2d.shape)\n",
    "plt.imshow(X_2d)\n",
    "plt.show()"
   ]
  },
  {
   "cell_type": "code",
   "execution_count": 21,
   "metadata": {},
   "outputs": [
    {
     "name": "stdout",
     "output_type": "stream",
     "text": [
      "4\n"
     ]
    }
   ],
   "source": [
    "# PRINT OUT CORRESPONDING LABEL\n",
    "print(y[rand_ind])\n",
    "# DO YOU AGREE WITH IT?"
   ]
  },
  {
   "cell_type": "code",
   "execution_count": 22,
   "metadata": {},
   "outputs": [],
   "source": [
    "# DIVIDE THE DATA INTO TRAINING AND TEST SETS CALLED:\n",
    "# \"X_train\", \"X_test\", \"y_train\", and \"y_test\"\n",
    "# USE 60,000 SAMPLES FOR train - THE REST FOR TEST\n",
    "X_train = X[:60000,:]\n",
    "X_test = X[60000:,:]\n",
    "y_train = y[:60000]\n",
    "y_test = y[60000:]"
   ]
  },
  {
   "cell_type": "markdown",
   "metadata": {},
   "source": [
    "# Building a Binary Classifier to detect '5's and 'Not-5's"
   ]
  },
  {
   "cell_type": "code",
   "execution_count": 23,
   "metadata": {},
   "outputs": [],
   "source": [
    "# MAKE NEW BUNCH OF LABELS - 5'S WHERE THE SAMPLE IS A '5', 0'S WHERE IT DOESN'T\n",
    "# DO FOR BOTH TRAINING AND TEST - CALL THEM \"y_train_5\" and \"y_test_5\"\n",
    "# Hint: use np.where() command\n",
    "y_train_5 = np.where(y_train == 5,5,0)\n",
    "y_test_5 = np.where(y_train == 5,5,0)\n"
   ]
  },
  {
   "cell_type": "code",
   "execution_count": 24,
   "metadata": {},
   "outputs": [
    {
     "data": {
      "text/plain": [
       "SGDClassifier(alpha=0.0001, average=False, class_weight=None,\n",
       "              early_stopping=False, epsilon=0.1, eta0=0.0, fit_intercept=True,\n",
       "              l1_ratio=0.15, learning_rate='optimal', loss='hinge', max_iter=5,\n",
       "              n_iter_no_change=5, n_jobs=None, penalty='l2', power_t=0.5,\n",
       "              random_state=42, shuffle=True, tol=-inf, validation_fraction=0.1,\n",
       "              verbose=0, warm_start=False)"
      ]
     },
     "execution_count": 24,
     "metadata": {},
     "output_type": "execute_result"
    }
   ],
   "source": [
    "# use the Stochastic Gradient Descent Classifier from scikit-learn\n",
    "from sklearn.linear_model import SGDClassifier\n",
    "\n",
    "sgd_clf = SGDClassifier(max_iter=5, tol=-np.infty, random_state=42)\n",
    "sgd_clf.fit(X_train, y_train_5)"
   ]
  },
  {
   "cell_type": "code",
   "execution_count": 25,
   "metadata": {},
   "outputs": [
    {
     "name": "stdout",
     "output_type": "stream",
     "text": [
      "[5] 5\n"
     ]
    }
   ],
   "source": [
    "# NOW USE CLASSIFIER TO PREDICT RESULT FOR SAMPLE # 10,000\n",
    "sample_num = 11\n",
    "pred_y = sgd_clf.predict(X_train[sample_num:sample_num+1])\n",
    "# CHECK IF THIS MATCHES CORRESPONDING LABEL\n",
    "print(pred_y,y_train_5[sample_num])"
   ]
  },
  {
   "cell_type": "code",
   "execution_count": 26,
   "metadata": {},
   "outputs": [
    {
     "data": {
      "text/plain": [
       "array([0.9633 , 0.95695, 0.9146 ])"
      ]
     },
     "execution_count": 26,
     "metadata": {},
     "output_type": "execute_result"
    }
   ],
   "source": [
    "# can check performance with cross-validation using built-in scikit-learn\n",
    "from sklearn.model_selection import cross_val_score\n",
    "cross_val_score(sgd_clf, X_train, y_train_5, cv=3, scoring=\"accuracy\")\n",
    "# HOW GOOD IS PERFORMANCE?"
   ]
  },
  {
   "cell_type": "code",
   "execution_count": 27,
   "metadata": {},
   "outputs": [],
   "source": [
    "# Here's a classifier that always returns 0 (so never a 5)\n",
    "from sklearn.base import BaseEstimator\n",
    "class Never5Classifier(BaseEstimator):\n",
    "    def fit(self, X, y=None):\n",
    "        pass\n",
    "    def predict(self, X):\n",
    "        return np.zeros((len(X), 1), dtype=bool)\n",
    "\n",
    "never_5_clf = Never5Classifier()"
   ]
  },
  {
   "cell_type": "code",
   "execution_count": 28,
   "metadata": {},
   "outputs": [
    {
     "data": {
      "text/plain": [
       "array([0.91125, 0.90855, 0.90915])"
      ]
     },
     "execution_count": 28,
     "metadata": {},
     "output_type": "execute_result"
    }
   ],
   "source": [
    "# CHECK THE Never5Classifier's PERFORMANCE USING THE SCIKIT-LEARN CROSSVALIDATION FUNCTION\n",
    "cross_val_score(never_5_clf, X_train, y_train_5, cv=3, scoring=\"accuracy\")\n",
    "# HOW GOOD IS PERFORMANCE?\n",
    "# WHAT'S GOING ON???\n",
    "\n",
    "# WHAT WOULD WE EXPECT IT TO BE?"
   ]
  },
  {
   "cell_type": "code",
   "execution_count": 29,
   "metadata": {},
   "outputs": [],
   "source": [
    "# back to slides for discussion on Confusion Matrices\n"
   ]
  },
  {
   "cell_type": "code",
   "execution_count": 30,
   "metadata": {},
   "outputs": [],
   "source": [
    "from sklearn.model_selection import cross_val_predict\n",
    "\n",
    "y_train_pred = cross_val_predict(sgd_clf, X_train, y_train_5, cv=3)"
   ]
  },
  {
   "cell_type": "code",
   "execution_count": 31,
   "metadata": {},
   "outputs": [
    {
     "name": "stdout",
     "output_type": "stream",
     "text": [
      "[[52336  2243]\n",
      " [ 1060  4361]]\n"
     ]
    }
   ],
   "source": [
    "from sklearn.metrics import confusion_matrix\n",
    "\n",
    "matrix = confusion_matrix(y_train_5, y_train_pred)\n",
    "\n",
    "print(matrix)"
   ]
  },
  {
   "cell_type": "code",
   "execution_count": 55,
   "metadata": {},
   "outputs": [
    {
     "ename": "TypeError",
     "evalue": "'int' object is not subscriptable",
     "output_type": "error",
     "traceback": [
      "\u001b[0;31m---------------------------------------------------------------------------\u001b[0m",
      "\u001b[0;31mTypeError\u001b[0m                                 Traceback (most recent call last)",
      "\u001b[0;32m<ipython-input-55-a7ef975bfe6b>\u001b[0m in \u001b[0;36m<module>\u001b[0;34m\u001b[0m\n\u001b[1;32m      2\u001b[0m \u001b[0;31m#Docs at https://scikit-learn.org/stable/modules/generated/sklearn.metrics.confusion_matrix.html\u001b[0m\u001b[0;34m\u001b[0m\u001b[0;34m\u001b[0m\u001b[0;34m\u001b[0m\u001b[0m\n\u001b[1;32m      3\u001b[0m \u001b[0;34m\u001b[0m\u001b[0m\n\u001b[0;32m----> 4\u001b[0;31m \u001b[0mprecision\u001b[0m \u001b[0;34m=\u001b[0m \u001b[0;34m(\u001b[0m\u001b[0mmatrix\u001b[0m\u001b[0;34m[\u001b[0m\u001b[0;36m1\u001b[0m\u001b[0;34m[\u001b[0m\u001b[0;36m1\u001b[0m\u001b[0;34m]\u001b[0m\u001b[0;34m]\u001b[0m\u001b[0;34m/\u001b[0m\u001b[0;34m(\u001b[0m\u001b[0mmatrix\u001b[0m\u001b[0;34m[\u001b[0m\u001b[0;36m1\u001b[0m\u001b[0;34m[\u001b[0m\u001b[0;36m1\u001b[0m\u001b[0;34m]\u001b[0m\u001b[0;34m]\u001b[0m \u001b[0;34m+\u001b[0m \u001b[0mmatrix\u001b[0m\u001b[0;34m[\u001b[0m\u001b[0;36m0\u001b[0m\u001b[0;34m[\u001b[0m\u001b[0;36m1\u001b[0m\u001b[0;34m]\u001b[0m\u001b[0;34m]\u001b[0m\u001b[0;34m)\u001b[0m\u001b[0;34m)\u001b[0m\u001b[0;34m\u001b[0m\u001b[0;34m\u001b[0m\u001b[0m\n\u001b[0m\u001b[1;32m      5\u001b[0m \u001b[0mRecall\u001b[0m \u001b[0;34m=\u001b[0m \u001b[0;34m(\u001b[0m\u001b[0mmatrix\u001b[0m\u001b[0;34m[\u001b[0m\u001b[0;36m1\u001b[0m\u001b[0;34m[\u001b[0m\u001b[0;36m1\u001b[0m\u001b[0;34m]\u001b[0m\u001b[0;34m]\u001b[0m\u001b[0;34m/\u001b[0m\u001b[0;34m(\u001b[0m\u001b[0mmatrix\u001b[0m\u001b[0;34m[\u001b[0m\u001b[0;36m1\u001b[0m\u001b[0;34m[\u001b[0m\u001b[0;36m1\u001b[0m\u001b[0;34m]\u001b[0m\u001b[0;34m]\u001b[0m \u001b[0;34m+\u001b[0m \u001b[0mmatrix\u001b[0m\u001b[0;34m[\u001b[0m\u001b[0;36m0\u001b[0m\u001b[0;34m[\u001b[0m\u001b[0;36m1\u001b[0m\u001b[0;34m]\u001b[0m\u001b[0;34m]\u001b[0m\u001b[0;34m)\u001b[0m\u001b[0;34m)\u001b[0m\u001b[0;34m\u001b[0m\u001b[0;34m\u001b[0m\u001b[0m\n",
      "\u001b[0;31mTypeError\u001b[0m: 'int' object is not subscriptable"
     ]
    }
   ],
   "source": [
    "# MANUALLY COMPUTE THE PRECISION AND RECALL\n",
    "#Docs at https://scikit-learn.org/stable/modules/generated/sklearn.metrics.confusion_matrix.html\n",
    "\n",
    "precision = (matrix[1[1]]/(matrix[1[1]] + matrix[0[1]]))\n",
    "Recall = (matrix[1[1]]/(matrix[1[1]] + matrix[0[1]]))\n"
   ]
  },
  {
   "cell_type": "markdown",
   "metadata": {},
   "source": [
    "# Multi-Class Classifier"
   ]
  },
  {
   "cell_type": "code",
   "execution_count": 32,
   "metadata": {},
   "outputs": [
    {
     "data": {
      "text/plain": [
       "SGDClassifier(alpha=0.0001, average=False, class_weight=None,\n",
       "              early_stopping=False, epsilon=0.1, eta0=0.0, fit_intercept=True,\n",
       "              l1_ratio=0.15, learning_rate='optimal', loss='hinge', max_iter=5,\n",
       "              n_iter_no_change=5, n_jobs=None, penalty='l2', power_t=0.5,\n",
       "              random_state=42, shuffle=True, tol=-inf, validation_fraction=0.1,\n",
       "              verbose=0, warm_start=False)"
      ]
     },
     "execution_count": 32,
     "metadata": {},
     "output_type": "execute_result"
    }
   ],
   "source": [
    "# SGC AUTOMATICALLY DOES OVA\n",
    "random_sample_ind = 10011\n",
    "sgd_clf.fit(X_train, y_train)"
   ]
  },
  {
   "cell_type": "code",
   "execution_count": 35,
   "metadata": {},
   "outputs": [
    {
     "name": "stdout",
     "output_type": "stream",
     "text": [
      "[3]\n",
      "3\n"
     ]
    }
   ],
   "source": [
    "random_digit_data = X_train[random_sample_ind].reshape(1,-1)\n",
    "# NOTE RESHAPE - (What is shape w/o it?)\n",
    "pred_label = sgd_clf.predict(random_digit_data)\n",
    "print(pred_label)\n",
    "# CHECK IF LABEL (IN y_train) AGREES\n",
    "print(y_train[random_sample_ind])"
   ]
  },
  {
   "cell_type": "code",
   "execution_count": 36,
   "metadata": {},
   "outputs": [
    {
     "data": {
      "text/plain": [
       "3"
      ]
     },
     "execution_count": 36,
     "metadata": {},
     "output_type": "execute_result"
    }
   ],
   "source": [
    "# WHAT'S THIS SHOWING US?\n",
    "some_digit_scores = sgd_clf.decision_function(random_digit_data)\n",
    "some_digit_scores\n",
    "\n",
    "# HOW'S THIS WORK TO SHOW US ANSWER?\n",
    "np.argmax(some_digit_scores)"
   ]
  },
  {
   "cell_type": "code",
   "execution_count": 47,
   "metadata": {},
   "outputs": [
    {
     "data": {
      "text/plain": [
       "array([0.86682663, 0.80704035, 0.87778167])"
      ]
     },
     "execution_count": 47,
     "metadata": {},
     "output_type": "execute_result"
    }
   ],
   "source": [
    "# DO CROSS-VALIDATION\n",
    "cross_val_score(sgd_clf, X_train, y_train, cv=3, scoring=\"accuracy\")"
   ]
  },
  {
   "cell_type": "code",
   "execution_count": 44,
   "metadata": {},
   "outputs": [
    {
     "data": {
      "text/plain": [
       "array([0.90461908, 0.90654533, 0.91273691])"
      ]
     },
     "execution_count": 44,
     "metadata": {},
     "output_type": "execute_result"
    }
   ],
   "source": [
    "# PUT IN FEATURE SCALING\n",
    "from sklearn.preprocessing import StandardScaler\n",
    "scaler = StandardScaler()\n",
    "X_train_scaled = scaler.fit_transform(X_train.astype(np.float64))\n",
    "cross_val_score(sgd_clf, X_train_scaled, y_train, cv=3, scoring=\"accuracy\")\n",
    "# HOW'S IT LOOK COMPARED TO NOT HAVING IT?"
   ]
  },
  {
   "cell_type": "code",
   "execution_count": 45,
   "metadata": {},
   "outputs": [
    {
     "data": {
      "text/plain": [
       "RandomForestClassifier(bootstrap=True, class_weight=None, criterion='gini',\n",
       "                       max_depth=None, max_features='auto', max_leaf_nodes=None,\n",
       "                       min_impurity_decrease=0.0, min_impurity_split=None,\n",
       "                       min_samples_leaf=1, min_samples_split=2,\n",
       "                       min_weight_fraction_leaf=0.0, n_estimators=10,\n",
       "                       n_jobs=None, oob_score=False, random_state=42, verbose=0,\n",
       "                       warm_start=False)"
      ]
     },
     "execution_count": 45,
     "metadata": {},
     "output_type": "execute_result"
    }
   ],
   "source": [
    "# CAN DO RANDOM FOREST INSTEAD\n",
    "from sklearn.ensemble import RandomForestClassifier\n",
    "forest_clf = RandomForestClassifier(n_estimators=10, random_state=42)\n",
    "forest_clf.fit(X_train, y_train)"
   ]
  },
  {
   "cell_type": "code",
   "execution_count": 46,
   "metadata": {},
   "outputs": [
    {
     "data": {
      "text/plain": [
       "array([[0., 0., 0., 1., 0., 0., 0., 0., 0., 0.]])"
      ]
     },
     "execution_count": 46,
     "metadata": {},
     "output_type": "execute_result"
    }
   ],
   "source": [
    "forest_clf.predict_proba(random_digit_data)"
   ]
  },
  {
   "cell_type": "code",
   "execution_count": 49,
   "metadata": {},
   "outputs": [
    {
     "data": {
      "text/plain": [
       "array([0.94116177, 0.93949697, 0.94374156])"
      ]
     },
     "execution_count": 49,
     "metadata": {},
     "output_type": "execute_result"
    }
   ],
   "source": [
    "# DO CROSS-VALIDATION\n",
    "cross_val_score(forest_clf, X_train, y_train, cv=3, scoring=\"accuracy\")"
   ]
  },
  {
   "cell_type": "code",
   "execution_count": 50,
   "metadata": {},
   "outputs": [
    {
     "name": "stdout",
     "output_type": "stream",
     "text": [
      "(60000,)\n"
     ]
    },
    {
     "data": {
      "text/plain": [
       "array([[5801,    3,   18,    5,    8,   17,   33,    2,   33,    3],\n",
       "       [   1, 6622,   32,   16,   11,    9,   10,   13,   17,   11],\n",
       "       [  55,   22, 5641,   39,   41,   11,   31,   55,   51,   12],\n",
       "       [  32,   19,  128, 5647,   11,  102,   11,   50,   97,   34],\n",
       "       [  19,   19,   25,   10, 5528,   12,   39,   18,   29,  143],\n",
       "       [  44,   24,   28,  176,   29, 4969,   56,   13,   50,   32],\n",
       "       [  60,   17,   32,    5,   31,   56, 5691,    0,   23,    3],\n",
       "       [  10,   32,   97,   33,   60,    6,    3, 5919,   16,   89],\n",
       "       [  32,   62,   93,  131,   48,  101,   32,   19, 5263,   70],\n",
       "       [  40,   18,   36,   84,  168,   40,    7,   98,   56, 5402]])"
      ]
     },
     "execution_count": 50,
     "metadata": {},
     "output_type": "execute_result"
    }
   ],
   "source": [
    "y_train_pred = cross_val_predict(forest_clf, X_train_scaled, y_train, cv=3)\n",
    "print(y_train_pred.shape)\n",
    "conf_mx = confusion_matrix(y_train, y_train_pred)\n",
    "conf_mx"
   ]
  },
  {
   "cell_type": "code",
   "execution_count": 51,
   "metadata": {},
   "outputs": [],
   "source": [
    "def plot_confusion_matrix(matrix):\n",
    "    \"\"\"If you prefer color and a colorbar\"\"\"\n",
    "    fig = plt.figure(figsize=(8,8))\n",
    "    ax = fig.add_subplot(111)\n",
    "    cax = ax.matshow(matrix)\n",
    "    fig.colorbar(cax)"
   ]
  },
  {
   "cell_type": "code",
   "execution_count": 52,
   "metadata": {},
   "outputs": [
    {
     "data": {
      "image/png": "[encoded data removed]",
      "text/plain": [
       "<Figure size 288x288 with 1 Axes>"
      ]
     },
     "metadata": {
      "needs_background": "light"
     },
     "output_type": "display_data"
    }
   ],
   "source": [
    "plt.matshow(conf_mx, cmap=plt.cm.gray)\n",
    "plt.show()\n",
    "\n",
    "#THat diagonal line is way too bright because it's so high. We gotta get rid of it to see the other stuff going on"
   ]
  },
  {
   "cell_type": "code",
   "execution_count": 53,
   "metadata": {},
   "outputs": [
    {
     "name": "stdout",
     "output_type": "stream",
     "text": [
      "[[5923]\n",
      " [6742]\n",
      " [5958]\n",
      " [6131]\n",
      " [5842]\n",
      " [5421]\n",
      " [5918]\n",
      " [6265]\n",
      " [5851]\n",
      " [5949]]\n",
      "[[9.79402330e-01 5.06500084e-04 3.03900051e-03 8.44166807e-04\n",
      "  1.35066689e-03 2.87016715e-03 5.57150093e-03 3.37666723e-04\n",
      "  5.57150093e-03 5.06500084e-04]\n",
      " [1.48323939e-04 9.82201127e-01 4.74636606e-03 2.37318303e-03\n",
      "  1.63156333e-03 1.33491546e-03 1.48323939e-03 1.92821121e-03\n",
      "  2.52150697e-03 1.63156333e-03]\n",
      " [9.23128567e-03 3.69251427e-03 9.46794226e-01 6.54582075e-03\n",
      "  6.88150386e-03 1.84625713e-03 5.20308828e-03 9.23128567e-03\n",
      "  8.55991944e-03 2.01409869e-03]\n",
      " [5.21937694e-03 3.09900506e-03 2.08775077e-02 9.21056924e-01\n",
      "  1.79416082e-03 1.66367640e-02 1.79416082e-03 8.15527646e-03\n",
      "  1.58212363e-02 5.54558800e-03]\n",
      " [3.25231085e-03 3.25231085e-03 4.27935638e-03 1.71174255e-03\n",
      "  9.46251284e-01 2.05409106e-03 6.67579596e-03 3.08113660e-03\n",
      "  4.96405341e-03 2.44779185e-02]\n",
      " [8.11658366e-03 4.42722745e-03 5.16509869e-03 3.24663346e-02\n",
      "  5.34956650e-03 9.16620550e-01 1.03301974e-02 2.39808153e-03\n",
      "  9.22339052e-03 5.90296993e-03]\n",
      " [1.01385603e-02 2.87259209e-03 5.40723217e-03 8.44880027e-04\n",
      "  5.23825617e-03 9.46265630e-03 9.61642447e-01 0.00000000e+00\n",
      "  3.88644812e-03 5.06928016e-04]\n",
      " [1.59616919e-03 5.10774142e-03 1.54828412e-02 5.26735834e-03\n",
      "  9.57701516e-03 9.57701516e-04 4.78850758e-04 9.44772546e-01\n",
      "  2.55387071e-03 1.42059058e-02]\n",
      " [5.46915057e-03 1.05964792e-02 1.58947189e-02 2.23893352e-02\n",
      "  8.20372586e-03 1.72620065e-02 5.46915057e-03 3.24730815e-03\n",
      "  8.99504358e-01 1.19637669e-02]\n",
      " [6.72381913e-03 3.02571861e-03 6.05143722e-03 1.41200202e-02\n",
      "  2.82400403e-02 6.72381913e-03 1.17666835e-03 1.64733569e-02\n",
      "  9.41334678e-03 9.08051773e-01]]\n"
     ]
    }
   ],
   "source": [
    "row_sums = conf_mx.sum(axis=1, keepdims=True)\n",
    "print(row_sums)\n",
    "norm_conf_mx = conf_mx / row_sums\n",
    "print(norm_conf_mx)\n"
   ]
  },
  {
   "cell_type": "code",
   "execution_count": 54,
   "metadata": {},
   "outputs": [
    {
     "data": {
      "image/png": "[encoded data removed]",
      "text/plain": [
       "<Figure size 288x288 with 1 Axes>"
      ]
     },
     "metadata": {
      "needs_background": "light"
     },
     "output_type": "display_data"
    }
   ],
   "source": [
    "np.fill_diagonal(norm_conf_mx, 0)    #Fill diagonal with zeroes\n",
    "# WHY BLOW AWAY THE DIAGONAL?\n",
    "plt.matshow(norm_conf_mx, cmap=plt.cm.gray)\n",
    "plt.show()\n",
    "# WHAT GETS CONFUSED MOST?    \n",
    "\n",
    "\n",
    "#The I index, or the Rows are the actual values, and the J index or the Columns is the guesses."
   ]
  },
  {
   "cell_type": "code",
   "execution_count": null,
   "metadata": {},
   "outputs": [],
   "source": []
  }
 ],
 "metadata": {
  "kernelspec": {
   "display_name": "Python 3",
   "language": "python",
   "name": "python3"
  },
  "language_info": {
   "codemirror_mode": {
    "name": "ipython",
    "version": 3
   },
   "file_extension": ".py",
   "mimetype": "text/x-python",
   "name": "python",
   "nbconvert_exporter": "python",
   "pygments_lexer": "ipython3",
   "version": "3.6.9"
  }
 },
 "nbformat": 4,
 "nbformat_minor": 2
}
