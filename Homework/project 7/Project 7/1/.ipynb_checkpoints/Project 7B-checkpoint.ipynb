{
 "cells": [
  {
   "cell_type": "markdown",
   "metadata": {},
   "source": [
    "# Purpose and plan\n",
    "\n",
    "In this project, I will attempt to estimate the height of an individual based on their weight, gender, and BMI. I will implement Keras for the machine learning part of this assignment, and use Pandas and Matplotlib for data explotation."
   ]
  },
  {
   "cell_type": "markdown",
   "metadata": {},
   "source": [
    "# Setup\n",
    "\n",
    "First, I'll import all needed libraries, and set things up so that this project should run smoothly on as many machines as possible. We also want to plot figures inline, so I'll use the built in Jupyter-Notebook magic for that."
   ]
  },
  {
   "cell_type": "code",
   "execution_count": 72,
   "metadata": {},
   "outputs": [],
   "source": [
    "# make sure we can support Python 2\n",
    "from __future__ import division, print_function, unicode_literals\n",
    "\n",
    "# import our necessary libraries\n",
    "import matplotlib.pyplot as plt\n",
    "import tensorflow as tf\n",
    "import numpy as np\n",
    "from tensorflow import keras\n",
    "import pandas as pd\n",
    "import os\n",
    "\n",
    "# Plot figures in the notebook with Jupyter-Notebook magic\n",
    "%matplotlib inline\n",
    "\n",
    "# give everything a random seed so that we get repeatable results.\n",
    "seed_value= 42\n",
    "\n",
    "os.environ['PYTHONHASHSEED']=str(seed_value)\n",
    "\n",
    "import random\n",
    "random.seed(seed_value)\n",
    "\n",
    "np.random.seed(seed_value)\n",
    "\n",
    "import tensorflow as tf\n",
    "tf.random.set_seed(seed_value)"
   ]
  },
  {
   "cell_type": "markdown",
   "metadata": {},
   "source": [
    "Time to import data from our CSV file! The file is named \"HeightWeightData.csv,\" nd is stored in the same directory as this notebook. "
   ]
  },
  {
   "cell_type": "code",
   "execution_count": 73,
   "metadata": {},
   "outputs": [],
   "source": [
    "# create paths for the loading of data, and the saving of images.\n",
    "DATA_PATH = \"./HeightWeightData.csv\"\n",
    "\n",
    "if not os.path.exists(\"Figures\"):\n",
    "    os.makedirs(\"Figures\")\n",
    "\n",
    "FIGURE_PATH = \"./Figures/\""
   ]
  },
  {
   "cell_type": "markdown",
   "metadata": {},
   "source": [
    "# Exploring and visualizing the data:\n",
    "\n",
    "Based on the online description of the dataset, the data should be structured as follows:\n",
    "\n",
    "    Gender : Male / Female\n",
    "\n",
    "    Height : Number (cm)\n",
    "\n",
    "    Weight : Number (Kg)\n",
    "\n",
    "    Index :\n",
    "\n",
    "        0 - Extremely Weak\n",
    "\n",
    "        1 - Weak\n",
    "\n",
    "        2 - Normal\n",
    "\n",
    "        3 - Overweight\n",
    "\n",
    "        4 - Obesity\n",
    "\n",
    "        5 - Extreme Obesity\n",
    "        \n",
    "Now, just to make sure that there are no surprises, let's check out the data after importing it into a pandas DataFrame: "
   ]
  },
  {
   "cell_type": "code",
   "execution_count": 74,
   "metadata": {},
   "outputs": [
    {
     "name": "stdout",
     "output_type": "stream",
     "text": [
      "<class 'pandas.core.frame.DataFrame'>\n",
      "RangeIndex: 500 entries, 0 to 499\n",
      "Data columns (total 4 columns):\n",
      "Gender    500 non-null object\n",
      "Height    500 non-null int64\n",
      "Weight    500 non-null int64\n",
      "Index     500 non-null int64\n",
      "dtypes: int64(3), object(1)\n",
      "memory usage: 15.8+ KB\n"
     ]
    },
    {
     "data": {
      "text/html": [
       "<div>\n",
       "<style scoped>\n",
       "    .dataframe tbody tr th:only-of-type {\n",
       "        vertical-align: middle;\n",
       "    }\n",
       "\n",
       "    .dataframe tbody tr th {\n",
       "        vertical-align: top;\n",
       "    }\n",
       "\n",
       "    .dataframe thead th {\n",
       "        text-align: right;\n",
       "    }\n",
       "</style>\n",
       "<table border=\"1\" class=\"dataframe\">\n",
       "  <thead>\n",
       "    <tr style=\"text-align: right;\">\n",
       "      <th></th>\n",
       "      <th>Height</th>\n",
       "      <th>Weight</th>\n",
       "      <th>Index</th>\n",
       "    </tr>\n",
       "  </thead>\n",
       "  <tbody>\n",
       "    <tr>\n",
       "      <td>count</td>\n",
       "      <td>500.000000</td>\n",
       "      <td>500.000000</td>\n",
       "      <td>500.000000</td>\n",
       "    </tr>\n",
       "    <tr>\n",
       "      <td>mean</td>\n",
       "      <td>169.944000</td>\n",
       "      <td>106.000000</td>\n",
       "      <td>3.748000</td>\n",
       "    </tr>\n",
       "    <tr>\n",
       "      <td>std</td>\n",
       "      <td>16.375261</td>\n",
       "      <td>32.382607</td>\n",
       "      <td>1.355053</td>\n",
       "    </tr>\n",
       "    <tr>\n",
       "      <td>min</td>\n",
       "      <td>140.000000</td>\n",
       "      <td>50.000000</td>\n",
       "      <td>0.000000</td>\n",
       "    </tr>\n",
       "    <tr>\n",
       "      <td>25%</td>\n",
       "      <td>156.000000</td>\n",
       "      <td>80.000000</td>\n",
       "      <td>3.000000</td>\n",
       "    </tr>\n",
       "    <tr>\n",
       "      <td>50%</td>\n",
       "      <td>170.500000</td>\n",
       "      <td>106.000000</td>\n",
       "      <td>4.000000</td>\n",
       "    </tr>\n",
       "    <tr>\n",
       "      <td>75%</td>\n",
       "      <td>184.000000</td>\n",
       "      <td>136.000000</td>\n",
       "      <td>5.000000</td>\n",
       "    </tr>\n",
       "    <tr>\n",
       "      <td>max</td>\n",
       "      <td>199.000000</td>\n",
       "      <td>160.000000</td>\n",
       "      <td>5.000000</td>\n",
       "    </tr>\n",
       "  </tbody>\n",
       "</table>\n",
       "</div>"
      ],
      "text/plain": [
       "           Height      Weight       Index\n",
       "count  500.000000  500.000000  500.000000\n",
       "mean   169.944000  106.000000    3.748000\n",
       "std     16.375261   32.382607    1.355053\n",
       "min    140.000000   50.000000    0.000000\n",
       "25%    156.000000   80.000000    3.000000\n",
       "50%    170.500000  106.000000    4.000000\n",
       "75%    184.000000  136.000000    5.000000\n",
       "max    199.000000  160.000000    5.000000"
      ]
     },
     "execution_count": 74,
     "metadata": {},
     "output_type": "execute_result"
    }
   ],
   "source": [
    "data = pd.read_csv(DATA_PATH)\n",
    "\n",
    "data.info()\n",
    "data.describe()"
   ]
  },
  {
   "cell_type": "markdown",
   "metadata": {},
   "source": [
    "There is a single categorical data column to deal with. Let's explore what it contains, and in what amounts:"
   ]
  },
  {
   "cell_type": "code",
   "execution_count": 75,
   "metadata": {
    "scrolled": true
   },
   "outputs": [
    {
     "name": "stdout",
     "output_type": "stream",
     "text": [
      "Female    255\n",
      "Male      245\n",
      "Name: Gender, dtype: int64\n"
     ]
    }
   ],
   "source": [
    "print(data[\"Gender\"].value_counts())"
   ]
  },
  {
   "cell_type": "markdown",
   "metadata": {},
   "source": [
    "Now we'll get some more information on how non-categorical features are spread out with the handy pandas hist() method."
   ]
  },
  {
   "cell_type": "code",
   "execution_count": 76,
   "metadata": {},
   "outputs": [
    {
     "data": {
      "image/png": "[encoded data removed]",
      "text/plain": [
       "<Figure size 1080x1080 with 4 Axes>"
      ]
     },
     "metadata": {
      "needs_background": "light"
     },
     "output_type": "display_data"
    }
   ],
   "source": [
    "data.hist(bins=50, figsize = [15, 15])\n",
    "plt.show()"
   ]
  },
  {
   "cell_type": "markdown",
   "metadata": {},
   "source": [
    "Because the hist() mehtod ignores categorical data, I'll just grab the value_counts of each variable in the \"Gender\" column, and plot those so that we have all variables visualized."
   ]
  },
  {
   "cell_type": "code",
   "execution_count": 77,
   "metadata": {},
   "outputs": [
    {
     "data": {
      "image/png": "[encoded data removed]",
      "text/plain": [
       "<Figure size 432x288 with 1 Axes>"
      ]
     },
     "metadata": {
      "needs_background": "light"
     },
     "output_type": "display_data"
    }
   ],
   "source": [
    "data[\"Gender\"].value_counts().plot(kind=\"bar\")#can't hist() on categorical.\n",
    "plt.show()"
   ]
  },
  {
   "cell_type": "markdown",
   "metadata": {},
   "source": [
    "What I've noticed so far is:\n",
    "\n",
    "1) The data has buit in ratios. There are more females than males in the data, and there are a lot more people in the BMI \"5\" range than the other ranges. This will require some stratified splitting later if we want to avoid random sampling bias in the training/test sets.\n",
    "\n",
    "2) There appears to be an obvious relationship between weight and height. I think the reason that the histogram for height and the histogram for weight are jumpy is the fact that there are only 500 instances in this set. I'm definately seeing parallels between the amount of people in a certain range of height, and the amount of people in a certain range of weight. If there were more instances, I think we'd see a much smoother top to the graph. (That smoothness doesn't have to be a straight line, of course.)"
   ]
  },
  {
   "cell_type": "markdown",
   "metadata": {},
   "source": [
    "# Process the data for machine learning:\n",
    "As I mentioned previousely, we will need to be carefule when splitting up the data. I need the test/train matrices of features, (Index, Gender, and Weight,) and labels, (Height.) I also need to come up with a way to deal with the categorical data. This means that the first order of business is to throw the \"Gender\" column into a one-hot encoder in order to avoid the problems of false correlation that an ordinal encoder would cause."
   ]
  },
  {
   "cell_type": "code",
   "execution_count": 78,
   "metadata": {},
   "outputs": [],
   "source": [
    "#quick encoder I wrote because I was having difficulty with the Scikit-Learn encoders.\n",
    "def one_hot_gender(array):\n",
    "    return_array = []\n",
    "    for i in range(0, len(array)):\n",
    "        if array[i] == \"Male\":\n",
    "            return_array.append([0, 1])\n",
    "        else:\n",
    "            return_array.append([1, 0])\n",
    "    return return_array"
   ]
  },
  {
   "cell_type": "code",
   "execution_count": 79,
   "metadata": {},
   "outputs": [
    {
     "name": "stdout",
     "output_type": "stream",
     "text": [
      "   Height  Weight  Index  Gender\n",
      "0     174      96      4  [0, 1]\n",
      "1     189      87      2  [0, 1]\n",
      "2     185     110      4  [1, 0]\n",
      "3     195     104      3  [1, 0]\n",
      "4     149      61      3  [0, 1]\n"
     ]
    }
   ],
   "source": [
    "gender = data[\"Gender\"].to_numpy()\n",
    "data = data.drop([\"Gender\"], axis=1)\n",
    "gender_encoded =one_hot_gender(gender)\n",
    "data[\"Gender\"] = gender_encoded\n",
    "print(data.head())"
   ]
  },
  {
   "cell_type": "markdown",
   "metadata": {},
   "source": [
    "I'll be doing stratified splitting of the data based around the \"Index\" feature, because it has the most variance, and I think it will have more effect than something like \"Gender\" in which the spread is fairly even. The docs for scikit-learn say that the y parameter in the StratifiedShuffleSplit method is supposed to be the target variable in the data, so I guess this is a bit of an experiment."
   ]
  },
  {
   "cell_type": "code",
   "execution_count": 93,
   "metadata": {},
   "outputs": [],
   "source": [
    "from sklearn.model_selection import StratifiedShuffleSplit #import the splitter\n",
    "\n",
    "split = StratifiedShuffleSplit(n_splits=1, test_size=0.2, random_state=42) \n",
    "for train_index, test_index in split.split(data, data[\"Index\"]):\n",
    "    train_set = data.loc[train_index]\n",
    "    test_set = data.loc[test_index]"
   ]
  },
  {
   "cell_type": "markdown",
   "metadata": {},
   "source": [
    "Now that I've split the data up, I'd like to make sure that everything worked out. I'll make a get_info() method to check out the shape and 'head' of a data subset, and I'll create some histograms to compare the 'Index' columns' spread between the different data sets."
   ]
  },
  {
   "cell_type": "code",
   "execution_count": 94,
   "metadata": {},
   "outputs": [],
   "source": [
    "def get_info(dframe, name):\n",
    "    print(\"---------------------------------\")\n",
    "    print(name)\n",
    "    print(\"\")\n",
    "    print(\"shape: \" + str(np.shape(dframe)))\n",
    "    print(\"\")\n",
    "    print(dframe.head())\n",
    "    print(\"\")"
   ]
  },
  {
   "cell_type": "code",
   "execution_count": 95,
   "metadata": {},
   "outputs": [
    {
     "name": "stdout",
     "output_type": "stream",
     "text": [
      "---------------------------------\n",
      "train_set\n",
      "\n",
      "shape: (400, 4)\n",
      "\n",
      "     Height  Weight  Index  Gender\n",
      "262     156     137      5  [0, 1]\n",
      "486     160     109      5  [1, 0]\n",
      "360     193      61      1  [1, 0]\n",
      "483     146      85      4  [0, 1]\n",
      "309     171     141      5  [0, 1]\n",
      "\n",
      "---------------------------------\n",
      "test_set\n",
      "\n",
      "shape: (100, 4)\n",
      "\n",
      "     Height  Weight  Index  Gender\n",
      "348     178     138      5  [0, 1]\n",
      "36      197     114      3  [1, 0]\n",
      "0       174      96      4  [0, 1]\n",
      "81      166     140      5  [1, 0]\n",
      "102     161     155      5  [0, 1]\n",
      "\n"
     ]
    }
   ],
   "source": [
    "#make sure everything went smoothly with the splitting:    \n",
    "get_info(train_set, \"train_set\")\n",
    "get_info(test_set, \"test_set\")"
   ]
  },
  {
   "cell_type": "code",
   "execution_count": 139,
   "metadata": {},
   "outputs": [
    {
     "data": {
      "image/png": "[encoded data removed]",
      "text/plain": [
       "<Figure size 1440x576 with 3 Axes>"
      ]
     },
     "metadata": {
      "needs_background": "light"
     },
     "output_type": "display_data"
    }
   ],
   "source": [
    "fig = plt.figure(figsize=(20, 8))\n",
    "\n",
    "dataIndex = fig.add_subplot(1, 3, 1)\n",
    "data[\"Index\"].hist(bins=20)\n",
    "dataIndex.title.set_text(\"Data['Index']\")\n",
    "\n",
    "testIndex = fig.add_subplot(1, 3, 2)\n",
    "test_set[\"Index\"].hist(bins=20)\n",
    "testIndex.title.set_text(\"test_set['Index']\")\n",
    "\n",
    "\n",
    "trainIndex = fig.add_subplot(1, 3, 3)\n",
    "train_set[\"Index\"].hist(bins=20)\n",
    "trainIndex.title.set_text(\"train_set['Index']\")\n",
    "\n",
    "plt.show()"
   ]
  },
  {
   "cell_type": "markdown",
   "metadata": {},
   "source": [
    "I'm content with how those turned out, so I'll move on to creating the label/feature subsets, as well as a validation data subset."
   ]
  },
  {
   "cell_type": "code",
   "execution_count": null,
   "metadata": {},
   "outputs": [],
   "source": []
  },
  {
   "cell_type": "code",
   "execution_count": null,
   "metadata": {},
   "outputs": [],
   "source": []
  },
  {
   "cell_type": "code",
   "execution_count": null,
   "metadata": {},
   "outputs": [],
   "source": []
  },
  {
   "cell_type": "code",
   "execution_count": null,
   "metadata": {},
   "outputs": [],
   "source": []
  },
  {
   "cell_type": "code",
   "execution_count": null,
   "metadata": {},
   "outputs": [],
   "source": []
  },
  {
   "cell_type": "code",
   "execution_count": null,
   "metadata": {},
   "outputs": [],
   "source": []
  },
  {
   "cell_type": "markdown",
   "metadata": {},
   "source": [
    "# Prepare the machine learning algorithm\n",
    "\n",
    "Now that the data is ready for machine learning, I will use Keras to create a feedforward neural network with densly connected layers."
   ]
  },
  {
   "cell_type": "code",
   "execution_count": null,
   "metadata": {},
   "outputs": [],
   "source": []
  },
  {
   "cell_type": "code",
   "execution_count": null,
   "metadata": {},
   "outputs": [],
   "source": []
  },
  {
   "cell_type": "code",
   "execution_count": null,
   "metadata": {},
   "outputs": [],
   "source": []
  },
  {
   "cell_type": "code",
   "execution_count": null,
   "metadata": {},
   "outputs": [],
   "source": []
  },
  {
   "cell_type": "code",
   "execution_count": null,
   "metadata": {},
   "outputs": [],
   "source": []
  },
  {
   "cell_type": "code",
   "execution_count": null,
   "metadata": {},
   "outputs": [],
   "source": []
  },
  {
   "cell_type": "code",
   "execution_count": null,
   "metadata": {},
   "outputs": [],
   "source": []
  },
  {
   "cell_type": "code",
   "execution_count": null,
   "metadata": {},
   "outputs": [],
   "source": []
  }
 ],
 "metadata": {
  "kernelspec": {
   "display_name": "Python 3",
   "language": "python",
   "name": "python3"
  },
  "language_info": {
   "codemirror_mode": {
    "name": "ipython",
    "version": 3
   },
   "file_extension": ".py",
   "mimetype": "text/x-python",
   "name": "python",
   "nbconvert_exporter": "python",
   "pygments_lexer": "ipython3",
   "version": "3.7.4"
  }
 },
 "nbformat": 4,
 "nbformat_minor": 2
}
