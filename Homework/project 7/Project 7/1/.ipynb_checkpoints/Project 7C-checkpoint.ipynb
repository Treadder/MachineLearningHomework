{
 "cells": [
  {
   "cell_type": "markdown",
   "metadata": {},
   "source": [
    "# Purpose and plan\n",
    "\n",
    "In this project, I will attempt to estimate the height of an individual based on their weight, gender, and BMI. I will implement Keras for the machine learning part of this assignment, and use Pandas and Matplotlib for data explotation."
   ]
  },
  {
   "cell_type": "markdown",
   "metadata": {},
   "source": [
    "# Setup\n",
    "\n",
    "First, I'll import all needed libraries, and set things up so that this project should run smoothly on as many machines as possible. We also want to plot figures inline, so I'll use the built in Jupyter-Notebook magic for that."
   ]
  },
  {
   "cell_type": "code",
   "execution_count": 156,
   "metadata": {},
   "outputs": [],
   "source": [
    "# make sure we can support Python 2\n",
    "from __future__ import division, print_function, unicode_literals\n",
    "\n",
    "# import our necessary libraries\n",
    "import matplotlib.pyplot as plt\n",
    "import tensorflow as tf\n",
    "import numpy as np\n",
    "from tensorflow import keras\n",
    "import pandas as pd\n",
    "import os\n",
    "\n",
    "# Plot figures in the notebook with Jupyter-Notebook magic\n",
    "%matplotlib inline\n",
    "\n",
    "# give everything a random seed so that we get repeatable results.\n",
    "seed_value= 42\n",
    "\n",
    "os.environ['PYTHONHASHSEED']=str(seed_value)\n",
    "\n",
    "import random\n",
    "random.seed(seed_value)\n",
    "\n",
    "np.random.seed(seed_value)\n",
    "\n",
    "import tensorflow as tf\n",
    "tf.random.set_seed(seed_value)"
   ]
  },
  {
   "cell_type": "markdown",
   "metadata": {},
   "source": [
    "Time to import data from our CSV file! The file is named \"HeightWeightData.csv,\" nd is stored in the same directory as this notebook. "
   ]
  },
  {
   "cell_type": "code",
   "execution_count": 157,
   "metadata": {},
   "outputs": [],
   "source": [
    "# create paths for the loading of data, and the saving of images.\n",
    "DATA_PATH = \"./HeightWeightData.csv\"\n",
    "\n",
    "if not os.path.exists(\"Figures\"):\n",
    "    os.makedirs(\"Figures\")\n",
    "\n",
    "FIGURE_PATH = \"./Figures/\""
   ]
  },
  {
   "cell_type": "markdown",
   "metadata": {},
   "source": [
    "# Exploring and visualizing the data:\n",
    "\n",
    "Based on the online description of the dataset, the data should be structured as follows:\n",
    "\n",
    "    Gender : Male / Female\n",
    "\n",
    "    Height : Number (cm)\n",
    "\n",
    "    Weight : Number (Kg)\n",
    "\n",
    "    Index :\n",
    "\n",
    "        0 - Extremely Weak\n",
    "\n",
    "        1 - Weak\n",
    "\n",
    "        2 - Normal\n",
    "\n",
    "        3 - Overweight\n",
    "\n",
    "        4 - Obesity\n",
    "\n",
    "        5 - Extreme Obesity\n",
    "        \n",
    "Now, just to make sure that there are no surprises, let's check out the data after importing it into a pandas DataFrame: "
   ]
  },
  {
   "cell_type": "code",
   "execution_count": 158,
   "metadata": {},
   "outputs": [
    {
     "name": "stdout",
     "output_type": "stream",
     "text": [
      "<class 'pandas.core.frame.DataFrame'>\n",
      "RangeIndex: 500 entries, 0 to 499\n",
      "Data columns (total 4 columns):\n",
      "Gender    500 non-null object\n",
      "Height    500 non-null int64\n",
      "Weight    500 non-null int64\n",
      "Index     500 non-null int64\n",
      "dtypes: int64(3), object(1)\n",
      "memory usage: 15.8+ KB\n"
     ]
    },
    {
     "data": {
      "text/html": [
       "<div>\n",
       "<style scoped>\n",
       "    .dataframe tbody tr th:only-of-type {\n",
       "        vertical-align: middle;\n",
       "    }\n",
       "\n",
       "    .dataframe tbody tr th {\n",
       "        vertical-align: top;\n",
       "    }\n",
       "\n",
       "    .dataframe thead th {\n",
       "        text-align: right;\n",
       "    }\n",
       "</style>\n",
       "<table border=\"1\" class=\"dataframe\">\n",
       "  <thead>\n",
       "    <tr style=\"text-align: right;\">\n",
       "      <th></th>\n",
       "      <th>Height</th>\n",
       "      <th>Weight</th>\n",
       "      <th>Index</th>\n",
       "    </tr>\n",
       "  </thead>\n",
       "  <tbody>\n",
       "    <tr>\n",
       "      <td>count</td>\n",
       "      <td>500.000000</td>\n",
       "      <td>500.000000</td>\n",
       "      <td>500.000000</td>\n",
       "    </tr>\n",
       "    <tr>\n",
       "      <td>mean</td>\n",
       "      <td>169.944000</td>\n",
       "      <td>106.000000</td>\n",
       "      <td>3.748000</td>\n",
       "    </tr>\n",
       "    <tr>\n",
       "      <td>std</td>\n",
       "      <td>16.375261</td>\n",
       "      <td>32.382607</td>\n",
       "      <td>1.355053</td>\n",
       "    </tr>\n",
       "    <tr>\n",
       "      <td>min</td>\n",
       "      <td>140.000000</td>\n",
       "      <td>50.000000</td>\n",
       "      <td>0.000000</td>\n",
       "    </tr>\n",
       "    <tr>\n",
       "      <td>25%</td>\n",
       "      <td>156.000000</td>\n",
       "      <td>80.000000</td>\n",
       "      <td>3.000000</td>\n",
       "    </tr>\n",
       "    <tr>\n",
       "      <td>50%</td>\n",
       "      <td>170.500000</td>\n",
       "      <td>106.000000</td>\n",
       "      <td>4.000000</td>\n",
       "    </tr>\n",
       "    <tr>\n",
       "      <td>75%</td>\n",
       "      <td>184.000000</td>\n",
       "      <td>136.000000</td>\n",
       "      <td>5.000000</td>\n",
       "    </tr>\n",
       "    <tr>\n",
       "      <td>max</td>\n",
       "      <td>199.000000</td>\n",
       "      <td>160.000000</td>\n",
       "      <td>5.000000</td>\n",
       "    </tr>\n",
       "  </tbody>\n",
       "</table>\n",
       "</div>"
      ],
      "text/plain": [
       "           Height      Weight       Index\n",
       "count  500.000000  500.000000  500.000000\n",
       "mean   169.944000  106.000000    3.748000\n",
       "std     16.375261   32.382607    1.355053\n",
       "min    140.000000   50.000000    0.000000\n",
       "25%    156.000000   80.000000    3.000000\n",
       "50%    170.500000  106.000000    4.000000\n",
       "75%    184.000000  136.000000    5.000000\n",
       "max    199.000000  160.000000    5.000000"
      ]
     },
     "execution_count": 158,
     "metadata": {},
     "output_type": "execute_result"
    }
   ],
   "source": [
    "data = pd.read_csv(DATA_PATH)\n",
    "\n",
    "data.info()\n",
    "data.describe()"
   ]
  },
  {
   "cell_type": "markdown",
   "metadata": {},
   "source": [
    "There is a single categorical data column to deal with. Let's explore what it contains, and in what amounts:"
   ]
  },
  {
   "cell_type": "code",
   "execution_count": 159,
   "metadata": {
    "scrolled": true
   },
   "outputs": [
    {
     "name": "stdout",
     "output_type": "stream",
     "text": [
      "Female    255\n",
      "Male      245\n",
      "Name: Gender, dtype: int64\n"
     ]
    }
   ],
   "source": [
    "print(data[\"Gender\"].value_counts())"
   ]
  },
  {
   "cell_type": "markdown",
   "metadata": {},
   "source": [
    "Now we'll get some more information on how non-categorical features are spread out with the handy pandas hist() method."
   ]
  },
  {
   "cell_type": "code",
   "execution_count": 160,
   "metadata": {},
   "outputs": [
    {
     "data": {
      "image/png": "[encoded data removed]",
      "text/plain": [
       "<Figure size 1080x1080 with 4 Axes>"
      ]
     },
     "metadata": {
      "needs_background": "light"
     },
     "output_type": "display_data"
    }
   ],
   "source": [
    "data.hist(bins=50, figsize = [15, 15])\n",
    "plt.show()"
   ]
  },
  {
   "cell_type": "markdown",
   "metadata": {},
   "source": [
    "Because the hist() mehtod ignores categorical data, I'll just grab the value_counts of each variable in the \"Gender\" column, and plot those so that we have all variables visualized."
   ]
  },
  {
   "cell_type": "code",
   "execution_count": 161,
   "metadata": {},
   "outputs": [
    {
     "data": {
      "image/png": "[encoded data removed]",
      "text/plain": [
       "<Figure size 432x288 with 1 Axes>"
      ]
     },
     "metadata": {
      "needs_background": "light"
     },
     "output_type": "display_data"
    }
   ],
   "source": [
    "data[\"Gender\"].value_counts().plot(kind=\"bar\")#can't hist() on categorical.\n",
    "plt.show()"
   ]
  },
  {
   "cell_type": "markdown",
   "metadata": {},
   "source": [
    "What I've noticed so far is:\n",
    "\n",
    "1) The data has buit in ratios. There are more females than males in the data, and there are a lot more people in the BMI \"5\" range than the other ranges. This will require some stratified splitting later if we want to avoid random sampling bias in the training/test sets.\n",
    "\n",
    "2) There appears to be an obvious relationship between weight and height. I think the reason that the histogram for height and the histogram for weight are jumpy is the fact that there are only 500 instances in this set. I'm definately seeing parallels between the amount of people in a certain range of height, and the amount of people in a certain range of weight. If there were more instances, I think we'd see a much smoother top to the graph. (That smoothness doesn't have to be a straight line, of course.)"
   ]
  },
  {
   "cell_type": "markdown",
   "metadata": {},
   "source": [
    "# Process the data for machine learning:\n",
    "As I mentioned previousely, we will need to be carefule when splitting up the data. I need the test/train matrices of features, (Index, Gender, and Weight,) and labels, (Height.) I also need to come up with a way to deal with the categorical data. This means that the first order of business is to throw the \"Gender\" column into a one-hot encoder in order to avoid the problems of false correlation that an ordinal encoder would cause."
   ]
  },
  {
   "cell_type": "code",
   "execution_count": 162,
   "metadata": {},
   "outputs": [],
   "source": [
    "temp_genders = pd.get_dummies(data[\"Gender\"], prefix=\"Gender\")\n",
    "data = data.drop([\"Gender\"], axis=1)\n",
    "data[\"Gender_Male\"] = temp_genders[\"Gender_Male\"]\n",
    "data[\"Gender_Female\"] = temp_genders[\"Gender_Female\"]"
   ]
  },
  {
   "cell_type": "markdown",
   "metadata": {},
   "source": [
    "I'll be doing stratified splitting of the data based around the \"Index\" feature, because it has the most variance, and I think it will have more effect than something like \"Gender\" in which the spread is fairly even. The docs for scikit-learn say that the y parameter in the StratifiedShuffleSplit method is supposed to be the target variable in the data, so I guess this is a bit of an experiment."
   ]
  },
  {
   "cell_type": "code",
   "execution_count": 163,
   "metadata": {},
   "outputs": [],
   "source": [
    "from sklearn.model_selection import StratifiedShuffleSplit\n",
    "\n",
    "split = StratifiedShuffleSplit(n_splits=1, test_size=0.1, random_state=42) \n",
    "for train_index, test_index in split.split(data, data[\"Index\"]):\n",
    "    train_set = data.loc[train_index]\n",
    "    test_set = data.loc[test_index]\n",
    "    \n",
    "split2 = StratifiedShuffleSplit(n_splits=1, test_size=0.11, random_state=42) \n",
    "for train_index, valid_index in split2.split(train_set, train_set[\"Index\"]):\n",
    "    train_set = data.loc[train_index]\n",
    "    valid_set = data.loc[valid_index]"
   ]
  },
  {
   "cell_type": "markdown",
   "metadata": {},
   "source": [
    "Now that I've split the data up, I'd like to make sure that everything worked out. I'll make a get_dataframe_info() method to check out the shape and 'head' of a data subset, and I'll create some histograms to compare the 'Index' columns' spread between the different data sets."
   ]
  },
  {
   "cell_type": "code",
   "execution_count": 164,
   "metadata": {},
   "outputs": [],
   "source": [
    "def get_dataframe_info(dframe, name):\n",
    "    print(\"---------------------------------\")\n",
    "    print(name)\n",
    "    print(\"\")\n",
    "    print(\"shape: \" + str(np.shape(dframe)))\n",
    "    print(\"\")\n",
    "    print(dframe.head())\n",
    "    print(\"\")"
   ]
  },
  {
   "cell_type": "code",
   "execution_count": 165,
   "metadata": {},
   "outputs": [],
   "source": [
    "def get_array_info(array, name):\n",
    "    print(\"------------------------\")\n",
    "    print(name + \":\")\n",
    "    print(\"\")\n",
    "    print(\"shape : \" + str(np.shape(array)))\n",
    "    print(\"\")\n",
    "    print(\"first 5 rows:\")\n",
    "    print(array[:5])\n",
    "    print(\"\")"
   ]
  },
  {
   "cell_type": "code",
   "execution_count": 166,
   "metadata": {},
   "outputs": [
    {
     "name": "stdout",
     "output_type": "stream",
     "text": [
      "---------------------------------\n",
      "train_set\n",
      "\n",
      "shape: (400, 5)\n",
      "\n",
      "     Height  Weight  Index  Gender_Male  Gender_Female\n",
      "147     140     146      5            0              1\n",
      "377     178     142      5            1              0\n",
      "105     195     126      4            1              0\n",
      "7       154     111      5            1              0\n",
      "179     188     100      3            1              0\n",
      "\n",
      "---------------------------------\n",
      "test_set\n",
      "\n",
      "shape: (50, 5)\n",
      "\n",
      "     Height  Weight  Index  Gender_Male  Gender_Female\n",
      "201     179      93      3            1              0\n",
      "383     151     154      5            1              0\n",
      "382     177     117      4            1              0\n",
      "159     181     105      4            1              0\n",
      "390     167      58      2            0              1\n",
      "\n",
      "---------------------------------\n",
      "valid_set\n",
      "\n",
      "shape: (50, 5)\n",
      "\n",
      "     Height  Weight  Index  Gender_Male  Gender_Female\n",
      "449     159     145      5            1              0\n",
      "155     179     103      4            0              1\n",
      "233     177      81      3            0              1\n",
      "276     179     114      4            0              1\n",
      "394     152     154      5            0              1\n",
      "\n"
     ]
    }
   ],
   "source": [
    "#make sure everything went smoothly with the splitting:    \n",
    "get_dataframe_info(train_set, \"train_set\")\n",
    "get_dataframe_info(test_set, \"test_set\")\n",
    "get_dataframe_info(valid_set, \"valid_set\")"
   ]
  },
  {
   "cell_type": "code",
   "execution_count": 167,
   "metadata": {},
   "outputs": [
    {
     "data": {
      "image/png": "[encoded data removed]",
      "text/plain": [
       "<Figure size 1440x432 with 4 Axes>"
      ]
     },
     "metadata": {
      "needs_background": "light"
     },
     "output_type": "display_data"
    }
   ],
   "source": [
    "fig = plt.figure(figsize=(20, 6))\n",
    "\n",
    "dataIndex = fig.add_subplot(1, 4, 1)\n",
    "data[\"Index\"].hist(bins=20)\n",
    "dataIndex.title.set_text(\"Data['Index']\")\n",
    "\n",
    "testIndex = fig.add_subplot(1, 4, 2)\n",
    "test_set[\"Index\"].hist(bins=20)\n",
    "testIndex.title.set_text(\"test_set['Index']\")\n",
    "\n",
    "\n",
    "trainIndex = fig.add_subplot(1, 4, 3)\n",
    "train_set[\"Index\"].hist(bins=20)\n",
    "trainIndex.title.set_text(\"train_set['Index']\")\n",
    "\n",
    "validIndex = fig.add_subplot(1, 4, 4)\n",
    "valid_set[\"Index\"].hist(bins=20)\n",
    "validIndex.title.set_text(\"valid_set['Index']\")\n",
    "\n",
    "plt.show()"
   ]
  },
  {
   "cell_type": "markdown",
   "metadata": {},
   "source": [
    "We now have a test_set, valid_set, and train_set. I'm content with how those \"Index\" feature distributions turned out, so I'll move on to creating the label/feature subsets."
   ]
  },
  {
   "cell_type": "code",
   "execution_count": 168,
   "metadata": {},
   "outputs": [],
   "source": [
    "train_features = train_set[[\"Weight\", \"Gender_Male\", \"Gender_Female\", \"Index\"]]\n",
    "train_labels = train_set[[\"Height\"]]\n",
    "\n",
    "test_features = test_set[[\"Weight\", \"Gender_Male\", \"Gender_Female\", \"Index\"]]\n",
    "test_labels = test_set[[\"Height\"]]\n",
    "\n",
    "valid_features = valid_set[[\"Weight\", \"Gender_Male\", \"Gender_Female\", \"Index\"]]\n",
    "valid_labels = valid_set[[\"Height\"]]"
   ]
  },
  {
   "cell_type": "code",
   "execution_count": 169,
   "metadata": {},
   "outputs": [
    {
     "name": "stdout",
     "output_type": "stream",
     "text": [
      "---------------------------------\n",
      "train_features\n",
      "\n",
      "shape: (400, 4)\n",
      "\n",
      "     Weight  Gender_Male  Gender_Female  Index\n",
      "147     146            0              1      5\n",
      "377     142            1              0      5\n",
      "105     126            1              0      4\n",
      "7       111            1              0      5\n",
      "179     100            1              0      3\n",
      "\n",
      "---------------------------------\n",
      "train_labels\n",
      "\n",
      "shape: (400, 1)\n",
      "\n",
      "     Height\n",
      "147     140\n",
      "377     178\n",
      "105     195\n",
      "7       154\n",
      "179     188\n",
      "\n",
      "---------------------------------\n",
      "test_features\n",
      "\n",
      "shape: (50, 4)\n",
      "\n",
      "     Weight  Gender_Male  Gender_Female  Index\n",
      "201      93            1              0      3\n",
      "383     154            1              0      5\n",
      "382     117            1              0      4\n",
      "159     105            1              0      4\n",
      "390      58            0              1      2\n",
      "\n",
      "---------------------------------\n",
      "test_labels\n",
      "\n",
      "shape: (50, 1)\n",
      "\n",
      "     Height\n",
      "201     179\n",
      "383     151\n",
      "382     177\n",
      "159     181\n",
      "390     167\n",
      "\n",
      "---------------------------------\n",
      "valid_features\n",
      "\n",
      "shape: (50, 4)\n",
      "\n",
      "     Weight  Gender_Male  Gender_Female  Index\n",
      "449     145            1              0      5\n",
      "155     103            0              1      4\n",
      "233      81            0              1      3\n",
      "276     114            0              1      4\n",
      "394     154            0              1      5\n",
      "\n",
      "---------------------------------\n",
      "valid_labels\n",
      "\n",
      "shape: (50, 1)\n",
      "\n",
      "     Height\n",
      "449     159\n",
      "155     179\n",
      "233     177\n",
      "276     179\n",
      "394     152\n",
      "\n"
     ]
    }
   ],
   "source": [
    "#optional: get some info on the sets.\n",
    "get_dataframe_info(train_features, \"train_features\")\n",
    "get_dataframe_info(train_labels, \"train_labels\")\n",
    "get_dataframe_info(test_features, \"test_features\")\n",
    "get_dataframe_info(test_labels, \"test_labels\")\n",
    "get_dataframe_info(valid_features, \"valid_features\")\n",
    "get_dataframe_info(valid_labels, \"valid_labels\")"
   ]
  },
  {
   "cell_type": "markdown",
   "metadata": {},
   "source": [
    "As a final step before creating the neural network, I'll use a MinMaxScalar to rescale the data into a range between 0 and 1. I'm not worried about outliers, because there don't appear to be any. I decided not to scale my labels, because I found some material saying that this is not nescissary. Note: the MinMaxScaler outputs ndarray objects instead of the origional dataframes, so I'll convert all label sets to ndarrays as well."
   ]
  },
  {
   "cell_type": "code",
   "execution_count": 170,
   "metadata": {},
   "outputs": [],
   "source": [
    "from sklearn.preprocessing import MinMaxScaler\n",
    "\n",
    "scaler = MinMaxScaler()\n",
    "\n",
    "train_features = scaler.fit_transform(train_features)\n",
    "test_features = scaler.fit_transform(test_features)\n",
    "valid_features = scaler.fit_transform(valid_features)\n",
    "\n",
    "train_labels = train_labels.to_numpy()\n",
    "test_labels = test_labels.to_numpy()\n",
    "valid_labels = valid_labels.to_numpy()\n",
    "\n",
    "\n",
    "#train_labels = scaler.fit_transform(train_labels)\n",
    "#test_labels = scaler.fit_transform(test_labels)\n",
    "#valid_labels = scaler.fit_transform(valid_labels)"
   ]
  },
  {
   "cell_type": "code",
   "execution_count": 171,
   "metadata": {
    "scrolled": false
   },
   "outputs": [
    {
     "name": "stdout",
     "output_type": "stream",
     "text": [
      "------------------------\n",
      "train_features:\n",
      "\n",
      "shape : (400, 4)\n",
      "\n",
      "first 5 rows:\n",
      "[[0.87272727 0.         1.         1.        ]\n",
      " [0.83636364 1.         0.         1.        ]\n",
      " [0.69090909 1.         0.         0.8       ]\n",
      " [0.55454545 1.         0.         1.        ]\n",
      " [0.45454545 1.         0.         0.6       ]]\n",
      "\n",
      "------------------------\n",
      "train_labels:\n",
      "\n",
      "shape : (400, 1)\n",
      "\n",
      "first 5 rows:\n",
      "[[140]\n",
      " [178]\n",
      " [195]\n",
      " [154]\n",
      " [188]]\n",
      "\n"
     ]
    }
   ],
   "source": [
    "get_array_info(train_features, \"train_features\")\n",
    "get_array_info(train_labels, \"train_labels\")"
   ]
  },
  {
   "cell_type": "markdown",
   "metadata": {},
   "source": [
    "# Prepare the machine learning algorithm\n",
    "\n",
    "Now that the data is ready for machine learning, I will use Keras to create a feedforward neural network with densly connected layers."
   ]
  },
  {
   "cell_type": "code",
   "execution_count": null,
   "metadata": {},
   "outputs": [],
   "source": []
  },
  {
   "cell_type": "code",
   "execution_count": null,
   "metadata": {},
   "outputs": [],
   "source": []
  },
  {
   "cell_type": "code",
   "execution_count": null,
   "metadata": {},
   "outputs": [],
   "source": []
  },
  {
   "cell_type": "code",
   "execution_count": null,
   "metadata": {},
   "outputs": [],
   "source": []
  },
  {
   "cell_type": "code",
   "execution_count": null,
   "metadata": {},
   "outputs": [],
   "source": []
  },
  {
   "cell_type": "code",
   "execution_count": null,
   "metadata": {},
   "outputs": [],
   "source": []
  },
  {
   "cell_type": "code",
   "execution_count": null,
   "metadata": {},
   "outputs": [],
   "source": []
  },
  {
   "cell_type": "code",
   "execution_count": null,
   "metadata": {},
   "outputs": [],
   "source": []
  }
 ],
 "metadata": {
  "kernelspec": {
   "display_name": "Python 3",
   "language": "python",
   "name": "python3"
  },
  "language_info": {
   "codemirror_mode": {
    "name": "ipython",
    "version": 3
   },
   "file_extension": ".py",
   "mimetype": "text/x-python",
   "name": "python",
   "nbconvert_exporter": "python",
   "pygments_lexer": "ipython3",
   "version": "3.7.4"
  }
 },
 "nbformat": 4,
 "nbformat_minor": 2
}
