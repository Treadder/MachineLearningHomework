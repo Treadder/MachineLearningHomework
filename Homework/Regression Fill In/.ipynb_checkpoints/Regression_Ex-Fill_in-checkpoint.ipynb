{
 "cells": [
  {
   "cell_type": "markdown",
   "metadata": {},
   "source": [
    "# Regression Example"
   ]
  },
  {
   "cell_type": "markdown",
   "metadata": {},
   "source": [
    "## 1) Get Data"
   ]
  },
  {
   "cell_type": "code",
   "execution_count": 1,
   "metadata": {},
   "outputs": [],
   "source": [
    "import pandas as pd\n",
    "import numpy as np\n",
    "import matplotlib.pyplot as plt"
   ]
  },
  {
   "cell_type": "code",
   "execution_count": 2,
   "metadata": {
    "scrolled": true
   },
   "outputs": [],
   "source": [
    "# read in the data from 'fake-data.txt'\n",
    "df = pd.read_csv(\"fake-data.txt\")"
   ]
  },
  {
   "cell_type": "code",
   "execution_count": 3,
   "metadata": {},
   "outputs": [
    {
     "name": "stdout",
     "output_type": "stream",
     "text": [
      "     x1    y\n",
      "0  1.10  2.0\n",
      "1  1.50  2.3\n",
      "2  2.20  3.0\n",
      "3  2.30  3.5\n",
      "4  2.60  4.2\n",
      "5  2.90  3.8\n",
      "6  3.00  4.0\n",
      "7  3.20  4.2\n",
      "8  3.45  3.0\n",
      "9  3.50  2.2\n"
     ]
    }
   ],
   "source": [
    "# print it out to make sure you've got a data frame\n",
    "print(df)"
   ]
  },
  {
   "cell_type": "code",
   "execution_count": 5,
   "metadata": {},
   "outputs": [
    {
     "data": {
      "text/plain": [
       "['x1', 'y']"
      ]
     },
     "execution_count": 5,
     "metadata": {},
     "output_type": "execute_result"
    }
   ],
   "source": [
    "# check the column labels\n",
    "list(df.columns)"
   ]
  },
  {
   "cell_type": "code",
   "execution_count": 14,
   "metadata": {},
   "outputs": [
    {
     "name": "stdout",
     "output_type": "stream",
     "text": [
      "[1.1  1.5  2.2  2.3  2.6  2.9  3.   3.2  3.45 3.5 ]\n"
     ]
    },
    {
     "data": {
      "text/plain": [
       "<matplotlib.collections.PathCollection at 0x7fe3b9c57a50>"
      ]
     },
     "execution_count": 14,
     "metadata": {},
     "output_type": "execute_result"
    },
    {
     "data": {
      "image/png": "[encoded data removed]",
      "text/plain": [
       "<Figure size 432x288 with 1 Axes>"
      ]
     },
     "metadata": {
      "needs_background": "light"
     },
     "output_type": "display_data"
    }
   ],
   "source": [
    "# plot the data in a scatter plot\n",
    "x = df[\"x1\"].to_numpy()\n",
    "y = df[\"y\"].to_numpy()\n",
    "print(x)\n",
    "plt.scatter(x, y)"
   ]
  },
  {
   "cell_type": "code",
   "execution_count": null,
   "metadata": {},
   "outputs": [],
   "source": [
    "# get the data into an 'xs' one-d array and a 'ys' one-d array\n",
    "xs = df.values[:,0]\n",
    "ys = df.values[:,1]"
   ]
  },
  {
   "cell_type": "markdown",
   "metadata": {},
   "source": [
    "## 2) Select Model"
   ]
  },
  {
   "cell_type": "code",
   "execution_count": 19,
   "metadata": {},
   "outputs": [],
   "source": [
    "# make a function 'line_model' that models y = m*x + b\n",
    "# the function takes in:\n",
    "# x - an x value, and\n",
    "# theta - where theta[0] will be 'm' and theta[1] is 'b'\n",
    "# the functions returns:\n",
    "# y = m*x + b\n",
    "def line_model(x,theta):\n",
    "    m = theta[0]\n",
    "    b = theta[1]\n",
    "    y = m*x + b\n",
    "    return y"
   ]
  },
  {
   "cell_type": "code",
   "execution_count": 23,
   "metadata": {},
   "outputs": [
    {
     "name": "stdout",
     "output_type": "stream",
     "text": [
      "x was 3 and y was 15\n"
     ]
    }
   ],
   "source": [
    "#pick some values for x, m and b\n",
    "# use them to make theta\n",
    "# check to make sure line_model() works\n",
    "x = 3\n",
    "array = [3, 6]\n",
    "temp_line_model = line_model(x, array)\n",
    "print(\"x was \" + str(x) + \" and y was \" + str(temp_line_model))"
   ]
  },
  {
   "cell_type": "markdown",
   "metadata": {},
   "source": [
    "## 3) Select Cost Function"
   ]
  },
  {
   "cell_type": "code",
   "execution_count": null,
   "metadata": {},
   "outputs": [],
   "source": [
    "# Note this cost function is based on absolute value\n",
    "def cost_function(theta,args):\n",
    "    xs = args[0]\n",
    "    ys = args[1]\n",
    "    print(m,b,xs,ys)\n",
    "    cost = 0\n",
    "    for n in range(len(xs)):\n",
    "        cost += np.abs(line_model(xs[n],theta)-ys[n]) \n",
    "    return cost"
   ]
  },
  {
   "cell_type": "code",
   "execution_count": null,
   "metadata": {},
   "outputs": [],
   "source": [
    "from scipy.optimize import minimize"
   ]
  },
  {
   "cell_type": "code",
   "execution_count": null,
   "metadata": {},
   "outputs": [],
   "source": [
    "# initial (bad) guess at (x,y) values\n",
    "initial_guess = np.array([0,0])\n",
    "args = [xs,ys]\n",
    "cost_val = cost_function(initial_guess,args)\n",
    "print(cost_val)"
   ]
  },
  {
   "cell_type": "code",
   "execution_count": null,
   "metadata": {},
   "outputs": [],
   "source": [
    "opt_result = minimize(cost_function,initial_guess,args = [xs,ys])"
   ]
  },
  {
   "cell_type": "code",
   "execution_count": null,
   "metadata": {},
   "outputs": [],
   "source": [
    "# get results of optimization\n",
    "print(opt_result.x)\n",
    "m_best = opt_result.x[0]\n",
    "b_best = opt_result.x[1]\n",
    "theta_best = [m_best,b_best]"
   ]
  },
  {
   "cell_type": "markdown",
   "metadata": {},
   "source": [
    "## 4) Check Result by Plotting"
   ]
  },
  {
   "cell_type": "code",
   "execution_count": 25,
   "metadata": {},
   "outputs": [
    {
     "name": "stdout",
     "output_type": "stream",
     "text": [
      "1.1\n"
     ]
    }
   ],
   "source": [
    "# use linspace() to make some x values\n",
    "# calculate the model's corresponding y values, based on theta_best\n",
    "#plot these\n",
    "xmax = df[\"x1\"].max()\n",
    "xmin = df[\"x1\"].min()\n",
    "xVals = np.linspace(xmin, xmax, num=100)\n",
    "for i in xVals:\n",
    "    yVals[i] =  "
   ]
  },
  {
   "cell_type": "code",
   "execution_count": null,
   "metadata": {},
   "outputs": [],
   "source": [
    "# plot the original points on top of this\n",
    "YOUR CODE HERE"
   ]
  },
  {
   "cell_type": "markdown",
   "metadata": {},
   "source": [
    "## Try it all over with a 5th degree polynomial model!"
   ]
  },
  {
   "cell_type": "code",
   "execution_count": null,
   "metadata": {},
   "outputs": [],
   "source": [
    "YOUR CODE HERE"
   ]
  },
  {
   "cell_type": "markdown",
   "metadata": {},
   "source": [
    "## Extra - Plot Cost Surface"
   ]
  },
  {
   "cell_type": "code",
   "execution_count": null,
   "metadata": {},
   "outputs": [],
   "source": [
    "YOUR CODE HERE"
   ]
  }
 ],
 "metadata": {
  "kernelspec": {
   "display_name": "Python 3",
   "language": "python",
   "name": "python3"
  },
  "language_info": {
   "codemirror_mode": {
    "name": "ipython",
    "version": 3
   },
   "file_extension": ".py",
   "mimetype": "text/x-python",
   "name": "python",
   "nbconvert_exporter": "python",
   "pygments_lexer": "ipython3",
   "version": "3.7.4"
  }
 },
 "nbformat": 4,
 "nbformat_minor": 2
}
