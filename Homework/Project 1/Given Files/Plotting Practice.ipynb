{
 "cells": [
  {
   "cell_type": "markdown",
   "metadata": {},
   "source": [
    "This part loads the data from the CSV file anc checks out the top 5 values to make sure everything is transferred over properly."
   ]
  },
  {
   "cell_type": "code",
   "execution_count": 78,
   "metadata": {},
   "outputs": [
    {
     "name": "stdout",
     "output_type": "stream",
     "text": [
      "    Vit_A   Vit_C  label\n",
      "0  0.0732  1.0073  Apple\n",
      "1  0.7300  1.9327  Apple\n",
      "2  0.3464  1.6093  Apple\n",
      "3  0.6522  1.8918  Apple\n",
      "4  0.4818  1.4208  Apple\n"
     ]
    }
   ],
   "source": [
    "# Import all needed libraries\n",
    "import matplotlib.pyplot as plt\n",
    "import pandas as pd\n",
    "import numpy as np\n",
    "\n",
    "#get the data in to a dataframe and set the right colulmn names\n",
    "data = pd.read_csv(\"fruit_data.txt\", sep=\"\\s+\")\n",
    "\n",
    "print(data.head())"
   ]
  },
  {
   "cell_type": "markdown",
   "metadata": {},
   "source": [
    "This cell seperates the data into two 2-diminsional dataframes, one for Apples and one for Oranges. Each dataframe has a value for the vitamin A and the vitamin C."
   ]
  },
  {
   "cell_type": "code",
   "execution_count": null,
   "metadata": {},
   "outputs": [],
   "source": [
    "#Now we need\n",
    "\n",
    "print()\n",
    "\n",
    "#print(data.loc[data[\"label\"] == \"Apple\"])\n",
    "# data = {'Name':['Tom', 'nick', 'krish', 'jack'], 'Age':[20, 21, 19, 18]} "
   ]
  }
 ],
 "metadata": {
  "kernelspec": {
   "display_name": "Python 3",
   "language": "python",
   "name": "python3"
  },
  "language_info": {
   "codemirror_mode": {
    "name": "ipython",
    "version": 3
   },
   "file_extension": ".py",
   "mimetype": "text/x-python",
   "name": "python",
   "nbconvert_exporter": "python",
   "pygments_lexer": "ipython3",
   "version": "3.7.4"
  }
 },
 "nbformat": 4,
 "nbformat_minor": 2
}
