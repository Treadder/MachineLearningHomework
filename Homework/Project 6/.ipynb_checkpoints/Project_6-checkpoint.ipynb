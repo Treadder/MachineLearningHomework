{
 "cells": [
  {
   "cell_type": "markdown",
   "metadata": {},
   "source": [
    "# Project 5 - Optimization Exercise\n",
    "\n",
    "## finding N maximally distant points on a sphere or unit sphere"
   ]
  },
  {
   "cell_type": "code",
   "execution_count": 63,
   "metadata": {},
   "outputs": [],
   "source": [
    "import tensorflow as tf\n",
    "assert tf.__version__ >= \"2.0\"\n",
    "\n",
    "import numpy as np\n",
    "import matplotlib.pyplot as plt\n",
    "import random\n",
    "\n",
    "%matplotlib qt"
   ]
  },
  {
   "cell_type": "code",
   "execution_count": 189,
   "metadata": {},
   "outputs": [],
   "source": [
    "# set up number of dimensions (could be 2 or 3 for visualization)\n",
    "NUM_DIMS = 3\n",
    "\n",
    "# set up number of points that will be on unit sphere\n",
    "NUM_PTS = 20"
   ]
  },
  {
   "cell_type": "code",
   "execution_count": 190,
   "metadata": {},
   "outputs": [],
   "source": [
    "# function to calculate loss term that penalizes points for not being on unit sphere\n",
    "\n",
    "def sphere_term(tf_pts):           #tf_points will be defined later. It's a tensorflow variable. Basically an array of points.\n",
    "    zr = np.zeros([NUM_DIMS])      #make the Origin. We want all points to be 1 unit away from that. (on the unit sphere)\n",
    "    a = 0                          #our distance from the origin. To be calculted in the next few lines.\n",
    "    for n in range(NUM_PTS):\n",
    "        a += tf.abs(tf.norm(tf_pts[n,:]-zr)-1)\n",
    "        \n",
    "        #Basically takes a vector difference of the point and origin, than computes the norm (magniture)\n",
    "        #before taking the absolute value. The norm should be 1, so we subtract 1 to try and get 0, which\n",
    "        #should be the lowest possible value to get out of this function.\n",
    "        \n",
    "    return a"
   ]
  },
  {
   "cell_type": "code",
   "execution_count": 191,
   "metadata": {},
   "outputs": [],
   "source": [
    "#takes a point input, which is what the function will attempt to cause 1 point to \"gravitate\" towards. The cost rises as the\n",
    "#first point in the input list gets further from the chosen point. (I'm using Euclidian distance for this)\n",
    "\n",
    "def point_term(tf_pts, point):\n",
    "    a = 0\n",
    "    value_array = tf_pts.numpy()#convert to a numpy array for ease of slicing and striding. Inefficiant? Yes. Effective though.\n",
    "    counter = 0\n",
    "    \n",
    "    #iterate over each vector value, find the difference between them, and square the result.\n",
    "    \n",
    "    for i in range(0, len(value_array[0])):\n",
    "            counter += (value_array[0][i] - point[i])**2\n",
    "    euclidian_distance = counter**1/2\n",
    "    return euclidian_distance    "
   ]
  },
  {
   "cell_type": "code",
   "execution_count": 192,
   "metadata": {},
   "outputs": [
    {
     "name": "stdout",
     "output_type": "stream",
     "text": [
      "on_norm is: tf.Tensor(1.0, shape=(), dtype=float64)\n",
      "on_minus_origin is: [1. 0.]\n",
      "origin_minus_on is: [-1.  0.]\n",
      "origin_minus_on_norm is: tf.Tensor(1.0, shape=(), dtype=float64)\n",
      "inside_norm is: tf.Tensor(0.7810249675906654, shape=(), dtype=float64)\n",
      "big_norm is: tf.Tensor(3.7589893, shape=(), dtype=float32)\n"
     ]
    }
   ],
   "source": [
    "#testing and gaining intuition for the \"norm\" of different things.\n",
    "origin = np.array([0.0, 0.0])\n",
    "inside = np.array([0.5, 0.6])\n",
    "on = np.array([1.0, 0.0])\n",
    "outside = np.array([1.5, 2.0])\n",
    "big = [[3.0, 2.0], [0.3, 0.2], [1.0, 0.0]]\n",
    "\n",
    "on_norm = tf.norm(on)\n",
    "print(\"on_norm is: \" + str(on_norm))\n",
    "\n",
    "on_minus_origin = (on - origin)\n",
    "print(\"on_minus_origin is: \" + str(on_minus_origin))\n",
    "\n",
    "origin_minus_on = (origin - on)\n",
    "print(\"origin_minus_on is: \" + str(origin_minus_on))\n",
    "\n",
    "origin_minus_on_norm = tf.norm(origin_minus_on)\n",
    "print(\"origin_minus_on_norm is: \" + str(origin_minus_on_norm))\n",
    "\n",
    "inside_norm = tf.norm(inside)\n",
    "print(\"inside_norm is: \" + str(inside_norm))\n",
    "\n",
    "big_norm = tf.norm(big)\n",
    "print(\"big_norm is: \" + str(big_norm))\n",
    "\n",
    "#OK if we can get norms that are less than 1 than our function might converge on something wrong. TODO"
   ]
  },
  {
   "cell_type": "code",
   "execution_count": 193,
   "metadata": {},
   "outputs": [],
   "source": [
    "# function to calculate loss term that penalizes points for not being on unit sphere\n",
    "def repel_term(tf_pts):\n",
    "    a = 0\n",
    "    for n in range(NUM_PTS):\n",
    "        for m in range(n):\n",
    "            a += 1.0/(tf.norm(tf_pts[n,:]-tf_pts[m,:])+1e-20)\n",
    "    return a"
   ]
  },
  {
   "cell_type": "code",
   "execution_count": 194,
   "metadata": {},
   "outputs": [],
   "source": [
    "# combined loss function with term weight constants\n",
    "alpha = 10\n",
    "beta = 10\n",
    "gamma = 1000 #100\n",
    "\n",
    "close_point = np.zeros(NUM_DIMS) #the point to try and get the first point in tf_pts to gravitate to. Can be any dimensionality.\n",
    "close_point[-1] = -1 #make the last value in close_point be a 1.\n",
    "\n",
    "# `loss` is a callable that takes no argument and returns the value to minimize.\n",
    "# \"lambda\" is a tensorflow compatibility step for the loss callable.\n",
    "\n",
    "loss = lambda: alpha*sphere_term(tf_pts) + beta*repel_term(tf_pts) + gamma*point_term(tf_pts, close_point)"
   ]
  },
  {
   "cell_type": "code",
   "execution_count": 195,
   "metadata": {},
   "outputs": [],
   "source": [
    "# Create an optimizer with the desired parameters.\n",
    "# opt = tf.keras.optimizers.SGD(learning_rate=0.00001)\n",
    "opt = tf.keras.optimizers.Nadam()#instantiate an instance of the nadam optimizer and call it \"opt\""
   ]
  },
  {
   "cell_type": "code",
   "execution_count": 196,
   "metadata": {},
   "outputs": [],
   "source": [
    "#create random points in range 0-1.0 as numpy array and cast to TF variable\n",
    "tf_pts = tf.Variable(np.random.rand(NUM_PTS,NUM_DIMS))"
   ]
  },
  {
   "cell_type": "code",
   "execution_count": 197,
   "metadata": {},
   "outputs": [
    {
     "name": "stdout",
     "output_type": "stream",
     "text": [
      "iteration #:  0\n",
      "tf.Tensor(42.4333543788488, shape=(), dtype=float64)\n",
      "tf.Tensor(3427.5791897015642, shape=(), dtype=float64)\n",
      "iteration #:  100\n",
      "tf.Tensor(55.94904805348256, shape=(), dtype=float64)\n",
      "tf.Tensor(2621.6263606128596, shape=(), dtype=float64)\n",
      "iteration #:  200\n",
      "tf.Tensor(67.87015265436212, shape=(), dtype=float64)\n",
      "tf.Tensor(2200.772752762875, shape=(), dtype=float64)\n",
      "iteration #:  300\n",
      "tf.Tensor(78.43506075452996, shape=(), dtype=float64)\n",
      "tf.Tensor(1929.7937740359498, shape=(), dtype=float64)\n",
      "iteration #:  400\n",
      "tf.Tensor(86.86108911987756, shape=(), dtype=float64)\n",
      "tf.Tensor(1737.745922313125, shape=(), dtype=float64)\n",
      "iteration #:  500\n",
      "tf.Tensor(93.87142556110092, shape=(), dtype=float64)\n",
      "tf.Tensor(1591.7847514776354, shape=(), dtype=float64)\n",
      "iteration #:  600\n",
      "tf.Tensor(101.31791424063225, shape=(), dtype=float64)\n",
      "tf.Tensor(1476.4132646253397, shape=(), dtype=float64)\n",
      "iteration #:  700\n",
      "tf.Tensor(108.29752019279489, shape=(), dtype=float64)\n",
      "tf.Tensor(1381.538999395258, shape=(), dtype=float64)\n",
      "iteration #:  800\n",
      "tf.Tensor(114.69760357702698, shape=(), dtype=float64)\n",
      "tf.Tensor(1301.5758856161322, shape=(), dtype=float64)\n",
      "iteration #:  900\n",
      "tf.Tensor(120.56322981092977, shape=(), dtype=float64)\n",
      "tf.Tensor(1233.0326128145477, shape=(), dtype=float64)\n",
      "iteration #:  1000\n",
      "tf.Tensor(126.56169255833308, shape=(), dtype=float64)\n",
      "tf.Tensor(1173.9499278193957, shape=(), dtype=float64)\n",
      "iteration #:  1100\n",
      "tf.Tensor(132.40579667546024, shape=(), dtype=float64)\n",
      "tf.Tensor(1122.1974274545576, shape=(), dtype=float64)\n",
      "iteration #:  1200\n",
      "tf.Tensor(137.79285891286042, shape=(), dtype=float64)\n",
      "tf.Tensor(1076.0913364610979, shape=(), dtype=float64)\n",
      "iteration #:  1300\n",
      "tf.Tensor(142.76139053737893, shape=(), dtype=float64)\n",
      "tf.Tensor(1034.7033899998476, shape=(), dtype=float64)\n",
      "iteration #:  1400\n",
      "tf.Tensor(147.5491284649109, shape=(), dtype=float64)\n",
      "tf.Tensor(997.3525701358294, shape=(), dtype=float64)\n",
      "iteration #:  1500\n",
      "tf.Tensor(152.60957816626987, shape=(), dtype=float64)\n",
      "tf.Tensor(963.8216600479327, shape=(), dtype=float64)\n",
      "iteration #:  1600\n",
      "tf.Tensor(159.0568102153332, shape=(), dtype=float64)\n",
      "tf.Tensor(934.9746962219809, shape=(), dtype=float64)\n",
      "iteration #:  1700\n",
      "tf.Tensor(165.98267841245303, shape=(), dtype=float64)\n",
      "tf.Tensor(909.3807793795609, shape=(), dtype=float64)\n",
      "iteration #:  1800\n",
      "tf.Tensor(172.845021059538, shape=(), dtype=float64)\n",
      "tf.Tensor(885.8459457026424, shape=(), dtype=float64)\n",
      "iteration #:  1900\n",
      "tf.Tensor(179.6258162807632, shape=(), dtype=float64)\n",
      "tf.Tensor(864.0602814925958, shape=(), dtype=float64)\n",
      "iteration #:  2000\n",
      "tf.Tensor(186.33353530741113, shape=(), dtype=float64)\n",
      "tf.Tensor(843.7868560667525, shape=(), dtype=float64)\n",
      "iteration #:  2100\n",
      "tf.Tensor(193.15421637530932, shape=(), dtype=float64)\n",
      "tf.Tensor(824.7333492272641, shape=(), dtype=float64)\n",
      "iteration #:  2200\n",
      "tf.Tensor(199.8583364072314, shape=(), dtype=float64)\n",
      "tf.Tensor(806.920385933069, shape=(), dtype=float64)\n",
      "iteration #:  2300\n",
      "tf.Tensor(206.44527087950135, shape=(), dtype=float64)\n",
      "tf.Tensor(790.2263162049592, shape=(), dtype=float64)\n",
      "iteration #:  2400\n",
      "tf.Tensor(212.90211284212918, shape=(), dtype=float64)\n",
      "tf.Tensor(774.5557053775286, shape=(), dtype=float64)\n",
      "iteration #:  2500\n",
      "tf.Tensor(219.2395830412358, shape=(), dtype=float64)\n",
      "tf.Tensor(759.8112517814719, shape=(), dtype=float64)\n",
      "iteration #:  2600\n",
      "tf.Tensor(225.44107915128404, shape=(), dtype=float64)\n",
      "tf.Tensor(745.9248546048121, shape=(), dtype=float64)\n",
      "iteration #:  2700\n",
      "tf.Tensor(231.51140064571302, shape=(), dtype=float64)\n",
      "tf.Tensor(732.8239169921144, shape=(), dtype=float64)\n",
      "iteration #:  2800\n",
      "tf.Tensor(237.44268169300022, shape=(), dtype=float64)\n",
      "tf.Tensor(720.4523171798585, shape=(), dtype=float64)\n",
      "iteration #:  2900\n",
      "tf.Tensor(243.23748876702814, shape=(), dtype=float64)\n",
      "tf.Tensor(708.7523608014317, shape=(), dtype=float64)\n",
      "iteration #:  3000\n",
      "tf.Tensor(248.89417669047225, shape=(), dtype=float64)\n",
      "tf.Tensor(697.6766443926131, shape=(), dtype=float64)\n",
      "iteration #:  3100\n",
      "tf.Tensor(254.40462145792986, shape=(), dtype=float64)\n",
      "tf.Tensor(687.1886069658354, shape=(), dtype=float64)\n",
      "iteration #:  3200\n",
      "tf.Tensor(259.7642042763689, shape=(), dtype=float64)\n",
      "tf.Tensor(677.2517883538112, shape=(), dtype=float64)\n",
      "iteration #:  3300\n",
      "tf.Tensor(264.98054789311874, shape=(), dtype=float64)\n",
      "tf.Tensor(667.8286661969807, shape=(), dtype=float64)\n",
      "iteration #:  3400\n",
      "tf.Tensor(270.03911704940265, shape=(), dtype=float64)\n",
      "tf.Tensor(658.8976053236154, shape=(), dtype=float64)\n",
      "iteration #:  3500\n",
      "tf.Tensor(274.9460708727259, shape=(), dtype=float64)\n",
      "tf.Tensor(650.4286532709202, shape=(), dtype=float64)\n",
      "iteration #:  3600\n",
      "tf.Tensor(279.6895096740435, shape=(), dtype=float64)\n",
      "tf.Tensor(642.4058505925605, shape=(), dtype=float64)\n",
      "iteration #:  3700\n",
      "tf.Tensor(284.2646022866415, shape=(), dtype=float64)\n",
      "tf.Tensor(634.8111641265402, shape=(), dtype=float64)\n",
      "iteration #:  3800\n",
      "tf.Tensor(288.67218428534875, shape=(), dtype=float64)\n",
      "tf.Tensor(627.6288167833026, shape=(), dtype=float64)\n",
      "iteration #:  3900\n",
      "tf.Tensor(292.9024752186686, shape=(), dtype=float64)\n",
      "tf.Tensor(620.8404786540818, shape=(), dtype=float64)\n",
      "iteration #:  4000\n",
      "tf.Tensor(296.9557407415389, shape=(), dtype=float64)\n",
      "tf.Tensor(614.4385686674129, shape=(), dtype=float64)\n",
      "iteration #:  4100\n",
      "tf.Tensor(300.8250523259645, shape=(), dtype=float64)\n",
      "tf.Tensor(608.411598289266, shape=(), dtype=float64)\n",
      "iteration #:  4200\n",
      "tf.Tensor(304.509910236236, shape=(), dtype=float64)\n",
      "tf.Tensor(602.7434212223018, shape=(), dtype=float64)\n",
      "iteration #:  4300\n",
      "tf.Tensor(307.99582178392194, shape=(), dtype=float64)\n",
      "tf.Tensor(597.4316114619162, shape=(), dtype=float64)\n",
      "iteration #:  4400\n",
      "tf.Tensor(311.29393960148144, shape=(), dtype=float64)\n",
      "tf.Tensor(592.4576520131543, shape=(), dtype=float64)\n",
      "iteration #:  4500\n",
      "tf.Tensor(314.38797914124115, shape=(), dtype=float64)\n",
      "tf.Tensor(587.8168781771109, shape=(), dtype=float64)\n",
      "iteration #:  4600\n",
      "tf.Tensor(317.29284590575776, shape=(), dtype=float64)\n",
      "tf.Tensor(583.4897310642447, shape=(), dtype=float64)\n",
      "iteration #:  4700\n",
      "tf.Tensor(320.002390927589, shape=(), dtype=float64)\n",
      "tf.Tensor(579.4676084307417, shape=(), dtype=float64)\n",
      "iteration #:  4800\n",
      "tf.Tensor(322.5103969027955, shape=(), dtype=float64)\n",
      "tf.Tensor(575.7411242340085, shape=(), dtype=float64)\n",
      "iteration #:  4900\n",
      "tf.Tensor(324.83543190989195, shape=(), dtype=float64)\n",
      "tf.Tensor(572.2902478319955, shape=(), dtype=float64)\n",
      "iteration #:  5000\n",
      "tf.Tensor(326.9657350604257, shape=(), dtype=float64)\n",
      "tf.Tensor(569.1088949278735, shape=(), dtype=float64)\n",
      "iteration #:  5100\n",
      "tf.Tensor(328.9154475986667, shape=(), dtype=float64)\n",
      "tf.Tensor(566.1797214800065, shape=(), dtype=float64)\n",
      "iteration #:  5200\n",
      "tf.Tensor(330.688330151794, shape=(), dtype=float64)\n",
      "tf.Tensor(563.4905000475005, shape=(), dtype=float64)\n",
      "iteration #:  5300\n",
      "tf.Tensor(332.290600881428, shape=(), dtype=float64)\n",
      "tf.Tensor(561.0283531105565, shape=(), dtype=float64)\n",
      "iteration #:  5400\n",
      "tf.Tensor(333.72151910637785, shape=(), dtype=float64)\n",
      "tf.Tensor(558.7841456008969, shape=(), dtype=float64)\n",
      "iteration #:  5500\n",
      "tf.Tensor(334.99459481873606, shape=(), dtype=float64)\n",
      "tf.Tensor(556.7424570970466, shape=(), dtype=float64)\n",
      "iteration #:  5600\n",
      "tf.Tensor(336.1153021418988, shape=(), dtype=float64)\n",
      "tf.Tensor(554.8919206483766, shape=(), dtype=float64)\n",
      "iteration #:  5700\n",
      "tf.Tensor(337.0797669515854, shape=(), dtype=float64)\n",
      "tf.Tensor(553.2275102165861, shape=(), dtype=float64)\n",
      "iteration #:  5800\n",
      "tf.Tensor(337.90869868516376, shape=(), dtype=float64)\n",
      "tf.Tensor(551.7266622463526, shape=(), dtype=float64)\n",
      "iteration #:  5900\n",
      "tf.Tensor(338.59578163212353, shape=(), dtype=float64)\n",
      "tf.Tensor(550.388605012714, shape=(), dtype=float64)\n",
      "iteration #:  6000\n",
      "tf.Tensor(339.158317999292, shape=(), dtype=float64)\n",
      "tf.Tensor(549.1948351226231, shape=(), dtype=float64)\n",
      "iteration #:  6100\n",
      "tf.Tensor(339.93577406457865, shape=(), dtype=float64)\n",
      "tf.Tensor(547.8973569492523, shape=(), dtype=float64)\n",
      "iteration #:  6200\n",
      "tf.Tensor(340.70460899972403, shape=(), dtype=float64)\n",
      "tf.Tensor(546.6771742625859, shape=(), dtype=float64)\n",
      "iteration #:  6300\n",
      "tf.Tensor(341.3476208314139, shape=(), dtype=float64)\n",
      "tf.Tensor(545.6183562975656, shape=(), dtype=float64)\n",
      "iteration #:  6400\n",
      "tf.Tensor(341.8775965430326, shape=(), dtype=float64)\n",
      "tf.Tensor(544.7011186242778, shape=(), dtype=float64)\n"
     ]
    },
    {
     "name": "stdout",
     "output_type": "stream",
     "text": [
      "iteration #:  6500\n",
      "tf.Tensor(342.3207619374517, shape=(), dtype=float64)\n",
      "tf.Tensor(543.9011750919966, shape=(), dtype=float64)\n",
      "iteration #:  6600\n",
      "tf.Tensor(342.68101739132993, shape=(), dtype=float64)\n",
      "tf.Tensor(543.2106309943839, shape=(), dtype=float64)\n",
      "iteration #:  6700\n",
      "tf.Tensor(342.9690302204075, shape=(), dtype=float64)\n",
      "tf.Tensor(542.6164771646172, shape=(), dtype=float64)\n",
      "iteration #:  6800\n",
      "tf.Tensor(343.18825540501786, shape=(), dtype=float64)\n",
      "tf.Tensor(542.1110922101979, shape=(), dtype=float64)\n",
      "iteration #:  6900\n",
      "tf.Tensor(343.3544377466714, shape=(), dtype=float64)\n",
      "tf.Tensor(541.6802128454317, shape=(), dtype=float64)\n",
      "iteration #:  7000\n",
      "tf.Tensor(343.49110101647256, shape=(), dtype=float64)\n",
      "tf.Tensor(541.3015082990196, shape=(), dtype=float64)\n",
      "iteration #:  7100\n",
      "tf.Tensor(343.5761134007447, shape=(), dtype=float64)\n",
      "tf.Tensor(540.9890744641502, shape=(), dtype=float64)\n",
      "iteration #:  7200\n",
      "tf.Tensor(343.65120261136616, shape=(), dtype=float64)\n",
      "tf.Tensor(540.7072783194492, shape=(), dtype=float64)\n",
      "iteration #:  7300\n",
      "tf.Tensor(343.68792457244894, shape=(), dtype=float64)\n",
      "tf.Tensor(540.4752854546047, shape=(), dtype=float64)\n",
      "iteration #:  7400\n",
      "tf.Tensor(343.7206843666529, shape=(), dtype=float64)\n",
      "tf.Tensor(540.2659766561667, shape=(), dtype=float64)\n",
      "iteration #:  7500\n",
      "tf.Tensor(343.7294604983182, shape=(), dtype=float64)\n",
      "tf.Tensor(540.0922360789777, shape=(), dtype=float64)\n",
      "iteration #:  7600\n",
      "tf.Tensor(343.7439594293531, shape=(), dtype=float64)\n",
      "tf.Tensor(539.9257119057128, shape=(), dtype=float64)\n",
      "iteration #:  7700\n",
      "tf.Tensor(343.7403561063944, shape=(), dtype=float64)\n",
      "tf.Tensor(539.7866601492159, shape=(), dtype=float64)\n",
      "iteration #:  7800\n",
      "tf.Tensor(343.7308516232522, shape=(), dtype=float64)\n",
      "tf.Tensor(539.6630702738647, shape=(), dtype=float64)\n",
      "iteration #:  7900\n",
      "tf.Tensor(343.71105078582553, shape=(), dtype=float64)\n",
      "tf.Tensor(539.556174747625, shape=(), dtype=float64)\n",
      "iteration #:  8000\n",
      "tf.Tensor(343.6995601912037, shape=(), dtype=float64)\n",
      "tf.Tensor(539.4522126465291, shape=(), dtype=float64)\n",
      "iteration #:  8100\n",
      "tf.Tensor(343.68038555873443, shape=(), dtype=float64)\n",
      "tf.Tensor(539.3604620077845, shape=(), dtype=float64)\n",
      "iteration #:  8200\n",
      "tf.Tensor(343.65128083663467, shape=(), dtype=float64)\n",
      "tf.Tensor(539.2813867838418, shape=(), dtype=float64)\n",
      "iteration #:  8300\n",
      "tf.Tensor(343.62681244621996, shape=(), dtype=float64)\n",
      "tf.Tensor(539.2038018256746, shape=(), dtype=float64)\n",
      "iteration #:  8400\n",
      "tf.Tensor(343.58088575248144, shape=(), dtype=float64)\n",
      "tf.Tensor(539.145118530797, shape=(), dtype=float64)\n",
      "iteration #:  8500\n",
      "tf.Tensor(343.53163769152417, shape=(), dtype=float64)\n",
      "tf.Tensor(539.0894790780573, shape=(), dtype=float64)\n",
      "iteration #:  8600\n",
      "tf.Tensor(343.46581264743094, shape=(), dtype=float64)\n",
      "tf.Tensor(539.0466583394943, shape=(), dtype=float64)\n",
      "iteration #:  8700\n",
      "tf.Tensor(343.39577073068796, shape=(), dtype=float64)\n",
      "tf.Tensor(539.0077976421587, shape=(), dtype=float64)\n",
      "iteration #:  8800\n",
      "tf.Tensor(343.30681752157386, shape=(), dtype=float64)\n",
      "tf.Tensor(538.9748360918993, shape=(), dtype=float64)\n",
      "iteration #:  8900\n",
      "tf.Tensor(343.20308784126223, shape=(), dtype=float64)\n",
      "tf.Tensor(538.9491094666782, shape=(), dtype=float64)\n",
      "iteration #:  9000\n",
      "tf.Tensor(343.09173840755784, shape=(), dtype=float64)\n",
      "tf.Tensor(538.9203485773442, shape=(), dtype=float64)\n",
      "iteration #:  9100\n",
      "tf.Tensor(342.9540209684205, shape=(), dtype=float64)\n",
      "tf.Tensor(538.8994546088995, shape=(), dtype=float64)\n",
      "iteration #:  9200\n",
      "tf.Tensor(342.7920965532292, shape=(), dtype=float64)\n",
      "tf.Tensor(538.8820142648825, shape=(), dtype=float64)\n",
      "iteration #:  9300\n",
      "tf.Tensor(342.6027276114795, shape=(), dtype=float64)\n",
      "tf.Tensor(538.8677316259975, shape=(), dtype=float64)\n",
      "iteration #:  9400\n",
      "tf.Tensor(342.37424727657213, shape=(), dtype=float64)\n",
      "tf.Tensor(538.865505402711, shape=(), dtype=float64)\n",
      "iteration #:  9500\n",
      "tf.Tensor(342.1254579964374, shape=(), dtype=float64)\n",
      "tf.Tensor(538.8587120947072, shape=(), dtype=float64)\n",
      "iteration #:  9600\n",
      "tf.Tensor(342.1635698576224, shape=(), dtype=float64)\n",
      "tf.Tensor(538.5813051218722, shape=(), dtype=float64)\n",
      "iteration #:  9700\n",
      "tf.Tensor(342.63336055415994, shape=(), dtype=float64)\n",
      "tf.Tensor(537.9790322188016, shape=(), dtype=float64)\n",
      "iteration #:  9800\n",
      "tf.Tensor(342.88012230235216, shape=(), dtype=float64)\n",
      "tf.Tensor(537.6234053838091, shape=(), dtype=float64)\n",
      "iteration #:  9900\n",
      "tf.Tensor(343.0220536378358, shape=(), dtype=float64)\n",
      "tf.Tensor(537.3903475153064, shape=(), dtype=float64)\n"
     ]
    }
   ],
   "source": [
    "# calling optimization in tensorflow\n",
    "# set up number of iterations that the optimization will run\n",
    "NUM_ITERS = 10000 # 100000\n",
    "sphere_terms = []#make two lists for holding the cost information as we go along. We'll use it later.\n",
    "repel_terms = []\n",
    "point_terms = []\n",
    "for n in range(NUM_ITERS):\n",
    "    sphere_terms.append(alpha*sphere_term(tf_pts))\n",
    "    repel_terms.append(beta*repel_term(tf_pts))   \n",
    "    point_terms.append(gamma*point_term(tf_pts, close_point))\n",
    "    if n%100 == 0:\n",
    "        print('iteration #: ',n)#print every hundredth iteration.\n",
    "        print(alpha*sphere_term(tf_pts))\n",
    "        print(beta*repel_term(tf_pts))\n",
    "    opt.minimize(loss, var_list=[tf_pts])"
   ]
  },
  {
   "cell_type": "code",
   "execution_count": 74,
   "metadata": {},
   "outputs": [],
   "source": [
    "%matplotlib inline\n",
    "#keep the popup window from being a thing."
   ]
  },
  {
   "cell_type": "code",
   "execution_count": 75,
   "metadata": {},
   "outputs": [
    {
     "data": {
      "image/png": "[encoded data removed]",
      "text/plain": [
       "<Figure size 432x288 with 1 Axes>"
      ]
     },
     "metadata": {
      "needs_background": "light"
     },
     "output_type": "display_data"
    }
   ],
   "source": [
    "# plotting loss curves\n",
    "plt.figure()\n",
    "s_line, = plt.plot(sphere_terms,'r')\n",
    "r_line, = plt.plot(repel_terms,'b')\n",
    "p_line, = plt.plot(point_terms,'k')\n",
    "plt.xlabel('# iterations')\n",
    "plt.ylabel('loss function(s)')\n",
    "plt.grid()\n",
    "plt.legend((s_line,r_line, p_line),('sphere term','repel term', 'point term'))\n",
    "plt.show()"
   ]
  },
  {
   "cell_type": "code",
   "execution_count": 76,
   "metadata": {
    "scrolled": true
   },
   "outputs": [
    {
     "name": "stdout",
     "output_type": "stream",
     "text": [
      "the data type of tf_array is: <class 'numpy.ndarray'>\n",
      "\n",
      "tf_array is:\n",
      "[[ 0.64128741 -0.46641012 -0.61232562]\n",
      " [-0.56749063 -0.67815532  0.46736826]\n",
      " [ 0.51235759  0.53198943  0.67812382]\n",
      " [-0.58524085  0.61456713 -0.53420863]]\n",
      "\n",
      "the norm is.....[1.00186357 1.00018666 1.00268388 1.00278536]\n"
     ]
    }
   ],
   "source": [
    "tf_array = tf_pts.numpy()#gotta convert it to be useable. tf_pts is a special tensorflow variable.\n",
    "print(\"the data type of tf_array is: \" + str(type(tf_array)))\n",
    "print(\"\")\n",
    "\n",
    "print(\"tf_array is:\")\n",
    "print(tf_array)\n",
    "print(\"\")\n",
    "\n",
    "# check if distance of pts from origin is 1\n",
    "print(\"the norm is.....\" + str(np.linalg.norm(tf_array,axis = 1)))\n"
   ]
  },
  {
   "cell_type": "code",
   "execution_count": 77,
   "metadata": {},
   "outputs": [],
   "source": [
    "# 2-D Plotting with unit circle\n",
    "if NUM_DIMS == 2:\n",
    "    # 2-D Plotting\n",
    "    fig, axs = plt.subplots(1,1)\n",
    "    axs.plot(tf_pts[:,0],tf_pts[:,1],'bs')\n",
    "    axs.axis('equal')\n",
    "    angles = np.linspace(0, 2 * np.pi, 100)\n",
    "    axs.plot(np.cos(angles),np.sin(angles))"
   ]
  },
  {
   "cell_type": "code",
   "execution_count": 78,
   "metadata": {},
   "outputs": [
    {
     "data": {
      "image/png": "[encoded data removed]",
      "text/plain": [
       "<Figure size 432x288 with 1 Axes>"
      ]
     },
     "metadata": {
      "needs_background": "light"
     },
     "output_type": "display_data"
    },
    {
     "data": {
      "image/png": "[encoded data removed]",
      "text/plain": [
       "<Figure size 432x288 with 1 Axes>"
      ]
     },
     "metadata": {
      "needs_background": "light"
     },
     "output_type": "display_data"
    }
   ],
   "source": [
    "# 3-D Plotting with unit sphere\n",
    "if NUM_DIMS == 3:\n",
    "    a = tf_pts\n",
    "    import matplotlib as mpl\n",
    "    from mpl_toolkits.mplot3d import Axes3D\n",
    "    fig = plt.figure()\n",
    "    ax = fig.gca(projection='3d')\n",
    "    xp = a[:,0]\n",
    "    yp = a[:,1]\n",
    "    zp = a[:,2]\n",
    "    ax.plot(xp, yp, zp, 'bs')\n",
    "    \n",
    "    from mpl_toolkits.mplot3d import Axes3D\n",
    "    import matplotlib.pyplot as plt\n",
    "    import numpy as np\n",
    "\n",
    "\n",
    "    fig = plt.figure()\n",
    "    ax = fig.add_subplot(111, projection='3d')\n",
    "\n",
    "    # Make data\n",
    "    u = np.linspace(0, 2 * np.pi, 100)\n",
    "    v = np.linspace(0, np.pi, 100)\n",
    "    x = np.outer(np.cos(u), np.sin(v))\n",
    "    y = np.outer(np.sin(u), np.sin(v))\n",
    "    z = np.outer(np.ones(np.size(u)), np.cos(v))\n",
    "\n",
    "    # Plot the surface\n",
    "    ax.plot_surface(x, y, z, color='b',alpha = 0.2)\n",
    "    ax.scatter(xp, yp, zp, 'bs')\n",
    "\n",
    "    plt.show()"
   ]
  },
  {
   "cell_type": "code",
   "execution_count": 150,
   "metadata": {},
   "outputs": [
    {
     "name": "stdout",
     "output_type": "stream",
     "text": [
      "plot_array is\n",
      "[[ 1.32228119  1.19121566  1.59132605]\n",
      " [-0.79162647 -0.39272845 -2.31413701]\n",
      " [-0.93253943  2.19745923  0.46845281]\n",
      " [ 0.97421792 -0.22830035  0.01102249]\n",
      " [-0.40222168  0.21409074  0.89139056]\n",
      " [ 1.27908851 -1.52929515  1.42039555]\n",
      " [ 1.62791354 -1.02027769 -1.56621652]\n",
      " [ 1.33411127  1.6983452  -1.03822668]\n",
      " [-2.30618267  0.013562   -0.24884126]\n",
      " [-1.28963514 -1.10351336  1.8607043 ]\n",
      " [-0.33028735  0.56455264 -0.75789311]\n",
      " [-0.50556018 -1.80774707 -0.3613241 ]]\n"
     ]
    }
   ],
   "source": [
    "#time to try and plot the polygons nicely. Let's get all the points\n",
    "\n",
    "plot_array = tf_pts.numpy()     #convert to format I know better.\n",
    "print(\"plot_array is\")\n",
    "print(plot_array)"
   ]
  },
  {
   "cell_type": "code",
   "execution_count": 164,
   "metadata": {},
   "outputs": [],
   "source": [
    "Tetrahedron = tf_pts.numpy()#4                              <---Done!"
   ]
  },
  {
   "cell_type": "code",
   "execution_count": 165,
   "metadata": {},
   "outputs": [
    {
     "name": "stdout",
     "output_type": "stream",
     "text": [
      "[[-0.15002707  0.9897345   0.0191453 ]\n",
      " [-0.86299958 -0.47290326  0.19082597]\n",
      " [ 0.33579454 -0.26956161 -0.90503305]\n",
      " [ 0.67780946 -0.24900342  0.69537813]]\n"
     ]
    }
   ],
   "source": [
    "print(Tetrahedron)"
   ]
  },
  {
   "cell_type": "code",
   "execution_count": 176,
   "metadata": {},
   "outputs": [],
   "source": [
    "Octahedron = tf_pts.numpy()#6                                <----Done!"
   ]
  },
  {
   "cell_type": "code",
   "execution_count": 177,
   "metadata": {},
   "outputs": [
    {
     "name": "stdout",
     "output_type": "stream",
     "text": [
      "[[ 0.9484132   0.68935648 -0.53928403]\n",
      " [ 0.83011862 -0.45879703  0.87327385]\n",
      " [ 0.27500291 -0.98957959 -0.78125025]\n",
      " [-0.82985657  0.458732   -0.87310991]\n",
      " [-0.275004    0.98952974  0.78131717]\n",
      " [-0.94838302 -0.68937455  0.53932475]]\n"
     ]
    }
   ],
   "source": [
    "print(Octahedron)"
   ]
  },
  {
   "cell_type": "code",
   "execution_count": 187,
   "metadata": {},
   "outputs": [],
   "source": [
    "Cube = tf_pts.numpy()#8                                     <----Done!"
   ]
  },
  {
   "cell_type": "code",
   "execution_count": 188,
   "metadata": {},
   "outputs": [
    {
     "name": "stdout",
     "output_type": "stream",
     "text": [
      "[[ 0.78458434  0.89153913 -1.32600573]\n",
      " [-1.23981767  1.06550255  0.94513488]\n",
      " [ 1.62954919 -0.69991638  0.16795401]\n",
      " [-0.70027247  0.35422203 -0.62297356]\n",
      " [ 0.13398334 -1.17845181 -1.12955529]\n",
      " [-1.3857031  -1.2543583   0.31143957]\n",
      " [ 0.0912816  -0.41221985  0.90833471]\n",
      " [ 0.81501427  1.23894469  0.67926412]]\n"
     ]
    }
   ],
   "source": [
    "print(Cube)"
   ]
  },
  {
   "cell_type": "code",
   "execution_count": 154,
   "metadata": {},
   "outputs": [],
   "source": [
    "Icosahedron = tf_pts.numpy()#12                           <---Done!"
   ]
  },
  {
   "cell_type": "code",
   "execution_count": 166,
   "metadata": {},
   "outputs": [
    {
     "name": "stdout",
     "output_type": "stream",
     "text": [
      "[[ 1.32228119  1.19121566  1.59132605]\n",
      " [-0.79162647 -0.39272845 -2.31413701]\n",
      " [-0.93253943  2.19745923  0.46845281]\n",
      " [ 0.97421792 -0.22830035  0.01102249]\n",
      " [-0.40222168  0.21409074  0.89139056]\n",
      " [ 1.27908851 -1.52929515  1.42039555]\n",
      " [ 1.62791354 -1.02027769 -1.56621652]\n",
      " [ 1.33411127  1.6983452  -1.03822668]\n",
      " [-2.30618267  0.013562   -0.24884126]\n",
      " [-1.28963514 -1.10351336  1.8607043 ]\n",
      " [-0.33028735  0.56455264 -0.75789311]\n",
      " [-0.50556018 -1.80774707 -0.3613241 ]]\n"
     ]
    }
   ],
   "source": [
    "print(Icosahedron)"
   ]
  },
  {
   "cell_type": "code",
   "execution_count": 198,
   "metadata": {},
   "outputs": [],
   "source": [
    "Dodecahedron = tf_pts.numpy()#20                              <----Done!"
   ]
  },
  {
   "cell_type": "code",
   "execution_count": 199,
   "metadata": {},
   "outputs": [
    {
     "name": "stdout",
     "output_type": "stream",
     "text": [
      "[[ 2.33037185 -1.58184319 -1.54094615]\n",
      " [-2.82552738  0.62175067 -0.70108796]\n",
      " [-0.21679405  0.9696667  -0.12025197]\n",
      " [ 0.6813527   2.93430621 -0.92664707]\n",
      " [ 1.27587437  0.27061482  2.65565874]\n",
      " [ 2.78913472  1.47729095  0.50242165]\n",
      " [-0.26238572 -3.07523097 -1.22368762]\n",
      " [ 0.43728109  2.58383709  1.80202774]\n",
      " [-1.84877965 -1.21258979 -2.41649754]\n",
      " [ 1.96013031  0.93217361 -2.41605812]\n",
      " [-1.15369764  0.43625527  1.90681537]\n",
      " [ 0.2382942  -0.39002311 -1.54998386]\n",
      " [-2.18114428  2.40589614  0.86215124]\n",
      " [-1.0118989   1.5762224  -2.5583404 ]\n",
      " [-0.80274196 -0.59601406  0.03559157]\n",
      " [-2.70118704 -1.72081516  0.79103724]\n",
      " [ 0.40186745 -2.05903789  0.76605695]\n",
      " [ 2.69820387 -1.6655006   1.2361246 ]\n",
      " [-0.67485902 -1.75218825  2.8783778 ]\n",
      " [ 0.9688662  -0.05223496  0.24428765]]\n"
     ]
    }
   ],
   "source": [
    "print(Dodecahedron)"
   ]
  },
  {
   "cell_type": "code",
   "execution_count": 98,
   "metadata": {},
   "outputs": [],
   "source": [
    "#A method to take an input list of numbers. Each number is a number of points that\n",
    "#we can run through the function and 1)get close to the circle, 2)keep far apart\n",
    "#from each other, and 3) include 1 point close to [..., -1] It's a time saving\n",
    "#function, and will return a matrix of points for each number of points supplied.\n",
    "\n",
    "#accepts an array of point numbers to do this for. [3,2,6] would run this for\n",
    "#3 points, 2 points, and 6 points\n",
    "\n",
    "def generate_arrays_of_points(point_num_list):\n",
    "    return_array = []\n",
    "    NUM_ITERS = 10000 # 100000\n",
    "    for i in range(len(point_num_list)):#generate a new point list for each point count\n",
    "        tf_pts = tf.Variable(np.random.rand(point_num_list[i], NUM_DIMS))\n",
    "        for n in range(NUM_ITERS):\n",
    "            if n%500 == 0:\n",
    "                print('iteration #: ',n )#print every five-hundredth iteration.  \n",
    "            opt.minimize(loss, var_list=[tf_pts])\n",
    "        optimized_points = tf_points.numpy()\n",
    "        return_array[i] = optimized_points\n",
    "    return return_array"
   ]
  },
  {
   "cell_type": "code",
   "execution_count": 99,
   "metadata": {},
   "outputs": [
    {
     "name": "stdout",
     "output_type": "stream",
     "text": [
      "iteration #:  0\n"
     ]
    },
    {
     "ename": "ValueError",
     "evalue": "No gradients provided for any variable: ['Variable:0'].",
     "output_type": "error",
     "traceback": [
      "\u001b[1;31m---------------------------------------------------------------------------\u001b[0m",
      "\u001b[1;31mValueError\u001b[0m                                Traceback (most recent call last)",
      "\u001b[1;32m<ipython-input-99-d08d0a1da3f0>\u001b[0m in \u001b[0;36m<module>\u001b[1;34m\u001b[0m\n\u001b[0;32m      2\u001b[0m \u001b[1;33m\u001b[0m\u001b[0m\n\u001b[0;32m      3\u001b[0m \u001b[1;31m#will return an array with the optimized points for 4 points, 6 points, and so on.\u001b[0m\u001b[1;33m\u001b[0m\u001b[1;33m\u001b[0m\u001b[1;33m\u001b[0m\u001b[0m\n\u001b[1;32m----> 4\u001b[1;33m \u001b[0mreturn_array\u001b[0m \u001b[1;33m=\u001b[0m \u001b[0mgenerate_arrays_of_points\u001b[0m\u001b[1;33m(\u001b[0m\u001b[0marray_of_points_to_use\u001b[0m\u001b[1;33m,\u001b[0m \u001b[0mloss\u001b[0m\u001b[1;33m)\u001b[0m\u001b[1;33m\u001b[0m\u001b[1;33m\u001b[0m\u001b[0m\n\u001b[0m\u001b[0;32m      5\u001b[0m \u001b[0mprint\u001b[0m\u001b[1;33m(\u001b[0m\u001b[1;34m\"return_array is\"\u001b[0m\u001b[1;33m)\u001b[0m\u001b[1;33m\u001b[0m\u001b[1;33m\u001b[0m\u001b[0m\n\u001b[0;32m      6\u001b[0m \u001b[0mprint\u001b[0m\u001b[1;33m(\u001b[0m\u001b[0mreturn_array\u001b[0m\u001b[1;33m)\u001b[0m\u001b[1;33m\u001b[0m\u001b[1;33m\u001b[0m\u001b[0m\n",
      "\u001b[1;32m<ipython-input-98-d5ca295b1bb2>\u001b[0m in \u001b[0;36mgenerate_arrays_of_points\u001b[1;34m(point_num_list, loss)\u001b[0m\n\u001b[0;32m     15\u001b[0m             \u001b[1;32mif\u001b[0m \u001b[0mn\u001b[0m\u001b[1;33m%\u001b[0m\u001b[1;36m500\u001b[0m \u001b[1;33m==\u001b[0m \u001b[1;36m0\u001b[0m\u001b[1;33m:\u001b[0m\u001b[1;33m\u001b[0m\u001b[1;33m\u001b[0m\u001b[0m\n\u001b[0;32m     16\u001b[0m                 \u001b[0mprint\u001b[0m\u001b[1;33m(\u001b[0m\u001b[1;34m'iteration #: '\u001b[0m\u001b[1;33m,\u001b[0m\u001b[0mn\u001b[0m \u001b[1;33m)\u001b[0m\u001b[1;31m#print every five-hundredth iteration.\u001b[0m\u001b[1;33m\u001b[0m\u001b[1;33m\u001b[0m\u001b[0m\n\u001b[1;32m---> 17\u001b[1;33m             \u001b[0mopt\u001b[0m\u001b[1;33m.\u001b[0m\u001b[0mminimize\u001b[0m\u001b[1;33m(\u001b[0m\u001b[0mloss\u001b[0m\u001b[1;33m,\u001b[0m \u001b[0mvar_list\u001b[0m\u001b[1;33m=\u001b[0m\u001b[1;33m[\u001b[0m\u001b[0mtf_pts\u001b[0m\u001b[1;33m]\u001b[0m\u001b[1;33m)\u001b[0m\u001b[1;33m\u001b[0m\u001b[1;33m\u001b[0m\u001b[0m\n\u001b[0m\u001b[0;32m     18\u001b[0m         \u001b[0moptimized_points\u001b[0m \u001b[1;33m=\u001b[0m \u001b[0mtf_points\u001b[0m\u001b[1;33m.\u001b[0m\u001b[0mnumpy\u001b[0m\u001b[1;33m(\u001b[0m\u001b[1;33m)\u001b[0m\u001b[1;33m\u001b[0m\u001b[1;33m\u001b[0m\u001b[0m\n\u001b[0;32m     19\u001b[0m         \u001b[0mreturn_array\u001b[0m\u001b[1;33m[\u001b[0m\u001b[0mi\u001b[0m\u001b[1;33m]\u001b[0m \u001b[1;33m=\u001b[0m \u001b[0moptimized_points\u001b[0m\u001b[1;33m\u001b[0m\u001b[1;33m\u001b[0m\u001b[0m\n",
      "\u001b[1;32mC:\\Anaconda\\lib\\site-packages\\tensorflow_core\\python\\keras\\optimizer_v2\\optimizer_v2.py\u001b[0m in \u001b[0;36mminimize\u001b[1;34m(self, loss, var_list, grad_loss, name)\u001b[0m\n\u001b[0;32m    316\u001b[0m         loss, var_list=var_list, grad_loss=grad_loss)\n\u001b[0;32m    317\u001b[0m \u001b[1;33m\u001b[0m\u001b[0m\n\u001b[1;32m--> 318\u001b[1;33m     \u001b[1;32mreturn\u001b[0m \u001b[0mself\u001b[0m\u001b[1;33m.\u001b[0m\u001b[0mapply_gradients\u001b[0m\u001b[1;33m(\u001b[0m\u001b[0mgrads_and_vars\u001b[0m\u001b[1;33m,\u001b[0m \u001b[0mname\u001b[0m\u001b[1;33m=\u001b[0m\u001b[0mname\u001b[0m\u001b[1;33m)\u001b[0m\u001b[1;33m\u001b[0m\u001b[1;33m\u001b[0m\u001b[0m\n\u001b[0m\u001b[0;32m    319\u001b[0m \u001b[1;33m\u001b[0m\u001b[0m\n\u001b[0;32m    320\u001b[0m   \u001b[1;32mdef\u001b[0m \u001b[0m_compute_gradients\u001b[0m\u001b[1;33m(\u001b[0m\u001b[0mself\u001b[0m\u001b[1;33m,\u001b[0m \u001b[0mloss\u001b[0m\u001b[1;33m,\u001b[0m \u001b[0mvar_list\u001b[0m\u001b[1;33m,\u001b[0m \u001b[0mgrad_loss\u001b[0m\u001b[1;33m=\u001b[0m\u001b[1;32mNone\u001b[0m\u001b[1;33m)\u001b[0m\u001b[1;33m:\u001b[0m\u001b[1;33m\u001b[0m\u001b[1;33m\u001b[0m\u001b[0m\n",
      "\u001b[1;32mC:\\Anaconda\\lib\\site-packages\\tensorflow_core\\python\\keras\\optimizer_v2\\optimizer_v2.py\u001b[0m in \u001b[0;36mapply_gradients\u001b[1;34m(self, grads_and_vars, name)\u001b[0m\n\u001b[0;32m    424\u001b[0m       \u001b[0mValueError\u001b[0m\u001b[1;33m:\u001b[0m \u001b[0mIf\u001b[0m \u001b[0mnone\u001b[0m \u001b[0mof\u001b[0m \u001b[0mthe\u001b[0m \u001b[0mvariables\u001b[0m \u001b[0mhave\u001b[0m \u001b[0mgradients\u001b[0m\u001b[1;33m.\u001b[0m\u001b[1;33m\u001b[0m\u001b[1;33m\u001b[0m\u001b[0m\n\u001b[0;32m    425\u001b[0m     \"\"\"\n\u001b[1;32m--> 426\u001b[1;33m     \u001b[0mgrads_and_vars\u001b[0m \u001b[1;33m=\u001b[0m \u001b[0m_filter_grads\u001b[0m\u001b[1;33m(\u001b[0m\u001b[0mgrads_and_vars\u001b[0m\u001b[1;33m)\u001b[0m\u001b[1;33m\u001b[0m\u001b[1;33m\u001b[0m\u001b[0m\n\u001b[0m\u001b[0;32m    427\u001b[0m     \u001b[0mvar_list\u001b[0m \u001b[1;33m=\u001b[0m \u001b[1;33m[\u001b[0m\u001b[0mv\u001b[0m \u001b[1;32mfor\u001b[0m \u001b[1;33m(\u001b[0m\u001b[0m_\u001b[0m\u001b[1;33m,\u001b[0m \u001b[0mv\u001b[0m\u001b[1;33m)\u001b[0m \u001b[1;32min\u001b[0m \u001b[0mgrads_and_vars\u001b[0m\u001b[1;33m]\u001b[0m\u001b[1;33m\u001b[0m\u001b[1;33m\u001b[0m\u001b[0m\n\u001b[0;32m    428\u001b[0m \u001b[1;33m\u001b[0m\u001b[0m\n",
      "\u001b[1;32mC:\\Anaconda\\lib\\site-packages\\tensorflow_core\\python\\keras\\optimizer_v2\\optimizer_v2.py\u001b[0m in \u001b[0;36m_filter_grads\u001b[1;34m(grads_and_vars)\u001b[0m\n\u001b[0;32m   1037\u001b[0m   \u001b[1;32mif\u001b[0m \u001b[1;32mnot\u001b[0m \u001b[0mfiltered\u001b[0m\u001b[1;33m:\u001b[0m\u001b[1;33m\u001b[0m\u001b[1;33m\u001b[0m\u001b[0m\n\u001b[0;32m   1038\u001b[0m     raise ValueError(\"No gradients provided for any variable: %s.\" %\n\u001b[1;32m-> 1039\u001b[1;33m                      ([v.name for _, v in grads_and_vars],))\n\u001b[0m\u001b[0;32m   1040\u001b[0m   \u001b[1;32mif\u001b[0m \u001b[0mvars_with_empty_grads\u001b[0m\u001b[1;33m:\u001b[0m\u001b[1;33m\u001b[0m\u001b[1;33m\u001b[0m\u001b[0m\n\u001b[0;32m   1041\u001b[0m     logging.warning(\n",
      "\u001b[1;31mValueError\u001b[0m: No gradients provided for any variable: ['Variable:0']."
     ]
    }
   ],
   "source": [
    "array_of_points_to_use = [4, 6, 8, 12, 20]\n",
    "\n",
    "#will return an array with the optimized points for 4 points, 6 points, and so on.\n",
    "return_array = generate_arrays_of_points(array_of_points_to_use)\n",
    "print(\"return_array is\")\n",
    "print(return_array)"
   ]
  }
 ],
 "metadata": {
  "kernelspec": {
   "display_name": "Python 3",
   "language": "python",
   "name": "python3"
  },
  "language_info": {
   "codemirror_mode": {
    "name": "ipython",
    "version": 3
   },
   "file_extension": ".py",
   "mimetype": "text/x-python",
   "name": "python",
   "nbconvert_exporter": "python",
   "pygments_lexer": "ipython3",
   "version": "3.7.4"
  }
 },
 "nbformat": 4,
 "nbformat_minor": 2
}
