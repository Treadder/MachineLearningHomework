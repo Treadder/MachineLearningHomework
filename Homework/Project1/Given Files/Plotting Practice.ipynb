{
 "cells": [
  {
   "cell_type": "markdown",
   "metadata": {},
   "source": [
    "This part loads the data from the CSV file anc checks out the top 5 values to make sure everything is transferred over properly."
   ]
  },
  {
   "cell_type": "code",
   "execution_count": 1,
   "metadata": {},
   "outputs": [
    {
     "name": "stdout",
     "output_type": "stream",
     "text": [
      "    Vit_A   Vit_C  label\n",
      "0  0.0732  1.0073  Apple\n",
      "1  0.7300  1.9327  Apple\n",
      "2  0.3464  1.6093  Apple\n",
      "3  0.6522  1.8918  Apple\n",
      "4  0.4818  1.4208  Apple\n"
     ]
    }
   ],
   "source": [
    "# Import all needed libraries\n",
    "import matplotlib.pyplot as plt\n",
    "import pandas as pd\n",
    "import numpy as np\n",
    "\n",
    "#get the data in to a dataframe and set the right colulmn names\n",
    "data = pd.read_csv(\"fruit_data.txt\", sep=\"\\s+\")\n",
    "\n",
    "print(data.head())"
   ]
  },
  {
   "cell_type": "markdown",
   "metadata": {},
   "source": [
    "This cell seperates the data into two 2-diminsional dataframes, one for Apples and one for Oranges. Each dataframe has a value for the vitamin A and the vitamin C."
   ]
  },
  {
   "cell_type": "code",
   "execution_count": 2,
   "metadata": {},
   "outputs": [
    {
     "name": "stdout",
     "output_type": "stream",
     "text": [
      "    Vit_A   Vit_C  label\n",
      "0  0.0732  1.0073  Apple\n",
      "1  0.7300  1.9327  Apple\n",
      "2  0.3464  1.6093  Apple\n",
      "3  0.6522  1.8918  Apple\n",
      "4  0.4818  1.4208  Apple\n",
      "     Vit_A   Vit_C   label\n",
      "25  1.7205  0.3328  Orange\n",
      "26  1.3423  0.0773  Orange\n",
      "27  1.5663  0.4583  Orange\n",
      "28  1.6545  0.6572  Orange\n",
      "29  1.6525  0.5720  Orange\n"
     ]
    }
   ],
   "source": [
    "#Now we need to split our data dataframe into 2 dataframes.\n",
    "\n",
    "apples = data.loc[data[\"label\"] == \"Apple\"]\n",
    "oranges = data.loc[data[\"label\"] == \"Orange\"]\n",
    "\n",
    "# Now test our new dataframes by printing out the heads.\n",
    "print(apples.head())\n",
    "print(oranges.head())"
   ]
  },
  {
   "cell_type": "markdown",
   "metadata": {},
   "source": [
    "Now we need to plot our data."
   ]
  },
  {
   "cell_type": "code",
   "execution_count": 3,
   "metadata": {},
   "outputs": [
    {
     "data": {
      "text/plain": [
       "Text(0.5, 1.0, 'Fruit Vitamin Count')"
      ]
     },
     "execution_count": 3,
     "metadata": {},
     "output_type": "execute_result"
    },
    {
     "data": {
      "image/png": "[encoded data removed]",
      "text/plain": [
       "<Figure size 432x288 with 1 Axes>"
      ]
     },
     "metadata": {
      "needs_background": "light"
     },
     "output_type": "display_data"
    }
   ],
   "source": [
    "#print out apple data\n",
    "plt.scatter(apples[\"Vit_A\"], \n",
    "            apples[\"Vit_C\"], \n",
    "            c=\"r\",\n",
    "            alpha=0.5\n",
    "           )\n",
    "\n",
    "#print out orange data\n",
    "plt.scatter(oranges[\"Vit_A\"], \n",
    "            oranges[\"Vit_C\"], \n",
    "            c=\"orange\", \n",
    "            marker=\"s\",\n",
    "            alpha=0.5\n",
    "           )\n",
    "\n",
    "#STYLE THE GRAPH\n",
    "plt.axis(\"square\")\n",
    "plt.grid() #show grie \n",
    "plt.xlim([0.0, 2.0]) #set limit of x axis to put (0,0) at bottom left corner.\n",
    "plt.ylim([0.0, 2.0]) #set limit of y axis to put (0,0) at bottom left corner.\n",
    "plt.xticks([0.0, 0.5, 1.0, 1.5, 2.0]) #set x axis counter marks.\n",
    "plt.xlabel(\"Vit_A\") \n",
    "plt.ylabel(\"Vit_C\")\n",
    "plt.title(\"Fruit Vitamin Count\")"
   ]
  },
  {
   "cell_type": "code",
   "execution_count": null,
   "metadata": {},
   "outputs": [],
   "source": []
  }
 ],
 "metadata": {
  "kernelspec": {
   "display_name": "Python 3",
   "language": "python",
   "name": "python3"
  },
  "language_info": {
   "codemirror_mode": {
    "name": "ipython",
    "version": 3
   },
   "file_extension": ".py",
   "mimetype": "text/x-python",
   "name": "python",
   "nbconvert_exporter": "python",
   "pygments_lexer": "ipython3",
   "version": "3.7.4"
  }
 },
 "nbformat": 4,
 "nbformat_minor": 2
}
