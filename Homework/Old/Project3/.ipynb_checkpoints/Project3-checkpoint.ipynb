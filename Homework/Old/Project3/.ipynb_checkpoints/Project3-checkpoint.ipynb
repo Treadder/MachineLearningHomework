{
 "cells": [
  {
   "cell_type": "code",
   "execution_count": 1,
   "metadata": {},
   "outputs": [],
   "source": [
    "import numpy as np"
   ]
  },
  {
   "cell_type": "markdown",
   "metadata": {},
   "source": [
    " 1) Scaling:\n",
    "\n",
    "a) MIN-MAX\n",
    "\n",
    "Write 2 scaling functions to do min-max scaling. The first, mm_params(), should take in a 2-D data array (rows are samples, columns are features) as input, and return the parameters necessary for scaling each column. The second, mm_scale(), should take in those parameters as well as a 2-D data array (rows are samples, columns are features), and return the corresponding 2-D scaled version of the data.\n",
    "\n",
    "NOTE: the reason we need to do it this way is so that later you can take in entirely new data and scale it the same way you did before you trained the model."
   ]
  },
  {
   "cell_type": "code",
   "execution_count": 2,
   "metadata": {},
   "outputs": [],
   "source": [
    "def mm_params(data): #Must input a np 2D array\n",
    "        \n",
    "    min = data.min()\n",
    "    max = data.max()\n",
    "    \n",
    "    return min, max\n",
    "    \n",
    "def mm_scale(min, max, data):\n",
    "\n",
    "    data = data.astype(np.float)#Must convet to float to keep it from rounding to zero and 1.\n",
    "    print(\"matrix input:\")\n",
    "    print(data)\n",
    "    \n",
    "    for i in range(0, len(data)):\n",
    "        for j in range(0, len(data[0])):\n",
    "            \n",
    "            #Here's where the scaling happens based on the scaling definition we learned.\n",
    "            data[i][j] = ((data[i][j] - min)/(max - min))\n",
    "            \n",
    "    return data"
   ]
  },
  {
   "cell_type": "code",
   "execution_count": 3,
   "metadata": {},
   "outputs": [
    {
     "name": "stdout",
     "output_type": "stream",
     "text": [
      "min:0 max:98\n",
      "matrix input:\n",
      "[[ 2.  5. 77. 75. 34. 14. 19. 17. 64. 10.]\n",
      " [17. 79. 25. 35.  3. 42. 54. 41. 64. 94.]\n",
      " [62. 27. 51. 12. 46. 16. 37.  4. 65. 67.]\n",
      " [ 6. 77. 91. 95. 56. 52. 21. 35.  4. 65.]\n",
      " [ 6. 98. 12. 45.  0. 58. 26. 17. 23. 40.]\n",
      " [76. 33. 96. 63. 14. 98. 97. 82. 53. 96.]\n",
      " [76. 30. 67. 93. 85. 78. 96.  4. 72. 87.]\n",
      " [29. 49. 95.  3. 98.  5. 15. 55. 32. 31.]\n",
      " [52. 80. 13. 92. 65. 26. 89. 23. 98.  8.]\n",
      " [60. 63. 18. 27. 15. 37.  7. 20. 67. 98.]]\n",
      "matrix output:\n",
      "[[0.02040816 0.05102041 0.78571429 0.76530612 0.34693878 0.14285714\n",
      "  0.19387755 0.17346939 0.65306122 0.10204082]\n",
      " [0.17346939 0.80612245 0.25510204 0.35714286 0.03061224 0.42857143\n",
      "  0.55102041 0.41836735 0.65306122 0.95918367]\n",
      " [0.63265306 0.2755102  0.52040816 0.12244898 0.46938776 0.16326531\n",
      "  0.37755102 0.04081633 0.66326531 0.68367347]\n",
      " [0.06122449 0.78571429 0.92857143 0.96938776 0.57142857 0.53061224\n",
      "  0.21428571 0.35714286 0.04081633 0.66326531]\n",
      " [0.06122449 1.         0.12244898 0.45918367 0.         0.59183673\n",
      "  0.26530612 0.17346939 0.23469388 0.40816327]\n",
      " [0.7755102  0.33673469 0.97959184 0.64285714 0.14285714 1.\n",
      "  0.98979592 0.83673469 0.54081633 0.97959184]\n",
      " [0.7755102  0.30612245 0.68367347 0.94897959 0.86734694 0.79591837\n",
      "  0.97959184 0.04081633 0.73469388 0.8877551 ]\n",
      " [0.29591837 0.5        0.96938776 0.03061224 1.         0.05102041\n",
      "  0.15306122 0.56122449 0.32653061 0.31632653]\n",
      " [0.53061224 0.81632653 0.13265306 0.93877551 0.66326531 0.26530612\n",
      "  0.90816327 0.23469388 1.         0.08163265]\n",
      " [0.6122449  0.64285714 0.18367347 0.2755102  0.15306122 0.37755102\n",
      "  0.07142857 0.20408163 0.68367347 1.        ]]\n"
     ]
    }
   ],
   "source": [
    "#make a matrix of shape [2, 10] populated with random ints from 0 to 100\n",
    "matrix = np.random.randint(low=0, high=100, size=[10, 10])\n",
    "\n",
    "#print our min and max to test function 1\n",
    "min, max = mm_params(matrix)\n",
    "print(\"min:\" + str(min) + \" max:\" + str(max))\n",
    "\n",
    "#Turn our matrix into scaled values and print to test function 2\n",
    "matrix = mm_scale(min, max, matrix)\n",
    "print(\"matrix output:\")\n",
    "print(matrix)"
   ]
  },
  {
   "cell_type": "markdown",
   "metadata": {},
   "source": [
    " b) Standardization\n",
    "\n",
    "Repeat what you did in part a) for standardization based scaling instead. Call these functions st_params() and st_scale()."
   ]
  },
  {
   "cell_type": "code",
   "execution_count": 4,
   "metadata": {},
   "outputs": [],
   "source": [
    "def st_params(data):\n",
    "    \n",
    "    mean = data.mean()\n",
    "    deviation = data.std()\n",
    "    \n",
    "    return mean, deviation\n",
    "\n",
    "def st_scale(mean, deviation, data):\n",
    "    \n",
    "    data = data.astype(np.float)#Must convert to float to keep from rounding to zero and 1\n",
    "    print(\"input matrix\")\n",
    "    print(data)\n",
    "    \n",
    "    for i in range(0, len(data)):\n",
    "        for j in range(0, len(data[0])):\n",
    "            \n",
    "            data[i][j] = ((data[i][j] - mean)/(deviation))\n",
    "    \n",
    "    return data"
   ]
  },
  {
   "cell_type": "code",
   "execution_count": 5,
   "metadata": {},
   "outputs": [
    {
     "name": "stdout",
     "output_type": "stream",
     "text": [
      "mean:46.35 deviation:29.49656759692558\n",
      "input matrix\n",
      "[[28.  4. 96. 37. 75. 47.  6. 30. 79. 47.]\n",
      " [33. 86. 40. 11. 59. 95.  9. 66. 59.  1.]\n",
      " [72. 66. 51. 64. 94. 61. 55. 11. 82. 19.]\n",
      " [66. 62. 86. 60. 35. 63.  9. 80. 80. 53.]\n",
      " [ 4. 91. 14. 27. 69. 91. 62. 94. 78. 71.]\n",
      " [ 7. 35. 47. 70. 80. 92. 63.  5. 30. 45.]\n",
      " [ 7. 76. 62. 90. 22. 13.  4. 52. 52.  2.]\n",
      " [11.  7. 13. 16.  4. 41. 75. 11. 27. 18.]\n",
      " [89. 64. 27. 34. 70. 41.  5. 12. 22. 70.]\n",
      " [41. 80.  7. 92. 22. 43. 44. 11. 82. 24.]]\n",
      "output matrix:\n",
      "[[0.28571429 0.04081633 0.97959184 0.37755102 0.76530612 0.47959184\n",
      "  0.06122449 0.30612245 0.80612245 0.47959184]\n",
      " [0.33673469 0.87755102 0.40816327 0.1122449  0.60204082 0.96938776\n",
      "  0.09183673 0.67346939 0.60204082 0.01020408]\n",
      " [0.73469388 0.67346939 0.52040816 0.65306122 0.95918367 0.62244898\n",
      "  0.56122449 0.1122449  0.83673469 0.19387755]\n",
      " [0.67346939 0.63265306 0.87755102 0.6122449  0.35714286 0.64285714\n",
      "  0.09183673 0.81632653 0.81632653 0.54081633]\n",
      " [0.04081633 0.92857143 0.14285714 0.2755102  0.70408163 0.92857143\n",
      "  0.63265306 0.95918367 0.79591837 0.7244898 ]\n",
      " [0.07142857 0.35714286 0.47959184 0.71428571 0.81632653 0.93877551\n",
      "  0.64285714 0.05102041 0.30612245 0.45918367]\n",
      " [0.07142857 0.7755102  0.63265306 0.91836735 0.2244898  0.13265306\n",
      "  0.04081633 0.53061224 0.53061224 0.02040816]\n",
      " [0.1122449  0.07142857 0.13265306 0.16326531 0.04081633 0.41836735\n",
      "  0.76530612 0.1122449  0.2755102  0.18367347]\n",
      " [0.90816327 0.65306122 0.2755102  0.34693878 0.71428571 0.41836735\n",
      "  0.05102041 0.12244898 0.2244898  0.71428571]\n",
      " [0.41836735 0.81632653 0.07142857 0.93877551 0.2244898  0.43877551\n",
      "  0.44897959 0.1122449  0.83673469 0.24489796]]\n"
     ]
    }
   ],
   "source": [
    "#make a matrix of shape [2, 10] populated with random ints from 0 to 100\n",
    "matrix = np.random.randint(low=0, high=100, size=[10, 10])\n",
    "\n",
    "#print our min and max to test function 3\n",
    "mean, deviation = st_params(matrix)\n",
    "print(\"mean:\" + str(mean) + \" deviation:\" + str(deviation))\n",
    "\n",
    "#Turn our matrix into scaled values and print to test function 4\n",
    "matrix = st_scale(min, max, matrix)\n",
    "print(\"output matrix:\")\n",
    "print(matrix)"
   ]
  },
  {
   "cell_type": "markdown",
   "metadata": {},
   "source": [
    " 2) Confusion Matrices\n",
    "\n",
    "Write a function, co_mx(), that takes in 2 lists as inputs, one containing predicted labels and the other containing actual labels. The function should return the corresponding confusion matrix, and a list containing the correspondence between row/column index and label."
   ]
  },
  {
   "cell_type": "code",
   "execution_count": 6,
   "metadata": {
    "scrolled": true
   },
   "outputs": [
    {
     "data": {
      "text/plain": [
       "(array([[0., 0., 0., 0., 0., 0., 0., 0., 0., 1.],\n",
       "        [0., 0., 0., 0., 1., 0., 0., 0., 0., 0.],\n",
       "        [0., 0., 0., 0., 0., 0., 0., 0., 1., 0.],\n",
       "        [1., 0., 0., 0., 0., 0., 0., 0., 0., 0.],\n",
       "        [0., 0., 0., 0., 0., 1., 0., 0., 0., 0.],\n",
       "        [0., 0., 1., 0., 0., 0., 0., 0., 0., 0.],\n",
       "        [0., 0., 0., 0., 0., 0., 1., 0., 0., 0.],\n",
       "        [0., 0., 0., 1., 0., 0., 0., 0., 0., 0.],\n",
       "        [0., 0., 0., 0., 0., 0., 0., 1., 0., 0.],\n",
       "        [0., 1., 0., 0., 0., 0., 0., 0., 0., 0.]]),\n",
       " array([0., 1., 2., 3., 4., 5., 6., 7., 8., 9.]))"
      ]
     },
     "execution_count": 6,
     "metadata": {},
     "output_type": "execute_result"
    }
   ],
   "source": [
    "def co_mx(predicted, actual):\n",
    "    \n",
    "    #Be Verbose for troubleshooting\n",
    "    #print(\"predictions:\")\n",
    "    #print(predictions)\n",
    "    #print(\"actual:\")\n",
    "    #print(actual)\n",
    "    \n",
    "    #Create a reference matrix, so that we can see what our confusion matrix looks like on the edges.\n",
    "    #The matrix Rows are the predicted values, and the columns are the actual values.\n",
    "    #Get the unique values, and put them in an array. These will go along the sides of our matrix\n",
    "    values = np.unique(actual)\n",
    "    reference = np.zeros(shape = [len(values)+1, len(values)+1])\n",
    "    reference[0][0] = 42  \n",
    "    \n",
    "    for i in range(0, len(values)):\n",
    "        reference[0][i+1] = values[i]\n",
    "        reference[i+1][0] = values[i]        \n",
    "   \n",
    "    #Be Verbose for troubleshooting:\n",
    "    #print(\"reference: (Rows = predictions, Columns = actual values)\")\n",
    "    #print(reference)\n",
    "    \n",
    "    for i in range(0, len(predicted)):\n",
    "        \n",
    "        #Be Verbose for troubleshooting:\n",
    "        #print(\"i is: \" + str(i))\n",
    "        \n",
    "        #where the predicted[i]  value is in the matrix rows. (Along the left 'column' of the Reference matrix)\n",
    "        rowIndex = np.where(reference[:,0] == actual[i])\n",
    "        #Be Verbose for troubleshooting:\n",
    "        #print(\"Before transformation, rowIndex is: \" + str(rowIndex))\n",
    "        rowIndex = int(rowIndex[0])\n",
    "        \n",
    "        #where the actual[i] value is in the matrix columns (Along the top 'row' of the Reference matrix)\n",
    "        colIndex = np.where(reference[0] == predicted[i])\n",
    "        #Be Verbose for troubleshooting\n",
    "        #print(\"Before transformation, colIndex is: \" + str(colIndex))\n",
    "        colIndex = int(colIndex[0])\n",
    "        \n",
    "        #Be Verbose for troubleshooting:\n",
    "        #print(\"rowIndex: \" + str(rowIndex))\n",
    "        #print(\"colIndex:\" + str(colIndex))\n",
    "        reference[rowIndex][colIndex] += 1\n",
    "        #print(\"reference:\")\n",
    "        #print(reference)\n",
    "        \n",
    "    #Return the array without the helping reference row and column on the top and left.\n",
    "    #Also return a list of the guesses and actual answers. I'm not sure what exactly the instructions for the list meant,\n",
    "    #So I'll just return the list of numbers that would appear both on the top and side of the matrix. (predictions and \n",
    "    #actual values are identical in this respect, just located on different \"sides\" of the matrix.)\n",
    "    matrix = reference[1:, 1:]\n",
    "    predictions = reference[1:,0] #The leftmost column is our predictions\n",
    "    actual = reference[0][1:] #The topmost row is our actual values\n",
    "    \n",
    "    return matrix, predictions\n",
    "\n",
    "#Generate some random 1D arrays to toss into this function as a test. \n",
    "#We need to make sure they only fall into the same classes, so I randomly shuffle the predictions to get the actual answers.\n",
    "#We also can't have duplicates in the \"actual\" list.\n",
    "actual = np.arange(10)\n",
    "predictions = actual.copy()\n",
    "np.random.shuffle(predictions)\n",
    "\n",
    "co_mx(predictions, actual)"
   ]
  },
  {
   "cell_type": "markdown",
   "metadata": {},
   "source": [
    " 3) Precision/Recall\n",
    "\n",
    "Write 2 functions, prec() and recall(), that take in 2-D confusion matrices and return the corresponding precision and recall.\n",
    "\n",
    "\n",
    "NOTE:\n",
    "Note on HW 3\n",
    "Rohan Loveland\n",
    "No unread replies. No replies.\n",
    "\n",
    "Hi all - for Precision and Recall you can assume the input confusion matrix is binary (ie 2x2).  In general, though, assume the other problems are multi-class (i.e. they should work for N classes).\n",
    "\n"
   ]
  },
  {
   "cell_type": "code",
   "execution_count": 7,
   "metadata": {},
   "outputs": [
    {
     "name": "stdout",
     "output_type": "stream",
     "text": [
      "precision: \n",
      "0.2857142857142857\n",
      "recall: \n",
      "0.4\n"
     ]
    }
   ],
   "source": [
    "#I'm assuming the matrix is structured like so:\n",
    "#\n",
    "#                       Correct Answers\n",
    "#\n",
    "#               True Positive  | True Negative\n",
    "#     Guesses   ---------------|---------------\n",
    "#               False Positive | False Negative        \n",
    "#                           \n",
    "#\n",
    "\n",
    "def prec(matrix):\n",
    "    \n",
    "    TP = matrix[0][0]\n",
    "    FP = matrix[1][0]\n",
    "    \n",
    "    precision = TP/(TP+FP)\n",
    "    return precision\n",
    "\n",
    "def recall(matrix):\n",
    "    \n",
    "    TP = matrix[0][0]\n",
    "    FN = matrix[1][1]\n",
    "    \n",
    "    recall = TP/(FN + TP)\n",
    "    return recall\n",
    "    \n",
    "test_matrix = [[2, 4],[5, 3]] \n",
    "\n",
    "print(\"precision: \")\n",
    "print(prec(test_matrix))\n",
    "\n",
    "print(\"recall: \")\n",
    "print(recall(test_matrix))"
   ]
  },
  {
   "cell_type": "markdown",
   "metadata": {},
   "source": [
    " 3) Testing\n",
    "\n",
    "Generate your own data (random or made-up) to test each of your functions, and include cells in Jupyter showing your tests ofthe functions after you define them.\n",
    "\n",
    "\n",
    "Deliverables:\n",
    "\n",
    "Jupyter Notebook code."
   ]
  },
  {
   "cell_type": "code",
   "execution_count": null,
   "metadata": {},
   "outputs": [],
   "source": [
    "#I implemented tests in each cell"
   ]
  }
 ],
 "metadata": {
  "kernelspec": {
   "display_name": "Python 3",
   "language": "python",
   "name": "python3"
  },
  "language_info": {
   "codemirror_mode": {
    "name": "ipython",
    "version": 3
   },
   "file_extension": ".py",
   "mimetype": "text/x-python",
   "name": "python",
   "nbconvert_exporter": "python",
   "pygments_lexer": "ipython3",
   "version": "3.7.4"
  }
 },
 "nbformat": 4,
 "nbformat_minor": 2
}
