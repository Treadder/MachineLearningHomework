{
 "cells": [
  {
   "cell_type": "markdown",
   "metadata": {},
   "source": [
    "# Project 4 - Polynomial Regression from Scratch\n",
    "\n",
    "In this notebook, you will write code that will:\n",
    "-  generate a dataset, \n",
    "-  model it using a polynomial regression, \n",
    "-  and find the optimal model parameters for it (writing your own optimization routine).\n",
    "\n",
    "All of the parts of this are meant to be done \"from scratch\", so do not use sklearn. (numpy's ok)  \n",
    "Note: this is a continuation of the exercise we started in class previously.  "
   ]
  },
  {
   "cell_type": "code",
   "execution_count": 1,
   "metadata": {},
   "outputs": [],
   "source": [
    "import numpy as np\n",
    "import sys as sys\n",
    "import matplotlib.pyplot as plt"
   ]
  },
  {
   "cell_type": "markdown",
   "metadata": {},
   "source": [
    "## Dataset\n",
    "Create a dataset with 1,000 1-D X and corresponding y values, each w/ a small amount of added uniform random noise (max val = 0.1).  (So unlike example in class which had a surface and 2 features, this is like the book example with a curve with 1 feature.)\n",
    "\n",
    "-  make X go from -5 to 5 (plus noise)\n",
    "-  make $y = 5 + 7x + 2x^2 - 0.5x^3$   (plus noise)"
   ]
  },
  {
   "cell_type": "code",
   "execution_count": 2,
   "metadata": {},
   "outputs": [
    {
     "name": "stdout",
     "output_type": "stream",
     "text": [
      "first 10 values of x_values:\n",
      "\n",
      "[-5.         -4.98998999 -4.97997998 -4.96996997 -4.95995996 -4.94994995\n",
      " -4.93993994 -4.92992993 -4.91991992 -4.90990991]\n",
      "\n",
      "added -0.05201668522177523 as noise\n",
      "added 0.005462624884056161 as noise\n",
      "added 0.03290716001220112 as noise\n",
      "added 0.07040770157897278 as noise\n",
      "added -0.07159188000133619 as noise\n",
      "\n",
      "first 10 noisy x_values:\n",
      "\n",
      "[-5.05201669 -4.98452737 -4.94707282 -4.89956227 -5.03155184 -4.89442929\n",
      " -4.97730423 -4.94257219 -4.88942858 -4.8320329 ]\n",
      "\n",
      "first 10 values of y_values:\n",
      "\n",
      "[85.15261746 81.72090441 79.8537155  77.52322147 84.10284105 77.27396981\n",
      " 81.35875138 79.6311313  77.03161483 74.28331503]\n",
      "\n",
      "added 0.037051522969469064 as noise\n",
      "added -0.006886000784112764 as noise\n",
      "added -0.011071212540580896 as noise\n",
      "added 0.030369333180863184 as noise\n",
      "added -0.031798376982176677 as noise\n",
      "\n",
      "first 10 noisy y_values;\n",
      "\n",
      "[85.18966899 81.71401841 79.84264428 77.5535908  84.07104267 77.24195957\n",
      " 81.35437641 79.5390063  76.98726327 74.22237968]\n",
      "\n",
      "\n",
      "matrix shape is: (2, 1000) and the [0][0] value is: -5.052016685221775\n",
      "\n",
      "now transposing matrix\n",
      "\n",
      "matrix shape is: (1000, 2) and the [0][0] value is: -5.052016685221775\n",
      "\n"
     ]
    }
   ],
   "source": [
    "#Note: I'm making this pretty verbose because it helps a lot with debugging.\n",
    "#Create our blank X dataset\n",
    "x_values = np.linspace(-5.0,5.0,1000)\n",
    "\n",
    "#be verbose\n",
    "print(\"first 10 values of x_values:\")\n",
    "print(\"\")\n",
    "print(x_values[0:10])\n",
    "print(\"\")\n",
    "\n",
    "#This function adds a number between -0.1 and 0.1 to the value at i in x_values. I had to pull in the smallest possible\n",
    "#number that the host machine can support in python, because random.uniform doesn't include the end number\n",
    "#and the MAX number is 0.1. That was the only way to get it in there that I could think of.\n",
    "def add_noise(numInput, verbose = False):\n",
    "    \n",
    "    lowest_add = -(0.1)\n",
    "    highest_add = (0.1 + sys.float_info.min)\n",
    "    \n",
    "    add_num = np.random.uniform(lowest_add, highest_add)\n",
    "    \n",
    "    if(verbose):\n",
    "        print(\"added \" + str(add_num) + \" as noise\")\n",
    "        \n",
    "    output = numInput + add_num\n",
    "    return output\n",
    "\n",
    "#add noise to our data, and only be verbose for part of the set.\n",
    "for i in range(0, len(x_values)):\n",
    "    \n",
    "    if(i < 5):\n",
    "        x_values[i] = add_noise(x_values[i], verbose=True)#be verbose\n",
    "    else:\n",
    "        x_values[i] = add_noise(x_values[i])\n",
    "\n",
    "#be verbose\n",
    "print(\"\")\n",
    "print(\"first 10 noisy x_values:\")\n",
    "print(\"\")\n",
    "print(x_values[0:10])\n",
    "print(\"\")\n",
    "       \n",
    "#This calculates an exact y value given an x. We'll add noise in a bit.\n",
    "def calculate_y(x):\n",
    "    y = ((5) + (7*x) + (2*(x**2)) + (-0.5*(x**3)))#maybe a little overkill on the parentheses\n",
    "    return y\n",
    "    \n",
    "#Create a blank array that's the same length as x_values, and fill with zeroes for now.\n",
    "y_values = np.zeros(len(x_values))\n",
    "\n",
    "#calculate the value of y that goes in each slot of the array.\n",
    "for i in range(0, len(x_values)):\n",
    "    y_values[i] += calculate_y(x_values[i])\n",
    "    \n",
    "#be verbose\n",
    "print(\"first 10 values of y_values:\")\n",
    "print(\"\")\n",
    "print(y_values[0:10])\n",
    "print(\"\")\n",
    "\n",
    "#Add noise to our y_values. This won't affect much, as y values tend to be a LOT bigger than x values.\n",
    "for i in range(0, len(y_values)):\n",
    "    \n",
    "    if(i < 5):\n",
    "        y_values[i] = add_noise(y_values[i], verbose=True)#be verbose\n",
    "    else:\n",
    "        y_values[i] = add_noise(y_values[i])\n",
    "        \n",
    "#be verbose\n",
    "print(\"\")\n",
    "print(\"first 10 noisy y_values;\")\n",
    "print(\"\")\n",
    "print(y_values[0:10])\n",
    "print(\"\")\n",
    "        \n",
    "#make our container for everything! Also append our arrays to it.       \n",
    "matrix = []\n",
    "matrix.append(x_values)\n",
    "matrix.append(y_values)\n",
    "\n",
    "#Be verbose\n",
    "print(\"\")\n",
    "print(\"matrix shape is: \" + str(np.shape(matrix)) + \" and the [0][0] value is: \" + str(matrix[0][0]))\n",
    "print(\"\")\n",
    "\n",
    "print(\"now transposing matrix\")\n",
    "print(\"\")\n",
    "\n",
    "#put it in column-standard configuration, and print out an index that should stay the same to make sure it worked\n",
    "matrix = np.transpose(matrix)\n",
    "\n",
    "print(\"matrix shape is: \" + str(np.shape(matrix)) + \" and the [0][0] value is: \" + str(matrix[0][0]))\n",
    "print(\"\")"
   ]
  },
  {
   "cell_type": "markdown",
   "metadata": {},
   "source": [
    "## Augment X\n",
    "Write a function that adds new columns to the dataset of powers of X, up to and including $X^5$ (and don't forget the ones for the $\\theta_0$ term)."
   ]
  },
  {
   "cell_type": "code",
   "execution_count": 3,
   "metadata": {},
   "outputs": [
    {
     "name": "stdout",
     "output_type": "stream",
     "text": [
      "matrix shape:\n",
      "(1000, 2)\n",
      "\n",
      "first 5 values of y_values:\n",
      "\n",
      "[85.18966899 81.71401841 79.84264428 77.5535908  84.07104267]\n",
      "\n",
      "first 5 values of x_values:\n",
      "[-5.05201669 -4.98452737 -4.94707282 -4.89956227 -5.03155184]\n",
      "\n",
      "first 5 values of x_to_zero\n",
      "[1. 1. 1. 1. 1.]\n",
      "\n",
      "first 5 values of x_to_one\n",
      "[-5.05201669 -4.98452737 -4.94707282 -4.89956227 -5.03155184]\n",
      "\n",
      "newMatrix shape\n",
      "(1000, 8)\n",
      "\n",
      "first row of matrix:\n",
      "\n",
      "[-5.05201669e+00  8.51896690e+01  1.00000000e+00 -5.05201669e+00\n",
      "  2.55228726e+01 -1.28941978e+02  6.51417025e+02 -3.29096968e+03]\n"
     ]
    }
   ],
   "source": [
    "#my interpretation is that I am adding columns of x in which x is raised to the n'th power. These columns will\n",
    "#be placeholders that will get multiplied by our fifth-degree polynomial's weights later for testing. I don't see this \n",
    "#actually happening in real use-cases, because it seems a bit expensive for large data sets.\n",
    "\n",
    "#Grab our x_values array for easy refrence and use here.\n",
    "x_values = matrix[:,0]\n",
    "                  \n",
    "print(\"matrix shape:\")\n",
    "print(str(np.shape(matrix)))\n",
    "print(\"\")\n",
    "\n",
    "#raises all values in an array to the specified power, and returns the new array\n",
    "def raise_array_values_to_power(array, power):\n",
    "    return_array = np.zeros(len(array))#make a new array to put everything in to stay safe\n",
    "    for i in range(0, len(array)):\n",
    "        return_array[i] += array[i]**power\n",
    "    return return_array\n",
    "\n",
    "#raises all x values to n. Be careful not to corrupt refrence array! I'm using all this as a test of the power raising\n",
    "#function. the real function that can add n power columns will come below.\n",
    "x_to_zero = raise_array_values_to_power(x_values, 0)\n",
    "x_to_one = raise_array_values_to_power(x_values, 1)\n",
    "x_to_two = raise_array_values_to_power(x_values, 2)\n",
    "x_to_three = raise_array_values_to_power(x_values, 3)\n",
    "x_to_four = raise_array_values_to_power(x_values, 4)\n",
    "x_to_five = raise_array_values_to_power(x_values, 5)\n",
    "\n",
    "#be verbose\n",
    "print(\"first 5 values of y_values:\")#our labels\n",
    "print(\"\")\n",
    "print(y_values[0:5])\n",
    "print(\"\")\n",
    "print(\"first 5 values of x_values:\")\n",
    "print(x_values[0:5])\n",
    "print(\"\")\n",
    "print(\"first 5 values of x_to_zero\")\n",
    "print(x_to_zero[0:5])#should all be 1\n",
    "print(\"\")\n",
    "print(\"first 5 values of x_to_one\")\n",
    "print(x_to_one[0:5])\n",
    "\n",
    "#Now, if I wasn't using a function after this, I'd add these as COLUMNS on the \"right\" side of the matrix\n",
    "#Desired Matrix Column Layout: x_values, y_values, x_to_zero, x_to_one, x_to_two, x_to_three, x_to_four, x_to_five\n",
    "\n",
    "def add_column_powers(reference_array_to_raise, matrix_to_add_to, highest_power):\n",
    "    \n",
    "    for i in range(0, highest_power+1):#for each power, make a new array and slap it on the end.\n",
    "        array = reference_array_to_raise\n",
    "        array = raise_array_values_to_power(array, i)#make the array\n",
    "        array = array[:, np.newaxis]#make it a column vector!\n",
    "        matrix_to_add_to = np.concatenate([matrix_to_add_to, array], axis=1)#Stick it on the end of the matrix\n",
    "   \n",
    "    return matrix_to_add_to\n",
    "    \n",
    "newMatrix = add_column_powers(x_values, matrix, 5)\n",
    "\n",
    "#be verbose\n",
    "print(\"\")\n",
    "print(\"newMatrix shape\")\n",
    "print(np.shape(newMatrix))\n",
    "print(\"\")\n",
    "print(\"first row of matrix:\")\n",
    "print(\"\")\n",
    "print(newMatrix[0])"
   ]
  },
  {
   "cell_type": "markdown",
   "metadata": {},
   "source": [
    "## Fit a Polynomial Regression model to the training data\n",
    "Assume that we have a polynomial regression model\n",
    "\\begin{equation*}\n",
    "y(X;\\theta) = \\theta_0 + \\theta_1 x + \\theta_2 x^2 +\\theta_3 x^3 +\\theta_4 x^4 +\\theta_5 x^5 \n",
    "\\end{equation*}\n",
    "\n",
    "Assume that we're using a mean squared error function.\n",
    "\n",
    "-  Find the optimal value of theta (ie $\\theta_0$ through $\\theta_5$). Note: Refer to Ch. 4, Eqn's 4.6 and 4.7.\n",
    "\n",
    "-  Try this for a variety of different values of alpha.  Note how long it takes for the optimization to converge (or if it doesn't).\n"
   ]
  },
  {
   "cell_type": "code",
   "execution_count": 120,
   "metadata": {},
   "outputs": [
    {
     "data": {
      "text/plain": [
       "<matplotlib.collections.PathCollection at 0x227341b1948>"
      ]
     },
     "execution_count": 120,
     "metadata": {},
     "output_type": "execute_result"
    },
    {
     "data": {
      "image/png": "[encoded data removed]",
      "text/plain": [
       "<Figure size 432x288 with 1 Axes>"
      ]
     },
     "metadata": {
      "needs_background": "light"
     },
     "output_type": "display_data"
    }
   ],
   "source": [
    "matrix = newMatrix#simplicity's sake\n",
    "\n",
    "#scatter the x_values and y_values to check for correlation\n",
    "plt.scatter(matrix[:,0], matrix[:,1])"
   ]
  },
  {
   "cell_type": "code",
   "execution_count": 59,
   "metadata": {},
   "outputs": [
    {
     "name": "stdout",
     "output_type": "stream",
     "text": [
      "our mesh shape is:\n",
      "\n",
      "(1000, 1000)\n"
     ]
    }
   ],
   "source": [
    "#calculate the mean squared error between two vectors. (arrays.)\n",
    "def mse(guess, truth):\n",
    "    error = 0\n",
    "    for i in range(0, len(guess)):\n",
    "        error += (guess[i] - truth[i])\n",
    "    error = error*(1/len(guess))\n",
    "    return error\n",
    "\n",
    "x_values = matrix[:,0]\n",
    "#x_values = x_values[1::30] #Could do this to thin out array and save memory.\n",
    "\n",
    "y_values = matrix[:,1]\n",
    "#y_values = matrix[1::10] #Could do this to thin out array and save memory.\n",
    "\n",
    "#a, b  = np.meshgrid(x_values, y_values, sparse=False)\n",
    "#c = plt.scatter(a, b)\n",
    "#plt.show()\n",
    "#c.set_xlabel(\"hi\")\n",
    "\n",
    "mesh = np.zeros([len(x_values), len(y_values)])\n",
    "print(\"our mesh shape is:\")\n",
    "print(\"\")\n",
    "print(np.shape(mesh))\n",
    "\n",
    "for i in range(0, mesh):\n",
    "    for j in range(0, mesh[0]):\n",
    "        mesh[i][j] = mse"
   ]
  },
  {
   "cell_type": "markdown",
   "metadata": {},
   "source": [
    "## Plot the Final Model\n",
    "Make a plot showing the (X,y) data points of the training set, and superimpose the line for the model on the same plot."
   ]
  },
  {
   "cell_type": "code",
   "execution_count": null,
   "metadata": {},
   "outputs": [],
   "source": []
  },
  {
   "cell_type": "markdown",
   "metadata": {},
   "source": [
    "## Different Model Degrees\n",
    "Try the model for different degrees of n, specifically n = (2, 5, 10).  Plot the resulting models."
   ]
  },
  {
   "cell_type": "code",
   "execution_count": null,
   "metadata": {},
   "outputs": [],
   "source": []
  }
 ],
 "metadata": {
  "kernelspec": {
   "display_name": "Python 3",
   "language": "python",
   "name": "python3"
  },
  "language_info": {
   "codemirror_mode": {
    "name": "ipython",
    "version": 3
   },
   "file_extension": ".py",
   "mimetype": "text/x-python",
   "name": "python",
   "nbconvert_exporter": "python",
   "pygments_lexer": "ipython3",
   "version": "3.7.4"
  }
 },
 "nbformat": 4,
 "nbformat_minor": 2
}
