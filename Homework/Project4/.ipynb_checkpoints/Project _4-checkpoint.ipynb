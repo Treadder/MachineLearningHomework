{
 "cells": [
  {
   "cell_type": "markdown",
   "metadata": {},
   "source": [
    "# Project 4 - Polynomial Regression from Scratch\n",
    "\n",
    "In this notebook, you will write code that will:\n",
    "-  generate a dataset, \n",
    "-  model it using a polynomial regression, \n",
    "-  and find the optimal model parameters for it (writing your own optimization routine).\n",
    "\n",
    "All of the parts of this are meant to be done \"from scratch\", so do not use sklearn. (numpy's ok)  \n",
    "Note: this is a continuation of the exercise we started in class previously.  "
   ]
  },
  {
   "cell_type": "code",
   "execution_count": 3,
   "metadata": {},
   "outputs": [],
   "source": [
    "import numpy as np"
   ]
  },
  {
   "cell_type": "markdown",
   "metadata": {},
   "source": [
    "## Dataset\n",
    "Create a dataset with 1,000 1-D X and corresponding y values, each w/ a small amount of added uniform random noise (max val = 0.1).  (So unlike example in class which had a surface and 2 features, this is like the book example with a curve with 1 feature.)\n",
    "\n",
    "-  make X go from -5 to 5 (plus noise)\n",
    "-  make $y = 5 + 7x + 2x^2 - 0.5x^3$   (plus noise)"
   ]
  },
  {
   "cell_type": "code",
   "execution_count": 5,
   "metadata": {},
   "outputs": [
    {
     "ename": "SyntaxError",
     "evalue": "invalid syntax (<ipython-input-5-f1e68a2f1551>, line 2)",
     "output_type": "error",
     "traceback": [
      "\u001b[0;36m  File \u001b[0;32m\"<ipython-input-5-f1e68a2f1551>\"\u001b[0;36m, line \u001b[0;32m2\u001b[0m\n\u001b[0;31m    matrix = np.array([,:x_values])\u001b[0m\n\u001b[0m                       ^\u001b[0m\n\u001b[0;31mSyntaxError\u001b[0m\u001b[0;31m:\u001b[0m invalid syntax\n"
     ]
    }
   ],
   "source": [
    "x_values = np.random.uniform(-5.0, 5.0, 1000)\n",
    "matrix = np.array([,:x_values])#how do I stick all those generated values into the first column of matrix?\n",
    "print(np.shape(x_values))"
   ]
  },
  {
   "cell_type": "markdown",
   "metadata": {},
   "source": [
    "## Augment X\n",
    "Write a function that adds new columns to the dataset of powers of X, up to and including $X^5$ (and don't forget the ones for the $\\theta_0$ term)."
   ]
  },
  {
   "cell_type": "code",
   "execution_count": null,
   "metadata": {},
   "outputs": [],
   "source": []
  },
  {
   "cell_type": "markdown",
   "metadata": {},
   "source": [
    "## Fit a Polynomial Regression model to the training data\n",
    "Assume that we have a polynomial regression model\n",
    "\\begin{equation*}\n",
    "y(X;\\theta) = \\theta_0 + \\theta_1 x + \\theta_2 x^2 +\\theta_3 x^3 +\\theta_4 x^4 +\\theta_5 x^5 \n",
    "\\end{equation*}\n",
    "\n",
    "Assume that we're using a mean squared error function.\n",
    "\n",
    "-  Find the optimal value of theta (ie $\\theta_0$ through $\\theta_5$). Note: Refer to Ch. 4, Eqn's 4.6 and 4.7.\n",
    "\n",
    "-  Try this for a variety of different values of alpha.  Note how long it takes for the optimization to converge (or if it doesn't).\n"
   ]
  },
  {
   "cell_type": "code",
   "execution_count": null,
   "metadata": {},
   "outputs": [],
   "source": []
  },
  {
   "cell_type": "markdown",
   "metadata": {},
   "source": [
    "## Plot the Final Model\n",
    "Make a plot showing the (X,y) data points of the training set, and superimpose the line for the model on the same plot."
   ]
  },
  {
   "cell_type": "code",
   "execution_count": null,
   "metadata": {},
   "outputs": [],
   "source": []
  },
  {
   "cell_type": "markdown",
   "metadata": {},
   "source": [
    "## Different Model Degrees\n",
    "Try the model for different degrees of n, specifically n = (2, 5, 10).  Plot the resulting models."
   ]
  },
  {
   "cell_type": "code",
   "execution_count": null,
   "metadata": {},
   "outputs": [],
   "source": []
  }
 ],
 "metadata": {
  "kernelspec": {
   "display_name": "Python 3",
   "language": "python",
   "name": "python3"
  },
  "language_info": {
   "codemirror_mode": {
    "name": "ipython",
    "version": 3
   },
   "file_extension": ".py",
   "mimetype": "text/x-python",
   "name": "python",
   "nbconvert_exporter": "python",
   "pygments_lexer": "ipython3",
   "version": "3.6.9"
  }
 },
 "nbformat": 4,
 "nbformat_minor": 2
}
