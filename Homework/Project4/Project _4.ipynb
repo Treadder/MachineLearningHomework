{
 "cells": [
  {
   "cell_type": "markdown",
   "metadata": {},
   "source": [
    "# Project 4 - Polynomial Regression from Scratch\n",
    "\n",
    "In this notebook, you will write code that will:\n",
    "-  generate a dataset, \n",
    "-  model it using a polynomial regression, \n",
    "-  and find the optimal model parameters for it (writing your own optimization routine).\n",
    "\n",
    "All of the parts of this are meant to be done \"from scratch\", so do not use sklearn. (numpy's ok)  \n",
    "Note: this is a continuation of the exercise we started in class previously.  "
   ]
  },
  {
   "cell_type": "code",
   "execution_count": 1,
   "metadata": {},
   "outputs": [],
   "source": [
    "import numpy as np    \n",
    "import sys as sys\n",
    "import matplotlib.pyplot as plt"
   ]
  },
  {
   "cell_type": "markdown",
   "metadata": {},
   "source": [
    "## Dataset\n",
    "Create a dataset with 1,000 1-D X and corresponding y values, each w/ a small amount of added uniform random noise (max val = 0.1).  (So unlike example in class which had a surface and 2 features, this is like the book example with a curve with 1 feature.)\n",
    "\n",
    "-  make X go from -5 to 5 (plus noise)\n",
    "-  make $y = 5 + 7x + 2x^2 - 0.5x^3$   (plus noise)"
   ]
  },
  {
   "cell_type": "code",
   "execution_count": 2,
   "metadata": {},
   "outputs": [
    {
     "data": {
      "image/png": "[encoded data removed]",
      "text/plain": [
       "<Figure size 432x288 with 1 Axes>"
      ]
     },
     "metadata": {
      "needs_background": "light"
     },
     "output_type": "display_data"
    }
   ],
   "source": [
    "def make_base_matrix():\n",
    "    X = np.transpose([np.linspace(-5, 5, 1000)])\n",
    "    Y = 5 + 7*X + 2*X**2 - 0.5*X**3\n",
    "\n",
    "    def add_noise_to_column(column):\n",
    "        for i in range(0, len(column)):\n",
    "            column[i] += np.random.random_sample()*0.1\n",
    "        return column\n",
    "\n",
    "    X = add_noise_to_column(X)\n",
    "    Y = add_noise_to_column(Y)\n",
    "\n",
    "    matrix = np.concatenate((X, Y), axis=1)#Create our starting dataset.\n",
    "    return matrix\n",
    "\n",
    "matrix = make_base_matrix()\n",
    "\n",
    "graph = plt.scatter(matrix[:,0], matrix[:,1])\n",
    "plt.xlabel(\"X Values\")\n",
    "plt.ylabel(\"Y Values\")\n",
    "plt.show(graph)"
   ]
  },
  {
   "cell_type": "markdown",
   "metadata": {},
   "source": [
    "## Augment X\n",
    "Write a function that adds new columns to the dataset of powers of X, up to and including $X^5$ (and don't forget the ones for the $\\theta_0$ term)."
   ]
  },
  {
   "cell_type": "code",
   "execution_count": 3,
   "metadata": {},
   "outputs": [
    {
     "name": "stdout",
     "output_type": "stream",
     "text": [
      "matrix shape: (1000, 8)\n"
     ]
    }
   ],
   "source": [
    "#VERSION 1\n",
    "def add_columns_of_powers(matrix, highest_power):\n",
    "    if len(matrix[0]) < highest_power+3:#Keeps this from getting run when it already has\n",
    "        X = matrix[:,0]\n",
    "        for current_power in range(0, highest_power+1):\n",
    "            power = (len(matrix[0]) - 2)#be dynamic, and fall into our pattern.\n",
    "            new_column = X**power\n",
    "            new_column = np.transpose([new_column])\n",
    "            matrix = np.concatenate((matrix, new_column), axis=1)\n",
    "    else:\n",
    "            return matrix\n",
    "    return matrix\n",
    "\n",
    "matrix = add_columns_of_powers(matrix, 5)\n",
    "print(\"matrix shape: \" + str(np.shape(matrix)))"
   ]
  },
  {
   "cell_type": "code",
   "execution_count": 4,
   "metadata": {},
   "outputs": [
    {
     "name": "stdout",
     "output_type": "stream",
     "text": [
      "[ 4.68454006e+00  6.80247544e+00  2.08672240e+00 -5.04357966e-01\n",
      " -4.75449478e-04  1.89867191e-04]\n"
     ]
    },
    {
     "data": {
      "image/png": "[encoded data removed]",
      "text/plain": [
       "<Figure size 432x288 with 1 Axes>"
      ]
     },
     "metadata": {
      "needs_background": "light"
     },
     "output_type": "display_data"
    }
   ],
   "source": [
    "#testing normal equation:\n",
    "powers = matrix[:,2:len(matrix)-2]\n",
    "theta_best = np.linalg.inv(np.transpose(powers).dot(powers)).dot(np.transpose(powers)).dot(matrix[:,1])\n",
    "print(theta_best)\n",
    "\n",
    "guesses = np.zeros(len(powers))\n",
    "for i in range(0, len(powers)):\n",
    "    guesses[i] = theta_best.dot(powers[i])\n",
    "\n",
    "normal_test = plt.scatter(matrix[:,0], guesses)\n",
    "plt.xlabel(\"X values\")\n",
    "plt.ylabel(\"Normal Equation guess\")\n",
    "plt.show(normal_test)"
   ]
  },
  {
   "cell_type": "markdown",
   "metadata": {},
   "source": [
    "## Fit a Polynomial Regression model to the training data\n",
    "Assume that we have a polynomial regression model\n",
    "\\begin{equation*}\n",
    "y(X;\\theta) = \\theta_0 + \\theta_1 x + \\theta_2 x^2 +\\theta_3 x^3 +\\theta_4 x^4 +\\theta_5 x^5 \n",
    "\\end{equation*}\n",
    "\n",
    "Assume that we're using a mean squared error function.\n",
    "\n",
    "-  Find the optimal value of theta (ie $\\theta_0$ through $\\theta_5$). Note: Refer to Ch. 4, Eqn's 4.6 and 4.7.\n",
    "\n",
    "-  Try this for a variety of different values of alpha.  Note how long it takes for the optimization to converge (or if it doesn't).\n"
   ]
  },
  {
   "cell_type": "code",
   "execution_count": 5,
   "metadata": {},
   "outputs": [
    {
     "name": "stdout",
     "output_type": "stream",
     "text": [
      "best theta:[ 0.40238358  0.28679138  1.60086192  0.45303052  0.03796393 -0.03043329]\n"
     ]
    }
   ],
   "source": [
    "#version with gradient cutoff\n",
    "def fit_theta(matrix, num_iterations=1000, learning_rate=0.1, gradient_cutoff = 9999):\n",
    "    \n",
    "    powers = matrix[:,2:len(matrix)-2]\n",
    "    y_values = matrix[:,1]\n",
    "    theta = np.zeros(len(powers[0]))\n",
    "    \n",
    "    def keep_iterating(gradient, gradient_cutoff):\n",
    "        for partialDerivative in range(0, len(gradient)):\n",
    "            if gradient[partialDerivative] > gradient_cutoff:\n",
    "                return False\n",
    "        return True\n",
    "        \n",
    "    for i in range(0, num_iterations):\n",
    "        gradient = 2/len(matrix)*np.transpose(powers).dot(powers.dot(theta) - y_values)#definition of gradient\n",
    "        if(keep_iterating(gradient, gradient_cutoff)):\n",
    "            theta = theta - (learning_rate*gradient)\n",
    "    return theta\n",
    "\n",
    "best_theta = fit_theta(matrix, 100000, .0000004)#tweaking the hyperparameters a lot can lead to better results\n",
    "print(\"best theta:\" + str(best_theta))"
   ]
  },
  {
   "cell_type": "markdown",
   "metadata": {},
   "source": [
    "## Plot the Final Model\n",
    "Make a plot showing the (X,y) data points of the training set, and superimpose the line for the model on the same plot."
   ]
  },
  {
   "cell_type": "code",
   "execution_count": 6,
   "metadata": {},
   "outputs": [
    {
     "data": {
      "image/png": "[encoded data removed]",
      "text/plain": [
       "<Figure size 432x288 with 1 Axes>"
      ]
     },
     "metadata": {
      "needs_background": "light"
     },
     "output_type": "display_data"
    },
    {
     "data": {
      "image/png": "[encoded data removed]",
      "text/plain": [
       "<Figure size 432x288 with 1 Axes>"
      ]
     },
     "metadata": {
      "needs_background": "light"
     },
     "output_type": "display_data"
    }
   ],
   "source": [
    "#get a list of guesses and graph them, then graph the truth\n",
    "\n",
    "def plot_model(matrix, theta):\n",
    "    \n",
    "    powers = matrix[:,2:len(matrix)-2]\n",
    "    \n",
    "    guesses = np.zeros(len(powers))\n",
    "    for i in range(0, len(powers)):\n",
    "        guesses[i] = best_theta.dot(powers[i])\n",
    "\n",
    "    guesses = plt.scatter(matrix[:,0], guesses)\n",
    "    plt.xlabel(\"x values\")\n",
    "    plt.ylabel(\"guesses\")\n",
    "    plt.show(guesses)\n",
    "\n",
    "    truth = plt.scatter(matrix[:,0], matrix[:,1])\n",
    "    plt.xlabel(\"x values\")\n",
    "    plt.ylabel(\"truth\")\n",
    "    plt.show(truth)\n",
    "\n",
    "plot_model(matrix, best_theta)"
   ]
  },
  {
   "cell_type": "markdown",
   "metadata": {},
   "source": [
    "## Different Model Degrees\n",
    "Try the model for different degrees of n, specifically n = (2, 5, 10).  Plot the resulting models."
   ]
  },
  {
   "cell_type": "code",
   "execution_count": 9,
   "metadata": {},
   "outputs": [
    {
     "name": "stdout",
     "output_type": "stream",
     "text": [
      "(1000, 5)\n"
     ]
    }
   ],
   "source": [
    "matrix2 = make_base_matrix()\n",
    "matrix2 = add_columns_of_powers(matrix2, 2)\n",
    "\n",
    "print(np.shape(matrix2))"
   ]
  }
 ],
 "metadata": {
  "kernelspec": {
   "display_name": "Python 3",
   "language": "python",
   "name": "python3"
  },
  "language_info": {
   "codemirror_mode": {
    "name": "ipython",
    "version": 3
   },
   "file_extension": ".py",
   "mimetype": "text/x-python",
   "name": "python",
   "nbconvert_exporter": "python",
   "pygments_lexer": "ipython3",
   "version": "3.7.4"
  }
 },
 "nbformat": 4,
 "nbformat_minor": 2
}
